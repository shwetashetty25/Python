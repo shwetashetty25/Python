{
 "cells": [
  {
   "cell_type": "code",
   "execution_count": 1,
   "metadata": {},
   "outputs": [
    {
     "name": "stdout",
     "output_type": "stream",
     "text": [
      "{'suchita', 'shweta', 'shetty'}\n"
     ]
    }
   ],
   "source": [
    "# set: \n",
    "s={\"shweta\",\"suchita\",\"shetty\",\"shweta\"}\n",
    "print(s)"
   ]
  },
  {
   "cell_type": "code",
   "execution_count": 2,
   "metadata": {},
   "outputs": [
    {
     "name": "stdout",
     "output_type": "stream",
     "text": [
      "{False, 'Carla', 19, 5.9}\n"
     ]
    }
   ],
   "source": [
    "# set:\n",
    "info={\"Carla\",19,False,5.9,19}\n",
    "print(info)"
   ]
  },
  {
   "cell_type": "code",
   "execution_count": 3,
   "metadata": {},
   "outputs": [
    {
     "name": "stdout",
     "output_type": "stream",
     "text": [
      "<class 'dict'>\n",
      "<class 'set'>\n"
     ]
    }
   ],
   "source": [
    "# to creat an empty set,we cannot use empty curly brackets\n",
    "harry={}\n",
    "print(type(harry))\n",
    "\n",
    "# instead, we have to use set()\n",
    "harry=set()\n",
    "print(type(harry))"
   ]
  },
  {
   "cell_type": "code",
   "execution_count": 4,
   "metadata": {},
   "outputs": [
    {
     "name": "stdout",
     "output_type": "stream",
     "text": [
      "<class 'set'>\n",
      "1\n",
      "2\n",
      "3\n",
      "4\n",
      "Shweta\n"
     ]
    }
   ],
   "source": [
    "# sets:\n",
    "s={1,2,3,4,\"Shweta\"}\n",
    "print(type(s))\n",
    "for items in s:\n",
    "    print(items)"
   ]
  },
  {
   "cell_type": "code",
   "execution_count": 5,
   "metadata": {},
   "outputs": [
    {
     "name": "stdout",
     "output_type": "stream",
     "text": [
      "{'APT', 'Mars', 'Python', 'Blue', 'Rose', 'Bruno', 'Park'}\n",
      "{'Mars', 'Park'}\n",
      "{'Rose', 'Mars', 'Bruno', 'Park'} {'Python', 'Mars', 'Blue', 'APT', 'Park'}\n"
     ]
    }
   ],
   "source": [
    "# set method:\n",
    "s1={\"Bruno\",\"Mars\",\"Rose\",\"Park\"}\n",
    "s2={\"APT\",\"Blue\",\"Python\",\"Park\",\"Mars\"}\n",
    "print(s1.union(s2))\n",
    "print(s1.intersection(s2))\n",
    "print(s1,s2)\n",
    "s1.update(s2)"
   ]
  },
  {
   "cell_type": "code",
   "execution_count": 6,
   "metadata": {},
   "outputs": [
    {
     "name": "stdout",
     "output_type": "stream",
     "text": [
      "['kharghar', 'delhi', 'mumbai', 'pune']\n",
      "<class 'list'>\n",
      "['delhi', 'mumbai', 'pune']\n"
     ]
    }
   ],
   "source": [
    "# list: for removing any element, we can use remove or discard:\n",
    "cities=[\"kharghar\",\"delhi\",\"mumbai\",\"pune\"]\n",
    "print(cities)\n",
    "print(type(cities))\n",
    "cities.remove(\"kharghar\")\n",
    "print(cities)"
   ]
  },
  {
   "cell_type": "code",
   "execution_count": 7,
   "metadata": {},
   "outputs": [
    {
     "name": "stdout",
     "output_type": "stream",
     "text": [
      "set()\n"
     ]
    }
   ],
   "source": [
    "cities={\"kharghar\",\"delhi\",\"mumbai\",\"pune\"}\n",
    "cities.clear()\n",
    "print(cities)"
   ]
  },
  {
   "cell_type": "code",
   "execution_count": 8,
   "metadata": {},
   "outputs": [
    {
     "name": "stdout",
     "output_type": "stream",
     "text": [
      "{'delhi', 'kharghar', 'mumbai'}\n"
     ]
    }
   ],
   "source": [
    "cities={\"kharghar\",\"delhi\",\"mumbai\",\"pune\"}\n",
    "cities.pop()\n",
    "print(cities)"
   ]
  },
  {
   "cell_type": "code",
   "execution_count": 9,
   "metadata": {},
   "outputs": [
    {
     "name": "stdout",
     "output_type": "stream",
     "text": [
      "{'Paris', 'delhi', 'London', 'Dubai', 'pune', 'mumbai', 'New york', 'kharghar'}\n"
     ]
    }
   ],
   "source": [
    "cities1={\"New york\",\"London\",\"Paris\",\"Dubai\"}\n",
    "cities2={\"kharghar\",\"delhi\",\"mumbai\",\"pune\"}\n",
    "print(cities1.union(cities2))\n"
   ]
  },
  {
   "cell_type": "code",
   "execution_count": 10,
   "metadata": {},
   "outputs": [
    {
     "name": "stdout",
     "output_type": "stream",
     "text": [
      "{'tokyo', 'madrid'}\n"
     ]
    }
   ],
   "source": [
    "cities={\"tokyo\",\"madrid\",\"berlin\",\"delhi\"}\n",
    "cities2={\"tokyo\",\"seoul\",\"kabul\",\"madrid\"}\n",
    "cities.intersection_update(cities2)\n",
    "print(cities)"
   ]
  },
  {
   "cell_type": "code",
   "execution_count": 11,
   "metadata": {},
   "outputs": [
    {
     "name": "stdout",
     "output_type": "stream",
     "text": [
      "{'berlin', 'banglore', 'gujrat', 'beijing'}\n"
     ]
    }
   ],
   "source": [
    "city1={\"seoul\",\"banglore\",\"chennai\",\"gujrat\"}\n",
    "city2={\"berlin\",\"beijing\",\"seoul\",\"chennai\"}\n",
    "cities3=city1.symmetric_difference(city2)                                \n",
    "print(cities3)"
   ]
  }
 ],
 "metadata": {
  "kernelspec": {
   "display_name": "Python 3",
   "language": "python",
   "name": "python3"
  },
  "language_info": {
   "codemirror_mode": {
    "name": "ipython",
    "version": 3
   },
   "file_extension": ".py",
   "mimetype": "text/x-python",
   "name": "python",
   "nbconvert_exporter": "python",
   "pygments_lexer": "ipython3",
   "version": "3.13.0"
  }
 },
 "nbformat": 4,
 "nbformat_minor": 2
}
