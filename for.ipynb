{
 "cells": [
  {
   "cell_type": "code",
   "execution_count": 3,
   "metadata": {},
   "outputs": [
    {
     "name": "stdout",
     "output_type": "stream",
     "text": [
      "20 found in the list.\n"
     ]
    }
   ],
   "source": [
    "#WAP to search an element in a list [use for: else clause]\n",
    "my_list = [10, 20, 30, 40, 50]\n",
    "search_element = int(input(\"Enter the element to search: \"))\n",
    "for i in my_list:\n",
    "    if i == search_element:\n",
    "        print(f\"{search_element} found in the list.\")\n",
    "        break\n",
    "else:\n",
    "    print(f\"{search_element} not found in the list.\")"
   ]
  },
  {
   "cell_type": "code",
   "execution_count": 4,
   "metadata": {},
   "outputs": [
    {
     "name": "stdout",
     "output_type": "stream",
     "text": [
      "The factorial of  1 is : 1\n",
      "The factorial of  2 is : 2\n",
      "The factorial of  3 is : 6\n",
      "The factorial of  4 is : 24\n"
     ]
    }
   ],
   "source": [
    "def fact(num):\n",
    "    result=1\n",
    "    while num>=1:\n",
    "        result=result*num\n",
    "        num=num-1\n",
    "    return result   \n",
    "for i in range(1,5):\n",
    "    print(\"The factorial of \",i,\"is :\",fact(i))"
   ]
  },
  {
   "cell_type": "code",
   "execution_count": 5,
   "metadata": {},
   "outputs": [
    {
     "name": "stdout",
     "output_type": "stream",
     "text": [
      "The result of Addition,subtraction,multiplication,division are respectively\n",
      "130\n",
      "70\n",
      "3000\n",
      "3.3333333333333335\n"
     ]
    }
   ],
   "source": [
    "def calc(a,b):\n",
    "    add=a+b\n",
    "    sub=a-b\n",
    "    mul=a*b\n",
    "    div=a/b\n",
    "    return add,sub,mul,div\n",
    "t=calc(100,30)\n",
    "print(\"The result of Addition,subtraction,multiplication,division are respectively\")\n",
    "for i in t:\n",
    "    print(i)"
   ]
  },
  {
   "cell_type": "code",
   "execution_count": 6,
   "metadata": {},
   "outputs": [
    {
     "name": "stdout",
     "output_type": "stream",
     "text": [
      "10 \n",
      "10 20 \n",
      "10 20 30 \n"
     ]
    }
   ],
   "source": [
    "def func1(arg1,*var_arg):\n",
    "    print(arg1, end=\" \")\n",
    "    for i in var_arg:\n",
    "        print(i, end=\" \")\n",
    "    print()\n",
    "\n",
    "func1(10)\n",
    "func1(10,20)\n",
    "func1(10,20,30)"
   ]
  },
  {
   "cell_type": "code",
   "execution_count": 7,
   "metadata": {},
   "outputs": [],
   "source": [
    "def func_kwarg(**data):\n",
    "    print(\"\\nData type of argument:\",type={data})\n",
    "    for key,value in data.items():\n",
    "        print(\"{} is {}\".format(key,value))\n",
    "        func_kwarg(Firstname = \"Sita\", Lastname= \"Sharma\", Age=\"22\", Phone= 1234567890)\n",
    "        func_kwarg(Firstname=\"John\" , Lastname= \"Norton\" ,Email=\"john@gmail.com\" , Country=\"India\" , Age=\"25\" , Phone=1234567890)"
   ]
  },
  {
   "cell_type": "code",
   "execution_count": 8,
   "metadata": {},
   "outputs": [
    {
     "name": "stdout",
     "output_type": "stream",
     "text": [
      "0  3  4  8  0  "
     ]
    }
   ],
   "source": [
    "from random import*\n",
    "for i in range(5):\n",
    "     print(randrange(10), end='  ')"
   ]
  }
 ],
 "metadata": {
  "kernelspec": {
   "display_name": "Python 3",
   "language": "python",
   "name": "python3"
  },
  "language_info": {
   "codemirror_mode": {
    "name": "ipython",
    "version": 3
   },
   "file_extension": ".py",
   "mimetype": "text/x-python",
   "name": "python",
   "nbconvert_exporter": "python",
   "pygments_lexer": "ipython3",
   "version": "3.13.0"
  }
 },
 "nbformat": 4,
 "nbformat_minor": 2
}
