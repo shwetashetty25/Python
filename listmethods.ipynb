{
 "cells": [
  {
   "cell_type": "code",
   "execution_count": 1,
   "metadata": {},
   "outputs": [
    {
     "name": "stdout",
     "output_type": "stream",
     "text": [
      "[20, 23, 24, 21]\n",
      "20\n",
      "<class 'list'>\n",
      "23\n",
      "21\n"
     ]
    }
   ],
   "source": [
    "# LISTS:\n",
    "marks=[20,23,24,21]\n",
    "print(marks)\n",
    "print(marks[0])\n",
    "print(type(marks))\n",
    "print(marks[-3])\n",
    "print(marks[len(marks)-1])\n"
   ]
  },
  {
   "cell_type": "code",
   "execution_count": 2,
   "metadata": {},
   "outputs": [
    {
     "name": "stdout",
     "output_type": "stream",
     "text": [
      "YES!\n"
     ]
    }
   ],
   "source": [
    "# LISTS:\n",
    "colors=[\"RED\",\"BLUE\",\"GREEN\",\"PINK\"]\n",
    "if \"PINK\" in colors:\n",
    "    print(\"YES!\")\n",
    "else:\n",
    "    print(\"NO\")"
   ]
  },
  {
   "cell_type": "code",
   "execution_count": 3,
   "metadata": {},
   "outputs": [
    {
     "name": "stdout",
     "output_type": "stream",
     "text": [
      "[45, 86, 67, 567]\n"
     ]
    }
   ],
   "source": [
    "# LISTS:within a particular range:\n",
    "list=[21,34,54,72,93,45,86,67,567,78,78]\n",
    "print(list[5:9])"
   ]
  },
  {
   "cell_type": "code",
   "execution_count": 4,
   "metadata": {},
   "outputs": [
    {
     "name": "stdout",
     "output_type": "stream",
     "text": [
      "[0, 4, 16, 36, 64]\n"
     ]
    }
   ],
   "source": [
    "# LIST COMPREHENSIONS:\n",
    "lst=[ i*i for i in range(10) if (i%2==0)]\n",
    "print(lst)"
   ]
  },
  {
   "cell_type": "code",
   "execution_count": 5,
   "metadata": {},
   "outputs": [
    {
     "name": "stdout",
     "output_type": "stream",
     "text": [
      "['Sakshi', 'Ralliyah', 'Shweta']\n"
     ]
    }
   ],
   "source": [
    "# LIST COMPREHENSION:\n",
    "name=[\"Sakshi\",\"Nupur\",\"Ralliyah\",\"Shweta\"]\n",
    "namesWith_0=[item for item in name if (len(item)>5)]\n",
    "print(namesWith_0)"
   ]
  },
  {
   "cell_type": "code",
   "execution_count": 6,
   "metadata": {},
   "outputs": [
    {
     "name": "stdout",
     "output_type": "stream",
     "text": [
      "[10, 23, 21, 20, 90, 40, 50, 11, 1011]\n"
     ]
    }
   ],
   "source": [
    "# LIST METHOD:append()\n",
    "a=[10,23,21,20,90,40,50,11]\n",
    "a.append(1011)\n",
    "print(a)"
   ]
  },
  {
   "cell_type": "code",
   "execution_count": 7,
   "metadata": {},
   "outputs": [
    {
     "name": "stdout",
     "output_type": "stream",
     "text": [
      "[10, 11, 20, 21, 23, 40, 50, 90]\n"
     ]
    }
   ],
   "source": [
    "# list method:sort()\n",
    "a=[10,23,21,20,90,40,50,11]\n",
    "a.sort()\n",
    "print(a)\n"
   ]
  },
  {
   "cell_type": "code",
   "execution_count": 8,
   "metadata": {},
   "outputs": [
    {
     "name": "stdout",
     "output_type": "stream",
     "text": [
      "1\n"
     ]
    }
   ],
   "source": [
    "# list method:index()\n",
    "a=[10,1,23,21,20,90,40,50,11,10]\n",
    "print(a.index(1))"
   ]
  },
  {
   "cell_type": "code",
   "execution_count": 9,
   "metadata": {},
   "outputs": [
    {
     "name": "stdout",
     "output_type": "stream",
     "text": [
      "3\n"
     ]
    }
   ],
   "source": [
    "# list method:count()\n",
    "a=[10,1,23,21,20,90,40,50,11,10,10]\n",
    "print(a.count(10))"
   ]
  },
  {
   "cell_type": "code",
   "execution_count": 10,
   "metadata": {},
   "outputs": [
    {
     "name": "stdout",
     "output_type": "stream",
     "text": [
      "['Nupur', 'Sakshi', 'Ralliyah']\n",
      "['Nupur', 'Sakshi', 'Ralliyah']\n"
     ]
    }
   ],
   "source": [
    "# list method:copy()\n",
    "l=[\"Nupur\",\"Sakshi\",\"Ralliyah\"]\n",
    "newlist=l.copy()\n",
    "print(l)\n",
    "print(newlist)"
   ]
  },
  {
   "cell_type": "code",
   "execution_count": 11,
   "metadata": {},
   "outputs": [
    {
     "name": "stdout",
     "output_type": "stream",
     "text": [
      "['shweta', 'suchita', 'shetty']\n"
     ]
    }
   ],
   "source": [
    "# list method:insert()\n",
    "l=[\"shweta\",\"suchita\"]\n",
    "l.insert(2,\"shetty\")\n",
    "print(l)"
   ]
  },
  {
   "cell_type": "code",
   "execution_count": 12,
   "metadata": {},
   "outputs": [
    {
     "name": "stdout",
     "output_type": "stream",
     "text": [
      "[12, 32, 34, 56, 78, 80]\n",
      "[12, 32, 34, 56, 78, 80, 900, 1000, 2300, 4002]\n"
     ]
    }
   ],
   "source": [
    "# list method:extend()\n",
    "l=[12,32,34,56,78,80]\n",
    "print(l)\n",
    "m=[900,1000,2300,4002]\n",
    "l.extend(m)\n",
    "print(l)"
   ]
  }
 ],
 "metadata": {
  "kernelspec": {
   "display_name": "Python 3",
   "language": "python",
   "name": "python3"
  },
  "language_info": {
   "codemirror_mode": {
    "name": "ipython",
    "version": 3
   },
   "file_extension": ".py",
   "mimetype": "text/x-python",
   "name": "python",
   "nbconvert_exporter": "python",
   "pygments_lexer": "ipython3",
   "version": "3.13.0"
  }
 },
 "nbformat": 4,
 "nbformat_minor": 2
}
