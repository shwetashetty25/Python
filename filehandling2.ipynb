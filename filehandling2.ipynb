{
 "cells": [
  {
   "cell_type": "code",
   "execution_count": 1,
   "metadata": {},
   "outputs": [
    {
     "name": "stdout",
     "output_type": "stream",
     "text": [
      "Apple\n",
      "Cherry\n",
      "Banana\n"
     ]
    }
   ],
   "source": [
    "#readline() TO read data\n",
    "f=open(\"abcd1.txt\",\"w\")\n",
    "list=[\"Apple\\n\",\"Cherry\\n\",\"Banana\\n\",\":Grapes\\n\"]\n",
    "f.writelines(list)\n",
    "\n",
    "f=open(\"abcd1.txt\",\"r\")\n",
    "line1=f.readline()\n",
    "print(line1,end='')\n",
    "line2=f.readline()\n",
    "print(line2,end='')\n",
    "line3=f.readline()\n",
    "print(line3,end='')\n",
    "f.close()"
   ]
  },
  {
   "cell_type": "code",
   "execution_count": 2,
   "metadata": {},
   "outputs": [
    {
     "name": "stdout",
     "output_type": "stream",
     "text": [
      "Welcome to the world of programming\n",
      "Happy programming\n"
     ]
    }
   ],
   "source": [
    "with open(\"with_file.txt\", \"w\") as f:\n",
    "    f.write(\"Welcome to the world of programming\\n\")\n",
    "    f.write(\"Happy programming\")\n",
    "with open(\"with_file.txt\",\"r\") as f:\n",
    "    print(f.read())"
   ]
  },
  {
   "cell_type": "code",
   "execution_count": 3,
   "metadata": {},
   "outputs": [
    {
     "name": "stdout",
     "output_type": "stream",
     "text": [
      "0\n",
      "We\n",
      "2\n",
      "lco\n",
      "5\n"
     ]
    }
   ],
   "source": [
    "f=open(\"with_file.txt\",\"r\")\n",
    "print(f.tell())\n",
    "print(f.read(2))\n",
    "print(f.tell())\n",
    "print(f.read(3))\n",
    "print(f.tell())"
   ]
  },
  {
   "cell_type": "code",
   "execution_count": 4,
   "metadata": {},
   "outputs": [
    {
     "name": "stdout",
     "output_type": "stream",
     "text": [
      "Have a Nice day\n",
      "The current cursor position: 15\n",
      "The current position:  7\n",
      "Data after modification:\n",
      "Have a Good day\n"
     ]
    }
   ],
   "source": [
    "data=\"Have a Nice day\"\n",
    "f=open(\"abcd.txt\",\"w\")\n",
    "f.write(data)\n",
    "f.close()\n",
    "with open(\"abcd.txt\", \"r+\") as f:\n",
    "    text=f.read()\n",
    "    print(text)\n",
    "    print(\"The current cursor position:\", f.tell())\n",
    "    f.seek(7)\n",
    "    print(\"The current position: \",f.tell())\n",
    "    f.write(\"Good\")\n",
    "    f.seek(0)\n",
    "    text=f.read()\n",
    "    print(\"Data after modification:\")\n",
    "    print(text)"
   ]
  },
  {
   "cell_type": "code",
   "execution_count": 5,
   "metadata": {},
   "outputs": [
    {
     "name": "stdout",
     "output_type": "stream",
     "text": [
      "This is a sample file\n",
      "for r+ mode\n",
      "Overactingsample file\n",
      "for r+ mode\n"
     ]
    }
   ],
   "source": [
    "with open(\"Rplus_mode321.txt\", 'r+') as f:\n",
    "    f.write(\"This is a sample file\\n\")\n",
    "    f.write(\"for r+ mode\")\n",
    "    f.seek(0)\n",
    "    print(f.read())\n",
    "    f.seek(0)\n",
    "    f.write(\"Overacting\")\n",
    "    f.seek(0)\n",
    "    print(f.read())"
   ]
  },
  {
   "cell_type": "code",
   "execution_count": null,
   "metadata": {},
   "outputs": [],
   "source": []
  }
 ],
 "metadata": {
  "kernelspec": {
   "display_name": "Python 3",
   "language": "python",
   "name": "python3"
  },
  "language_info": {
   "codemirror_mode": {
    "name": "ipython",
    "version": 3
   },
   "file_extension": ".py",
   "mimetype": "text/x-python",
   "name": "python",
   "nbconvert_exporter": "python",
   "pygments_lexer": "ipython3",
   "version": "3.13.0"
  }
 },
 "nbformat": 4,
 "nbformat_minor": 2
}
