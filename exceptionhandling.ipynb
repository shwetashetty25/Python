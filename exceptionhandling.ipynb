{
 "cells": [
  {
   "cell_type": "code",
   "execution_count": 1,
   "metadata": {},
   "outputs": [
    {
     "name": "stdout",
     "output_type": "stream",
     "text": [
      "Type appropriate: not enough values to unpack (expected 2, got 1)\n"
     ]
    }
   ],
   "source": [
    "try:\n",
    "    x,y=input(\"Enter two num\").split()\n",
    "    x=int(x)\n",
    "    y=int(y)\n",
    "    print(x/y)\n",
    "except ZeroDivisionError as msg:\n",
    "    print(\"y should not be zero:\", msg)\n",
    "except ValueError as msg:\n",
    "    print(\"Type appropriate:\",msg)"
   ]
  },
  {
   "cell_type": "code",
   "execution_count": 2,
   "metadata": {},
   "outputs": [
    {
     "name": "stdout",
     "output_type": "stream",
     "text": [
      "y shouldnot be zero : division by zero\n"
     ]
    }
   ],
   "source": [
    "try:\n",
    "    x,y=10,0\n",
    "    print(x/y)\n",
    "except ZeroDivisionError as msg:\n",
    "    print(\"y shouldnot be zero :\", msg)\n",
    "    "
   ]
  },
  {
   "cell_type": "code",
   "execution_count": 3,
   "metadata": {},
   "outputs": [
    {
     "name": "stdout",
     "output_type": "stream",
     "text": [
      "0.75\n"
     ]
    }
   ],
   "source": [
    "try:\n",
    "    x,y=input(\"Enter two no.\").split()\n",
    "    x=int(x)\n",
    "    y=int(y)\n",
    "    print(x/y)\n",
    "except ArithmeticError as msg:\n",
    "    print(\"Arithmetic:\", msg)\n",
    "except ZeroDivisionError as msg:\n",
    "    print(\"y should not be zero:\", msg)\n"
   ]
  },
  {
   "cell_type": "code",
   "execution_count": 4,
   "metadata": {},
   "outputs": [
    {
     "name": "stdout",
     "output_type": "stream",
     "text": [
      "try\n",
      "except\n",
      "finally\n"
     ]
    }
   ],
   "source": [
    "# with exception\n",
    "try:\n",
    "    print(\"try\")\n",
    "    print(10/0)\n",
    "except:\n",
    "    print(\"except\")\n",
    "else:\n",
    "    print(\"else\")\n",
    "finally:\n",
    "    print(\"finally\")"
   ]
  },
  {
   "cell_type": "code",
   "execution_count": 5,
   "metadata": {},
   "outputs": [
    {
     "name": "stdout",
     "output_type": "stream",
     "text": [
      "try\n",
      "else\n",
      "finally\n"
     ]
    }
   ],
   "source": [
    "try:\n",
    "    print(\"try\")\n",
    "except:\n",
    "    print(\"except\")\n",
    "else:\n",
    "    print(\"else\")\n",
    "finally:\n",
    "    print(\"finally\")"
   ]
  },
  {
   "cell_type": "code",
   "execution_count": 6,
   "metadata": {},
   "outputs": [
    {
     "name": "stdout",
     "output_type": "stream",
     "text": [
      "0.8\n"
     ]
    }
   ],
   "source": [
    "try:\n",
    "    x,y=input(\"Enter two num\").split()\n",
    "    x=int(x)\n",
    "    y=int(y)\n",
    "    print(x/y)\n",
    "except(ZeroDivisionError, ValueError)as msg:\n",
    "    print(msg)"
   ]
  },
  {
   "cell_type": "code",
   "execution_count": 7,
   "metadata": {},
   "outputs": [
    {
     "name": "stdout",
     "output_type": "stream",
     "text": [
      "0.6666666666666666\n",
      "Other errors\n"
     ]
    }
   ],
   "source": [
    "try:\n",
    "    x,y=input(\"Enter two num\").split()\n",
    "    x=int(x)\n",
    "    y=int(y)\n",
    "    print(x/y)\n",
    "    z=z%4\n",
    "    a=\"two\"+1\n",
    "    a+=1\n",
    "except ZeroDivisionError as msg:\n",
    "    print(\"y should not be zero:\", msg)\n",
    "except ValueError as msg:\n",
    "    print(\"Type appropriate:\",msg)\n",
    "except:\n",
    "    print(\"Other errors\")\n",
    "    "
   ]
  }
 ],
 "metadata": {
  "kernelspec": {
   "display_name": "Python 3",
   "language": "python",
   "name": "python3"
  },
  "language_info": {
   "codemirror_mode": {
    "name": "ipython",
    "version": 3
   },
   "file_extension": ".py",
   "mimetype": "text/x-python",
   "name": "python",
   "nbconvert_exporter": "python",
   "pygments_lexer": "ipython3",
   "version": "3.13.0"
  }
 },
 "nbformat": 4,
 "nbformat_minor": 2
}
