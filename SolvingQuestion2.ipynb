{
 "cells": [
  {
   "cell_type": "code",
   "execution_count": 3,
   "metadata": {},
   "outputs": [
    {
     "name": "stdout",
     "output_type": "stream",
     "text": [
      "No. of Upper case chracters : 3\n",
      "No. of Lower case characters 12\n"
     ]
    }
   ],
   "source": [
    "# 1.Write a Python function that accepts a string and counts the number of upper and lowercase letters.\n",
    "# Sample String : 'The quick Brow Fox'\n",
    "# Expected Output :\n",
    "# No. of Upper case characters : 3\n",
    "# No. of Lower case Characters : 12\n",
    "def count_upp_low(text):\n",
    "    upp = 0\n",
    "    low = 0\n",
    "    for c in text:\n",
    "        if c.isupper():\n",
    "            upp += 1\n",
    "        elif c.islower():\n",
    "            low += 1\n",
    "    return upp, low\n",
    "\n",
    "txt = input(\"Enter String Here\")\n",
    "u, l = count_upp_low(txt)\n",
    "print(\"No. of Upper case chracters :\", u)\n",
    "print(\"No. of Lower case characters\" ,l)"
   ]
  },
  {
   "cell_type": "code",
   "execution_count": 8,
   "metadata": {},
   "outputs": [
    {
     "name": "stdout",
     "output_type": "stream",
     "text": [
      "Unique List: [1, 2, 3, 4, 5]\n"
     ]
    }
   ],
   "source": [
    "# 2.Write a Python function that takes a list and returns a new list with distinct elements from the first list.\n",
    "# Sample List : [1,2,3,3,3,3,4,5]\n",
    "# Unique List : [1, 2, 3, 4, 5]\n",
    "def unique_elements(lst):\n",
    "    return list(set(lst))\n",
    "a = input(\"Enter numbers separated by commas: \")\n",
    "b = [int(num) for num in a.split(\",\")]\n",
    "b = unique_elements(b)\n",
    "print(\"Unique List:\", b)"
   ]
  },
  {
   "cell_type": "code",
   "execution_count": 13,
   "metadata": {},
   "outputs": [
    {
     "name": "stdout",
     "output_type": "stream",
     "text": [
      "6 is a perfect number\n"
     ]
    }
   ],
   "source": [
    "# 3.Write a Python function to check whether a number is \"Perfect\" or not.\n",
    "# Hint: In number theory, a perfect number is a positive integer that is equal to the sum of\n",
    "# its proper positive divisors, that is, the sum of its positive divisors excluding the number\n",
    "# itself (also known as its aliquot sum). Equivalently, a perfect number is a number that is\n",
    "# half the sum of all of its positive divisors (including itself).\n",
    "# Example : The first perfect number is 6, because 1, 2, and 3 are its proper positive\n",
    "# divisors, and 1 + 2 + 3 = 6. Equivalently, the number 6 is equal to half the sum of all its\n",
    "# positive divisors: ( 1 + 2 + 3 + 6 ) / 2 = 6. The next perfect number is 28 = 1 + 2 + 4 + 7 +\n",
    "# 14. This is followed by the perfect numbers 496 and 8128.\n",
    "def is_perfect_number(n):\n",
    "    if n <= 1:\n",
    "        return False\n",
    "    divisors = []\n",
    "    for i in range(1, n):\n",
    "        if n % i == 0:\n",
    "            divisors.append(i)\n",
    "    return sum(divisors) == n\n",
    "\n",
    "# Test the function\n",
    "num = int(input(\"Enter a number: \"))\n",
    "if is_perfect_number(num):\n",
    "    print(num, \"is a perfect number\")\n",
    "else:\n",
    "    print(num, \"is not a perfect number\")"
   ]
  },
  {
   "cell_type": "code",
   "execution_count": 16,
   "metadata": {},
   "outputs": [
    {
     "name": "stdout",
     "output_type": "stream",
     "text": [
      "are-hello-how-you\n"
     ]
    }
   ],
   "source": [
    "# 4. Write a Python program that accepts a hyphen-separated sequence of words as input and prints the words in a hyphen-separated sequence after sorting them alphabetically.\n",
    "a = input(\"Enter words with hypen\")\n",
    "b = a.split('-')\n",
    "c = sorted(b)\n",
    "d = '-'.join(c)\n",
    "print(d)\n",
    "#Given input was \"hello-how-are-you\""
   ]
  },
  {
   "cell_type": "code",
   "execution_count": 18,
   "metadata": {},
   "outputs": [
    {
     "name": "stdout",
     "output_type": "stream",
     "text": [
      "15\n"
     ]
    }
   ],
   "source": [
    "# 5. WAP to demonstrate the functionality of positional argument in functions\n",
    "def add(a, b):\n",
    "    return a + b\n",
    "x = int(input(\"Enter the first number: \"))\n",
    "y = int(input(\"Enter the second number: \"))\n",
    "result = add(x, y)\n",
    "print(result)\n",
    "#Given input first number was 5 and second was 10\n"
   ]
  },
  {
   "cell_type": "code",
   "execution_count": 1,
   "metadata": {},
   "outputs": [
    {
     "name": "stdout",
     "output_type": "stream",
     "text": [
      "My name is Shweta and I am 18 years old.\n"
     ]
    }
   ],
   "source": [
    "# 6. WAP to demonstrate the functionality of keyword argument in functions\n",
    "def introduce(name, age):\n",
    "    return f\"My name is {name} and I am {age} years old.\"\n",
    "x = input(\"Enter your name: \")\n",
    "y = input(\"Enter your age: \")\n",
    "result = introduce(name=x, age=y)\n",
    "print(result)\n",
    "# Given input name was shweta and age was 18"
   ]
  },
  {
   "cell_type": "code",
   "execution_count": 3,
   "metadata": {},
   "outputs": [
    {
     "name": "stdout",
     "output_type": "stream",
     "text": [
      "I have a Dog named Bruno.\n"
     ]
    }
   ],
   "source": [
    "# 7. WAP to demonstrate how positional arguments and keyword arguments can be used in functions\n",
    "def describe_pet(pet_name, animal_type=\"dog\"):\n",
    "    return f\"I have a {animal_type} named {pet_name}.\"\n",
    "a = input(\"Enter the pet's name: \")\n",
    "b = input(\"Enter the type of animal: \")\n",
    "if b == \"\":\n",
    "    result = describe_pet(a)\n",
    "else:\n",
    "    result = describe_pet(a, b)\n",
    "print(result)\n",
    "# Given input as pet_name was Bruno and type was Dog"
   ]
  },
  {
   "cell_type": "code",
   "execution_count": 4,
   "metadata": {},
   "outputs": [
    {
     "name": "stdout",
     "output_type": "stream",
     "text": [
      "Hello, Shweta!\n"
     ]
    }
   ],
   "source": [
    "# 8. WAP to demonstrate the functionality of default argument in functions\n",
    "def greet(name, message=\"Hello\"):\n",
    "    return f\"{message}, {name}!\"\n",
    "a = input(\"Enter your name: \")\n",
    "b = input(\"Enter a greeting message (or press Enter to use the default): \")\n",
    "if b == \"\":\n",
    "    result = greet(a)\n",
    "else:\n",
    "    result = greet(a, b)\n",
    "print(result)\n",
    "# Given input of name was \"Shweta\" and greeting message was \"Hello!\""
   ]
  },
  {
   "cell_type": "code",
   "execution_count": 5,
   "metadata": {},
   "outputs": [
    {
     "name": "stdout",
     "output_type": "stream",
     "text": [
      "Shweta is here-Hello shweta-byee byee\n"
     ]
    }
   ],
   "source": [
    "# 9. WAP to demonstrate how variable length arguments are used in functions.\n",
    "def concatenate(*args):\n",
    "    return '-'.join(args)\n",
    "\n",
    "a = input(\"Enter the first string: \")\n",
    "b = input(\"Enter the second string: \")\n",
    "c = input(\"Enter the third string (or press Enter to skip): \")\n",
    "\n",
    "result = concatenate(a, b, c) if c else concatenate(a, b)\n",
    "print(result)\n",
    "# First input was \"Shweta is here\" second was \"Hello Shweta\" and third was \"bye bye\""
   ]
  },
  {
   "cell_type": "code",
   "execution_count": 6,
   "metadata": {},
   "outputs": [
    {
     "name": "stdout",
     "output_type": "stream",
     "text": [
      "name is Shweta, age is 18, city is kharghar\n"
     ]
    }
   ],
   "source": [
    "# 10. WAP to demonstrate how variable length keyword arguments are used in functions.\n",
    "def describe(**kwargs):\n",
    "    result = []\n",
    "    for key, value in kwargs.items():\n",
    "        result.append(f\"{key} is {value}\")\n",
    "    return ', '.join(result)\n",
    "a = input(\"Enter your name: \")\n",
    "b = input(\"Enter your age: \")\n",
    "c = input(\"Enter your city (or press Enter to skip): \")\n",
    "if c:\n",
    "    result = describe(name=a, age=b, city=c)\n",
    "else:\n",
    "    result = describe(name=a, age=b)\n",
    "print(result)\n",
    "# Given input as name was \"Shweta\" and age was \"18\" and city was \"Kharghar\""
   ]
  },
  {
   "cell_type": "code",
   "execution_count": 26,
   "metadata": {},
   "outputs": [
    {
     "name": "stdout",
     "output_type": "stream",
     "text": [
      "Addition: 30\n",
      "Subtraction: -10\n",
      "Multiplication: 200\n",
      "Division: 0.5\n"
     ]
    }
   ],
   "source": [
    "# 11. WAP to demonstrate how to create your own modules for common mathematical operations and import it and use it.\n",
    "import mymaths\n",
    "\n",
    "a = int(input(\"Enter the first number: \"))\n",
    "b = int(input(\"Enter the second number: \"))\n",
    "\n",
    "print(\"Addition:\", mymaths.add(a, b))\n",
    "print(\"Subtraction:\", mymaths.subtract(a, b))\n",
    "print(\"Multiplication:\", mymaths.multiply(a, b))\n",
    "print(\"Division:\", mymaths.divide(a, b))"
   ]
  },
  {
   "cell_type": "code",
   "execution_count": 27,
   "metadata": {},
   "outputs": [
    {
     "name": "stdout",
     "output_type": "stream",
     "text": [
      "Ceil of 10.0 is 10\n",
      "Trunc of 10.0 is 10\n",
      "Floor of 10.0 is 10\n",
      "Factorial of 20 is 2432902008176640000\n",
      "Fabs of 10.0 is 10.0\n",
      "10.0 raised to the power of 20.0 is 1e+20\n",
      "Remainder of 10.0 divided by 20.0 is 10.0\n",
      "Sum of [10.0, 20.0] is 30.0\n",
      "Product of [10.0, 20.0] is 200.0\n",
      "Square root of 10.0 is 3.1622776601683795\n"
     ]
    }
   ],
   "source": [
    "# 12. WAP to demonstrate following functions in math module:\n",
    "# a. Ceil\n",
    "# b. Trunc\n",
    "# c. Floor\n",
    "# d. Factorial\n",
    "# e. Fabs\n",
    "# f. Pow\n",
    "# g. Fmod\n",
    "# h. Fsum\n",
    "# i. Prod\n",
    "# j. sqrt\n",
    "import math\n",
    "\n",
    "a = float(input(\"Enter a number: \"))\n",
    "b = float(input(\"Enter another number: \"))\n",
    "\n",
    "x = math.ceil(a)\n",
    "print(f\"Ceil of {a} is {x}\")\n",
    "\n",
    "y = math.trunc(a)\n",
    "print(f\"Trunc of {a} is {y}\")\n",
    "\n",
    "z = math.floor(a)\n",
    "print(f\"Floor of {a} is {z}\")\n",
    "\n",
    "w = math.factorial(int(b))\n",
    "print(f\"Factorial of {int(b)} is {w}\")\n",
    "\n",
    "v = math.fabs(a)\n",
    "print(f\"Fabs of {a} is {v}\")\n",
    "\n",
    "u = math.pow(a, b)\n",
    "print(f\"{a} raised to the power of {b} is {u}\")\n",
    "\n",
    "t = math.fmod(a, b)\n",
    "print(f\"Remainder of {a} divided by {b} is {t}\")\n",
    "\n",
    "s = math.fsum([a, b])\n",
    "print(f\"Sum of {[a, b]} is {s}\")\n",
    "\n",
    "r = math.prod([a, b])\n",
    "print(f\"Product of {[a, b]} is {r}\")\n",
    "\n",
    "q = math.sqrt(a)\n",
    "print(f\"Square root of {a} is {q}\")\n",
    "# Given Input for first number was \"10\" and for second number it was \"20\"\n"
   ]
  },
  {
   "cell_type": "code",
   "execution_count": 28,
   "metadata": {},
   "outputs": [
    {
     "name": "stdout",
     "output_type": "stream",
     "text": [
      "Random float between 0 and 1: 0.7964070113069714\n",
      "Random integer between 1 and 20: 20\n",
      "Random float between 10.0 and 20: 14.853129447758938\n",
      "Random choice from list ['bag', 'bottle', 'tiffin']: bag\n",
      "Shuffled list: ['bag', 'bottle', 'tiffin']\n",
      "Random number from range(0, 20): 16\n"
     ]
    }
   ],
   "source": [
    "# 13. WAP to demonstrate following functions in random module:\n",
    "# a. random()\n",
    "# b. randint()\n",
    "# c. uniform()\n",
    "# d. choice()\n",
    "# e. shuffle()\n",
    "# f. randrange()\n",
    "import random\n",
    "\n",
    "a = float(input(\"Enter a number: \"))\n",
    "b = int(input(\"Enter another number: \"))\n",
    "c = input(\"Enter a list of items separated by spaces: \").split()\n",
    "\n",
    "x = random.random()\n",
    "print(f\"Random float between 0 and 1: {x}\")\n",
    "\n",
    "y = random.randint(1, b)\n",
    "print(f\"Random integer between 1 and {b}: {y}\")\n",
    "\n",
    "z = random.uniform(a, b)\n",
    "print(f\"Random float between {a} and {b}: {z}\")\n",
    "\n",
    "w = random.choice(c)\n",
    "print(f\"Random choice from list {c}: {w}\")\n",
    "\n",
    "random.shuffle(c)\n",
    "print(f\"Shuffled list: {c}\")\n",
    "\n",
    "v = random.randrange(b)\n",
    "print(f\"Random number from range(0, {b}): {v}\")\n",
    "# Given Input for first number was \"10\" for another number \"20\" and list of items separated by spaces was \"bag bottle tiffin\""
   ]
  },
  {
   "cell_type": "code",
   "execution_count": 29,
   "metadata": {},
   "outputs": [
    {
     "name": "stdout",
     "output_type": "stream",
     "text": [
      "['1', '2', '3', '4', '5', '6', '7', '8']\n"
     ]
    }
   ],
   "source": [
    "# 14. Write a Python program to remove duplicates from a list.\n",
    "a = input(\"Enter a list of items separated by spaces: \").split()\n",
    "b = list(dict.fromkeys(a))\n",
    "\n",
    "print(b)\n",
    "# Given input was \"1 2 3 4 5 6 6 7 7 7 7 8\""
   ]
  },
  {
   "cell_type": "code",
   "execution_count": 31,
   "metadata": {},
   "outputs": [
    {
     "name": "stdout",
     "output_type": "stream",
     "text": [
      "True\n"
     ]
    }
   ],
   "source": [
    "# 15. Write a Python function that takes two lists and returns True if they have at least one common member.\n",
    "def have_common_member(a, b):\n",
    "    return any(i in b for i in a)\n",
    "\n",
    "a = input(\"Enter the first list of items separated by spaces: \").split()\n",
    "b = input(\"Enter the second list of items separated by spaces: \").split()\n",
    "\n",
    "result = have_common_member(a, b)\n",
    "print(result)\n",
    "# Given Input for first list was \"bag bottle tiffin\"\n",
    "# Given Input for second list was \"bag watch glasses\""
   ]
  },
  {
   "cell_type": "code",
   "execution_count": 36,
   "metadata": {},
   "outputs": [
    {
     "name": "stdout",
     "output_type": "stream",
     "text": [
      "[1, 3, 5, 7, 9]\n"
     ]
    }
   ],
   "source": [
    "# 16. Write a Python program to print the numbers of a specified list after removing even numbers from it.\n",
    "a = input(\"Enter a list of numbers separated by spaces: \").split()\n",
    "b = [int(i) for i in a if int(i) % 2 != 0]\n",
    "\n",
    "print(b)\n",
    "# Given Input was \"1 2 3 4 5 6 7 8 9 0\""
   ]
  },
  {
   "cell_type": "code",
   "execution_count": 39,
   "metadata": {},
   "outputs": [
    {
     "name": "stdout",
     "output_type": "stream",
     "text": [
      "Second smallest number: 10\n"
     ]
    }
   ],
   "source": [
    "# 17. Write a Python program to find the second smallest number in a list.\n",
    "a = input(\"Enter a list of numbers separated by spaces: \").split()\n",
    "b = list(set(int(i) for i in a))\n",
    "\n",
    "b.sort()\n",
    "second_smallest = b[1] if len(b) > 1 else None\n",
    "\n",
    "print(f\"Second smallest number: {second_smallest}\")\n",
    "# Given Input was \"10 20 30 12 98 7 19\""
   ]
  },
  {
   "cell_type": "code",
   "execution_count": 42,
   "metadata": {},
   "outputs": [
    {
     "name": "stdout",
     "output_type": "stream",
     "text": [
      "[['1', '2', '3'], ['4', '5', '6'], ['7', '8', '9']]\n"
     ]
    }
   ],
   "source": [
    "# 18. Write a Python program to split a list every Nth element.\n",
    "a = input(\"Enter a list of items separated by spaces: \").split()\n",
    "n = int(input(\"Enter the value of N: \"))\n",
    "\n",
    "b = [a[i:i+n] for i in range(0, len(a), n)]\n",
    "print(b)\n",
    "# Given Input for list of items was \"1 2 3 4 5 6 7 8 9\" and N was given as \"3\""
   ]
  },
  {
   "cell_type": "code",
   "execution_count": 45,
   "metadata": {},
   "outputs": [
    {
     "name": "stdout",
     "output_type": "stream",
     "text": [
      "Union: ['bottle', 'glasses', 'tiffin', 'watch', 'bag']\n",
      "Intersection: ['bag']\n"
     ]
    }
   ],
   "source": [
    "# 19. Write a Python function to find the union and intersection of two lists.\n",
    "def union_and_intersection(a, b):\n",
    "    union = list(set(a) | set(b))\n",
    "    intersection = list(set(a) & set(b))\n",
    "    return union, intersection\n",
    "\n",
    "a = input(\"Enter the first list of items separated by spaces: \").split()\n",
    "b = input(\"Enter the second list of items separated by spaces: \").split()\n",
    "\n",
    "u, i = union_and_intersection(a, b)\n",
    "print(f\"Union: {u}\")\n",
    "print(f\"Intersection: {i}\")\n",
    "# Given input for first list of items was \"bag bottle tiffin\"\n",
    "# Given input for secound list of items was \"bag watch glasses\""
   ]
  },
  {
   "cell_type": "code",
   "execution_count": 47,
   "metadata": {},
   "outputs": [
    {
     "name": "stdout",
     "output_type": "stream",
     "text": [
      "True\n"
     ]
    }
   ],
   "source": [
    "# 20. Write a Python function to check if a list is a palindrome or not. Return true otherwise false.\n",
    "def is_palindrome(a):\n",
    "    return a == a[::-1]\n",
    "\n",
    "a = input(\"Enter a list of items separated by spaces: \").split()\n",
    "\n",
    "result = is_palindrome(a)\n",
    "print(result)\n",
    "# Given input of items was \"1 2 3 2 1\""
   ]
  },
  {
   "cell_type": "code",
   "execution_count": 4,
   "metadata": {},
   "outputs": [
    {
     "name": "stdout",
     "output_type": "stream",
     "text": [
      "\n",
      "Menu:\n",
      "1. Insert\n",
      "2. Delete\n",
      "3. Access\n",
      "4. Update\n",
      "5. Traverse\n",
      "6. Exit\n",
      "Current list: ['bag']\n",
      "Current list: ['bag', 'bottle']\n",
      "Current list: ['bottle']\n",
      "bottle\n",
      "Current list: ['bottle']\n",
      "Current list: ['tiffin']\n",
      "List: ['tiffin']\n",
      "Current list: ['tiffin']\n"
     ]
    }
   ],
   "source": [
    "# 21. WAP to create a menu based program for insertion, deletion, access, updation, traversal of list elements.\n",
    "def menu():\n",
    "    print(\"\\nMenu:\")\n",
    "    print(\"1. Insert\")\n",
    "    print(\"2. Delete\")\n",
    "    print(\"3. Access\")\n",
    "    print(\"4. Update\")\n",
    "    print(\"5. Traverse\")\n",
    "    print(\"6. Exit\")\n",
    "\n",
    "menu()\n",
    "lst = []\n",
    "while True:\n",
    "    choice = input(\"Choose: \")\n",
    "    if choice.isdigit():\n",
    "        choice = int(choice)\n",
    "        if choice == 1:\n",
    "            ele = input(\"Insert: \")\n",
    "            lst.append(ele)\n",
    "        elif choice == 2:\n",
    "            ele = input(\"Delete: \")\n",
    "            if ele in lst:\n",
    "                lst.remove(ele)\n",
    "        elif choice == 3:\n",
    "            idx = int(input(\"Access index: \"))\n",
    "            if idx < len(lst):\n",
    "                print(lst[idx])\n",
    "        elif choice == 4:\n",
    "            idx = int(input(\"Update index: \"))\n",
    "            if idx < len(lst):\n",
    "                ele = input(\"New value: \")\n",
    "                lst[idx] = ele\n",
    "        elif choice == 5:\n",
    "            print(\"List:\", lst)\n",
    "        elif choice == 6:\n",
    "            break\n",
    "        else:\n",
    "            print(\"Invalid choice. Please try again.\")\n",
    "    else:\n",
    "        print(\"Please enter a valid number.\")\n",
    "    print(\"Current list:\", lst)\n",
    "\n",
    "# Given Inputs are As Follows\n",
    "# Insert elements:\n",
    "# Choose: 1\n",
    "# Insert: bag\n",
    "# Choose: 1\n",
    "# Insert: bottle\n",
    "# Delete elements:\n",
    "# Choose: 2\n",
    "# Delete: bag\n",
    "# Access an element:\n",
    "# Choose: 3\n",
    "# Access index: 0 (This will show bottle since bag was deleted)\n",
    "# Update an element:\n",
    "# Choose: 4\n",
    "# Update index: 0\n",
    "# New value: tiffin\n",
    "# Traverse the list:\n",
    "# Choose: 5 (This will show ['tiffin'])\n",
    "# Exit:\n",
    "# Choose: 6"
   ]
  },
  {
   "cell_type": "code",
   "execution_count": 13,
   "metadata": {},
   "outputs": [
    {
     "name": "stdout",
     "output_type": "stream",
     "text": [
      "1. Add sublist\n",
      "2. Access element\n",
      "3. Update element\n",
      "4. Delete element\n",
      "5. Exit\n",
      "Current nested list: [['a', 'b', 'c']]\n",
      "Current nested list: [['a', 'b', 'c'], ['d', 'e', 'f']]\n",
      "b\n",
      "Current nested list: [['a', 'b', 'c'], ['d', 'e', 'f']]\n",
      "Current nested list: [['a', 'e', 'c'], ['d', 'e', 'f']]\n",
      "Current nested list: [['a', 'c'], ['d', 'e', 'f']]\n"
     ]
    }
   ],
   "source": [
    "# 22. WAP to create create, access, add elements, delete, modify elements in nested list.\n",
    "nested_list = []\n",
    "\n",
    "def add_sublist():\n",
    "    sublist = input(\"Enter sublist items separated by spaces: \").split()\n",
    "    nested_list.append(sublist)\n",
    "\n",
    "def access_element():\n",
    "    i, j = map(int, input(\"Enter sublist index and element index: \").split())\n",
    "    print(nested_list[i][j])\n",
    "\n",
    "def update_element():\n",
    "    i, j = map(int, input(\"Enter sublist index and element index: \").split())\n",
    "    new_value = input(\"Enter new value: \")\n",
    "    nested_list[i][j] = new_value\n",
    "\n",
    "def delete_element():\n",
    "    i, j = map(int, input(\"Enter sublist index and element index: \").split())\n",
    "    del nested_list[i][j]\n",
    "\n",
    "print(\"1. Add sublist\")\n",
    "print(\"2. Access element\")\n",
    "print(\"3. Update element\")\n",
    "print(\"4. Delete element\")\n",
    "print(\"5. Exit\")\n",
    "\n",
    "while True:\n",
    "    choice = int(input(\"Choose: \"))\n",
    "    if choice == 1:\n",
    "        add_sublist()\n",
    "    elif choice == 2:\n",
    "        access_element()\n",
    "    elif choice == 3:\n",
    "        update_element()\n",
    "    elif choice == 4:\n",
    "        delete_element()\n",
    "    elif choice == 5:\n",
    "        break\n",
    "    print(\"Current nested list:\", nested_list)\n",
    "# Given Output was as follow as:\n",
    "# To add sublist: 1 -> enter items, a b c\n",
    "# To add one more sublit: 1 -> enter items, d e f\n",
    "# To access element: 2 -> enter indices, 0 1\n",
    "# To update element: 3 -> enter indices and new value, 0 1 -> e\n",
    "# To delete element: 4 -> enter indices, 0 1\n",
    "# To exit: 5\n"
   ]
  },
  {
   "cell_type": "code",
   "execution_count": 14,
   "metadata": {},
   "outputs": [
    {
     "name": "stdout",
     "output_type": "stream",
     "text": [
      "i. Complete list: [10, 20, 30, 40, 50, 60, 70, 80, 90, 100]\n",
      "ii. 4th element: 40\n",
      "iii. List from 0th to 4th index: [10, 20, 30, 40, 50]\n",
      "iv. List from -7th to 3rd element: [40]\n",
      "v. After appending 110: [10, 20, 30, 40, 50, 60, 70, 80, 90, 100, 110]\n",
      "vi. Sorted list: [10, 20, 30, 40, 50, 60, 70, 80, 90, 100, 110]\n",
      "vii. Popped element: 110\n",
      "   List after popping: [10, 20, 30, 40, 50, 60, 70, 80, 90, 100]\n",
      "viii. List after removing 30: [10, 20, 40, 50, 60, 70, 80, 90, 100]\n",
      "ix. List after inserting 25 at index 2: [10, 20, 25, 40, 50, 60, 70, 80, 90, 100]\n",
      "x. Count of 50: 1\n",
      "xi. List after extending with [120, 130]: [10, 20, 25, 40, 50, 60, 70, 80, 90, 100, 120, 130]\n",
      "xii. Reversed list: [130, 120, 100, 90, 80, 70, 60, 50, 40, 25, 20, 10]\n"
     ]
    }
   ],
   "source": [
    "# 23. Write a program for various list slicing operation.\n",
    "# a= [10,20,30,40,50,60,70,80,90,100]\n",
    "\n",
    "# i. Print Complete list\n",
    "# ii. Print 4th element of list\n",
    "# iii. Print list from 0th to 4th index.\n",
    "# iv. Print list -7th to 3rd element\n",
    "# v. Appending an element to list.\n",
    "# vi. Sorting the element of list.\n",
    "# vii. Popping an element.\n",
    "# viii. Removing Specified element.\n",
    "# ix. Entering an element at specified index.\n",
    "# x. Counting the occurrence of a specified element.\n",
    "# xi. Extending list.\n",
    "# xii. Reversing the list.\n",
    "a = [10, 20, 30, 40, 50, 60, 70, 80, 90, 100]\n",
    "\n",
    "print(\"i. Complete list:\", a)\n",
    "\n",
    "print(\"ii. 4th element:\", a[3])\n",
    "\n",
    "print(\"iii. List from 0th to 4th index:\", a[0:5])\n",
    "\n",
    "print(\"iv. List from -7th to 3rd element:\", a[-7:4])\n",
    "\n",
    "a.append(110)\n",
    "print(\"v. After appending 110:\", a)\n",
    "\n",
    "a.sort()\n",
    "print(\"vi. Sorted list:\", a)\n",
    "\n",
    "popped_element = a.pop()\n",
    "print(\"vii. Popped element:\", popped_element)\n",
    "print(\"   List after popping:\", a)\n",
    "\n",
    "a.remove(30)\n",
    "print(\"viii. List after removing 30:\", a)\n",
    "\n",
    "a.insert(2, 25)\n",
    "print(\"ix. List after inserting 25 at index 2:\", a)\n",
    "\n",
    "count_50 = a.count(50)\n",
    "print(\"x. Count of 50:\", count_50)\n",
    "\n",
    "a.extend([120, 130])\n",
    "print(\"xi. List after extending with [120, 130]:\", a)\n",
    "\n",
    "a.reverse()\n",
    "print(\"xii. Reversed list:\", a)\n"
   ]
  },
  {
   "cell_type": "code",
   "execution_count": 25,
   "metadata": {},
   "outputs": [
    {
     "name": "stdout",
     "output_type": "stream",
     "text": [
      "Enter the elements of the first matrix:\n",
      "Enter the elements of the second matrix:\n",
      "Resultant Matrix:\n",
      "[6, 8]\n",
      "[10, 12]\n"
     ]
    }
   ],
   "source": [
    "# 24. WAP to add two matrices using nested list\n",
    "def add_matrices(mat1, mat2):\n",
    "    result = []\n",
    "    for i in range(len(mat1)):\n",
    "        row = []\n",
    "        for j in range(len(mat1[0])):\n",
    "            row.append(mat1[i][j] + mat2[i][j])\n",
    "        result.append(row)\n",
    "    return result\n",
    "mat1 = []\n",
    "mat2 = []\n",
    "rows = int(input(\"Enter the number of rows: \"))\n",
    "cols = int(input(\"Enter the number of columns: \"))\n",
    "print(\"Enter the elements of the first matrix:\")\n",
    "for i in range(rows):\n",
    "    row = list(map(int, input().split()))\n",
    "    mat1.append(row)\n",
    "print(\"Enter the elements of the second matrix:\")\n",
    "for i in range(rows):\n",
    "    row = list(map(int, input().split()))\n",
    "    mat2.append(row)\n",
    "result = add_matrices(mat1, mat2)\n",
    "print(\"Resultant Matrix:\")\n",
    "for row in result:\n",
    "    print(row)\n",
    "# Given Input for number of rows and columns was \"2\" and then \"2\"\n",
    "# Then Given value for matrix was first 1 2 then 3 4 for first matrix \n",
    "# Then Given value for matrix was first 5 6 then 7 8 for second matrix"
   ]
  },
  {
   "cell_type": "code",
   "execution_count": 26,
   "metadata": {},
   "outputs": [
    {
     "name": "stdout",
     "output_type": "stream",
     "text": [
      "[1, 4, 9, 0, 4]\n"
     ]
    }
   ],
   "source": [
    "# 25. Consider a list with mixed type of elements such as l1=[1,’x’,4,5.6,’z’,9,’a’,0,4]. Create another list l2 using list comprehension which consist of only integer element present within list l1.\n",
    "l1 = [1, 'x', 4, 5.6, 'z', 9, 'a', 0, 4]\n",
    "l2 = [x for x in l1 if isinstance(x, int)]\n",
    "print(l2)\n"
   ]
  },
  {
   "cell_type": "code",
   "execution_count": 27,
   "metadata": {},
   "outputs": [
    {
     "name": "stdout",
     "output_type": "stream",
     "text": [
      "(6, 9, 8, 6)\n"
     ]
    }
   ],
   "source": [
    "# 26. Write a Python program to compute the element-wise sum of given tuples.\n",
    "# Original : (1, 2, 3, 4) (3, 5, 2, 1) (2, 2, 3, 1)\n",
    "# Element-wise sum of the said tuples: (6, 9, 8, 6)\n",
    "tuples = [(1, 2, 3, 4), (3, 5, 2, 1), (2, 2, 3, 1)]\n",
    "result = tuple(map(sum, zip(*tuples)))\n",
    "print(result)\n",
    "\n"
   ]
  },
  {
   "cell_type": "code",
   "execution_count": 28,
   "metadata": {},
   "outputs": [
    {
     "name": "stdout",
     "output_type": "stream",
     "text": [
      "[[1, 2], [2, 3], [3, 4]]\n"
     ]
    }
   ],
   "source": [
    "# 27. Write a Python program to convert a given list of tuples to a list of lists.\n",
    "# Original list of tuples: [(1, 2), (2, 3), (3, 4)]\n",
    "# Convert the said list of tuples to a list of lists: [[1, 2], [2, 3], [3, 4]]\n",
    "tuples = [(1, 2), (2, 3), (3, 4)]\n",
    "lists = [list(t) for t in tuples]\n",
    "print(lists)"
   ]
  },
  {
   "cell_type": "code",
   "execution_count": 29,
   "metadata": {},
   "outputs": [
    {
     "name": "stdout",
     "output_type": "stream",
     "text": [
      "[(1, 2), (3, 4, 5), ('a', 'b')]\n"
     ]
    }
   ],
   "source": [
    "# 28. Write a Python program to remove an empty tuple(s) from a list of tuples.\n",
    "tuples = [(), (1, 2), (), (3, 4, 5), ('a', 'b'), ()]\n",
    "non_empty_tuples = [t for t in tuples if t]\n",
    "print(non_empty_tuples)"
   ]
  },
  {
   "cell_type": "code",
   "execution_count": 35,
   "metadata": {},
   "outputs": [
    {
     "name": "stdout",
     "output_type": "stream",
     "text": [
      "('h', 'e', 'l', 'l', 'o', ' ', 'm', 'a', 'h', 'e', 's', 'h')\n"
     ]
    }
   ],
   "source": [
    "# 29. Write a Python program to convert a given string to a tuple\n",
    "string = input(\"Enter String\")\n",
    "result = tuple(string)\n",
    "print(result)\n",
    "# Given input was \"hello mahesh\""
   ]
  },
  {
   "cell_type": "code",
   "execution_count": 37,
   "metadata": {},
   "outputs": [
    {
     "name": "stdout",
     "output_type": "stream",
     "text": [
      "120\n"
     ]
    }
   ],
   "source": [
    "# 30. Write a Python program to calculate the product, multiplying all the numbers in a given tuple.\n",
    "from functools import reduce\n",
    "import operator\n",
    "\n",
    "numbers = tuple(map(int, input(\"Enter the elements of the tuple separated by spaces: \").split()))\n",
    "product = reduce(operator.mul, numbers, 1)\n",
    "print(product)\n",
    "# Given input was \"1 2 3 4 5\"\n"
   ]
  },
  {
   "cell_type": "code",
   "execution_count": 38,
   "metadata": {},
   "outputs": [
    {
     "name": "stdout",
     "output_type": "stream",
     "text": [
      "[1, 4, 9, 16, 25, 36, 49, 64, 81, 100, 121, 144, 169, 196, 225, 256, 289, 324, 361, 400]\n"
     ]
    }
   ],
   "source": [
    "# 31. WAP to create a list of square of numbers from 1 to 20 using List comprehension\n",
    "squares = [x**2 for x in range(1, 21)]\n",
    "print(squares)\n"
   ]
  },
  {
   "cell_type": "code",
   "execution_count": 41,
   "metadata": {},
   "outputs": [
    {
     "name": "stdout",
     "output_type": "stream",
     "text": [
      "{'apple', 'bag', 'glasses', 'tiffin', 'watch', 'bottle'}\n"
     ]
    }
   ],
   "source": [
    "# 32. Write a Python program to remove an item from a set if it is present in the set.\n",
    "s = set(map(str, input(\"Enter the elements of the set separated by spaces: \").split()))\n",
    "item = input(\"Enter the item to remove: \")\n",
    "\n",
    "if item in s:\n",
    "    s.remove(item)\n",
    "print(s)\n",
    "# Given output was for set was \"bag apple banana bottle tiffin watch glasses\" and item to remove was \"banana\""
   ]
  },
  {
   "cell_type": "code",
   "execution_count": 43,
   "metadata": {},
   "outputs": [
    {
     "name": "stdout",
     "output_type": "stream",
     "text": [
      "False\n"
     ]
    }
   ],
   "source": [
    "# 33. Write a Python program to check if two given sets have no elements in common.\n",
    "s1 = set(map(str, input(\"Enter the elements of the first set separated by spaces: \").split()))\n",
    "s2 = set(map(str, input(\"Enter the elements of the second set separated by spaces: \").split()))\n",
    "\n",
    "no_common_elements = s1.isdisjoint(s2)\n",
    "print(no_common_elements)\n",
    "# Given input for first set was \"1 2 3 4 5 6 8 7 6\" and for second set \"0 9 8 9 0\" where 8 is common so answer is false"
   ]
  },
  {
   "cell_type": "code",
   "execution_count": 46,
   "metadata": {},
   "outputs": [
    {
     "name": "stdout",
     "output_type": "stream",
     "text": [
      "{'apple', 'banana', 'glasses', 'tiffin', 'watch'}\n"
     ]
    }
   ],
   "source": [
    "# 34. Get Only unique items from two sets\n",
    "s1 = set(map(str, input(\"Enter the elements of the first set separated by spaces: \").split()))\n",
    "s2 = set(map(str, input(\"Enter the elements of the second set separated by spaces: \").split()))\n",
    "\n",
    "unique_items = s1 ^ s2\n",
    "print(unique_items)\n",
    "\n",
    "# Given input for first set was \"bag bottle tiffin watch glasses\" and for second set \"bag apple banana bottle\""
   ]
  },
  {
   "cell_type": "code",
   "execution_count": 7,
   "metadata": {},
   "outputs": [
    {
     "name": "stdout",
     "output_type": "stream",
     "text": [
      "Helloshweta\n"
     ]
    }
   ],
   "source": [
    "# 35. Write a Python program to Convert Set to one String\n",
    "s = set(map(str, input(\"Enter the elements of the set separated by spaces: \").split()))\n",
    "set_string = ''.join(s)\n",
    "print(set_string)\n",
    "# Given input was \"hello Shweta:)\""
   ]
  },
  {
   "cell_type": "code",
   "execution_count": 8,
   "metadata": {},
   "outputs": [
    {
     "name": "stdout",
     "output_type": "stream",
     "text": [
      "Total vovels in (hello shweta how are you?) are:\n",
      " 9\n"
     ]
    }
   ],
   "source": [
    "# 36. WAP to count number of vowels using sets in given string\n",
    "vowels = {'a', 'e', 'i', 'o', 'u'}\n",
    "string = input(\"Enter a string: \").lower()\n",
    "\n",
    "vowel_count = sum(1 for char in string if char in vowels)\n",
    "print(f\"Total vovels in ({string}) are:\\n\",vowel_count)\n",
    "# Given input was \"hello Shweta how are you?\""
   ]
  },
  {
   "cell_type": "code",
   "execution_count": 60,
   "metadata": {},
   "outputs": [
    {
     "name": "stdout",
     "output_type": "stream",
     "text": [
      "{512, 64, 1728, 8, 1000, 216}\n"
     ]
    }
   ],
   "source": [
    "# 37. WAP to create a set of cubes of even numbers from 2 to 12 using set comprehension.\n",
    "cubes_set = {x**3 for x in range(2, 13) if x % 2 == 0}\n",
    "print(cubes_set)"
   ]
  },
  {
   "cell_type": "code",
   "execution_count": 61,
   "metadata": {},
   "outputs": [
    {
     "name": "stdout",
     "output_type": "stream",
     "text": [
      "Ascending: {'b': 1, 'c': 2, 'a': 3}\n",
      "Descending: {'a': 3, 'c': 2, 'b': 1}\n"
     ]
    }
   ],
   "source": [
    "# 38. Write a Python script to sort (ascending and descending) a dictionary by value.\n",
    "d = {'a': 3, 'b': 1, 'c': 2}\n",
    "\n",
    "ascending = dict(sorted(d.items(), key=lambda item: item[1]))\n",
    "print(\"Ascending:\", ascending)\n",
    "\n",
    "descending = dict(sorted(d.items(), key=lambda item: item[1], reverse=True))\n",
    "print(\"Descending:\", descending)\n",
    "\n"
   ]
  },
  {
   "cell_type": "code",
   "execution_count": 62,
   "metadata": {},
   "outputs": [
    {
     "name": "stdout",
     "output_type": "stream",
     "text": [
      "{'d': 3}\n"
     ]
    }
   ],
   "source": [
    "# 39. Write a Python program to remove duplicates from the dictionary.\n",
    "d = {'a': 1, 'b': 2, 'c': 1, 'd': 3, 'e': 2}\n",
    "d = {k: v for k, v in d.items() if list(d.values()).count(v) == 1}\n",
    "print(d)\n",
    "\n"
   ]
  },
  {
   "cell_type": "code",
   "execution_count": 63,
   "metadata": {},
   "outputs": [
    {
     "name": "stdout",
     "output_type": "stream",
     "text": [
      "{'a': 3, 'b': 5, 'c': 3, 'd': 4}\n"
     ]
    }
   ],
   "source": [
    "# 40. Write a Python program to combine two dictionary by adding values for common keys.\n",
    "from collections import Counter\n",
    "\n",
    "d1 = {'a': 1, 'b': 2, 'c': 3}\n",
    "d2 = {'a': 2, 'b': 3, 'd': 4}\n",
    "\n",
    "combined = dict(Counter(d1) + Counter(d2))\n",
    "print(combined)\n"
   ]
  },
  {
   "cell_type": "code",
   "execution_count": 66,
   "metadata": {},
   "outputs": [
    {
     "name": "stdout",
     "output_type": "stream",
     "text": [
      "{'h': 1, 'e': 1, 'l': 2, 'o': 1}\n"
     ]
    }
   ],
   "source": [
    "# 41. Write a Python program to create a dictionary from a string. ( Track the count of the letters from the string.)\n",
    "s = input(\"Enter a string: \")\n",
    "letter_count = {char: s.count(char) for char in s}\n",
    "print(letter_count)\n",
    "# Given input was \"hello\""
   ]
  },
  {
   "cell_type": "code",
   "execution_count": 67,
   "metadata": {},
   "outputs": [
    {
     "name": "stdout",
     "output_type": "stream",
     "text": [
      "{'a': 1, 'c': 3}\n"
     ]
    }
   ],
   "source": [
    "# 42. Write a Python program to match key and values both, in two dictionaries.\n",
    "d1 = {'a': 1, 'b': 2, 'c': 3}\n",
    "d2 = {'a': 1, 'b': 3, 'c': 3}\n",
    "\n",
    "matches = {k: v for k, v in d1.items() if k in d2 and d2[k] == v}\n",
    "print(matches)\n"
   ]
  },
  {
   "cell_type": "code",
   "execution_count": 68,
   "metadata": {},
   "outputs": [
    {
     "name": "stdout",
     "output_type": "stream",
     "text": [
      "{'milk': 0.7446, 'coffee': 1.825, 'bread': 1.825}\n"
     ]
    }
   ],
   "source": [
    "# 43. Use dictionary comprehension to convert the price of following dictionary from dollar to pound\n",
    "# old_price = {'milk': 1.02, 'coffee': 2.5, 'bread': 2.5}\n",
    "old_price = {'milk': 1.02, 'coffee': 2.5, 'bread': 2.5}\n",
    "exchange_rate = 0.73  # Example exchange rate\n",
    "\n",
    "new_price = {k: v * exchange_rate for k, v in old_price.items()}\n",
    "print(new_price)\n"
   ]
  },
  {
   "cell_type": "code",
   "execution_count": 69,
   "metadata": {},
   "outputs": [
    {
     "name": "stdout",
     "output_type": "stream",
     "text": [
      "{'jack': 38, 'michael': 48}\n"
     ]
    }
   ],
   "source": [
    "# 44.Use dictionary comprehension to create a dictionary to store only key value pairs having even age.\n",
    "# original_dict = {'jack': 38, 'michael': 48, 'guido': 57, 'john': 33}\n",
    "original_dict = {'jack': 38, 'michael': 48, 'guido': 57, 'john': 33}\n",
    "\n",
    "even_age_dict = {k: v for k, v in original_dict.items() if v % 2 == 0}\n",
    "print(even_age_dict)\n"
   ]
  }
 ],
 "metadata": {
  "kernelspec": {
   "display_name": "Python 3",
   "language": "python",
   "name": "python3"
  },
  "language_info": {
   "codemirror_mode": {
    "name": "ipython",
    "version": 3
   },
   "file_extension": ".py",
   "mimetype": "text/x-python",
   "name": "python",
   "nbconvert_exporter": "python",
   "pygments_lexer": "ipython3",
   "version": "3.13.0"
  }
 },
 "nbformat": 4,
 "nbformat_minor": 2
}
