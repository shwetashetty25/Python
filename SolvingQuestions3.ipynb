{
 "cells": [
  {
   "cell_type": "code",
   "execution_count": 1,
   "metadata": {},
   "outputs": [
    {
     "name": "stdout",
     "output_type": "stream",
     "text": [
      "Name: Shweta\n",
      "Age: 18\n",
      "Roll No: 181\n",
      "Stream: Science\n"
     ]
    }
   ],
   "source": [
    "# 1. Create a person class with:\n",
    "# i) two instance variable: name, age.\n",
    "# ii) Create a parameterized constructor\n",
    "class Person:\n",
    "    def __init__(self, name, age):\n",
    "        self.name = name\n",
    "        self.age = age\n",
    "class Student(Person):\n",
    "    def __init__(self, name, age, rollno, stream):\n",
    "        Person.__init__(self, name, age)\n",
    "        self.rollno = rollno\n",
    "        self.stream = stream\n",
    "    \n",
    "    def display(self):\n",
    "        print(\"Name:\", self.name)\n",
    "        print(\"Age:\", self.age)\n",
    "        print(\"Roll No:\", self.rollno)\n",
    "        print(\"Stream:\", self.stream)\n",
    "student1 = Student(\"Shweta\", 18, \"181\", \"Science\")\n",
    "student1.display()"
   ]
  },
  {
   "cell_type": "code",
   "execution_count": 7,
   "metadata": {},
   "outputs": [
    {
     "name": "stdout",
     "output_type": "stream",
     "text": [
      "Area: 78.53981633974483\n",
      "Perimeter: 31.41592653589793\n"
     ]
    }
   ],
   "source": [
    "# 2. Write a Python class named Circle. Declare an instance variable, radius and two methods that will compute the area and the perimeter of a circle.\n",
    "import math\n",
    "class Circle:\n",
    "    def __init__(self, a):\n",
    "        self.b = a\n",
    "    \n",
    "    def c(self):\n",
    "        return math.pi * self.b * self.b\n",
    "    \n",
    "    def d(self):\n",
    "        return 2 * math.pi * self.b\n",
    "e = Circle(5)\n",
    "print(\"Area:\", e.c())\n",
    "print(\"Perimeter:\", e.d())"
   ]
  },
  {
   "cell_type": "code",
   "execution_count": 8,
   "metadata": {},
   "outputs": [
    {
     "name": "stdout",
     "output_type": "stream",
     "text": [
      "Select operation:\n",
      "1. Addition\n",
      "2. Subtraction\n",
      "3. Multiplication\n",
      "4. Division\n",
      "Result: 15.0\n"
     ]
    }
   ],
   "source": [
    "# 3. Write a Python program to create a calculator class. Include methods for basic arithmetic operations.\n",
    "class Calculator:\n",
    "    def add(self, a, b):\n",
    "        return a + b\n",
    "    \n",
    "    def subtract(self, a, b):\n",
    "        return a - b\n",
    "    \n",
    "    def multiply(self, a, b):\n",
    "        return a * b\n",
    "    \n",
    "    def divide(self, a, b):\n",
    "        if b != 0:\n",
    "            return a / b\n",
    "        else:\n",
    "            return \"Error: Division by zero\"\n",
    "\n",
    "calc = Calculator()\n",
    "print(\"Select operation:\")\n",
    "print(\"1. Addition\")\n",
    "print(\"2. Subtraction\")\n",
    "print(\"3. Multiplication\")\n",
    "print(\"4. Division\")\n",
    "\n",
    "choice = input(\"Enter choice (1/2/3/4): \")\n",
    "\n",
    "# Get numbers from the user\n",
    "number1 = float(input(\"Enter first number: \"))\n",
    "number2 = float(input(\"Enter second number: \"))\n",
    "\n",
    "# Perform the chosen operation\n",
    "if choice == '1':\n",
    "    print(\"Result:\", calc.add(number1, number2))\n",
    "elif choice == '2':\n",
    "    print(\"Result:\", calc.subtract(number1, number2))\n",
    "elif choice == '3':\n",
    "    print(\"Result:\", calc.multiply(number1, number2))\n",
    "elif choice == '4':\n",
    "    print(\"Result:\", calc.divide(number1, number2))\n",
    "else:\n",
    "    print(\"Invalid input\")"
   ]
  },
  {
   "cell_type": "code",
   "execution_count": 3,
   "metadata": {},
   "outputs": [
    {
     "name": "stdout",
     "output_type": "stream",
     "text": [
      "=== Shopping Cart Menu ===\n",
      "1. Add item\n",
      "2. Remove item\n",
      "3. Show cart\n",
      "4. Show total price\n",
      "5. Exit\n",
      "chocolate has been added to cart\n",
      "\n",
      "Your Cart:\n",
      "chocolate: $1.0\n",
      "\n",
      "Total Price: $1.0\n",
      "Thank you for shopping!\n"
     ]
    }
   ],
   "source": [
    "# 4. Write a Python program to create a class representing a shopping cart. Include methods for adding and removing items, and calculating the total price.\n",
    "class ShoppingCart:\n",
    "    def __init__(self):\n",
    "        self.cart = []\n",
    "        self.prices = []\n",
    "    \n",
    "    def add_item(self):\n",
    "        item = input(\"Enter item name: \")\n",
    "        price = float(input(\"Enter price: $\"))\n",
    "        self.cart.append(item)\n",
    "        self.prices.append(price)\n",
    "        print(f\"{item} has been added to cart\")\n",
    "    \n",
    "    def remove_item(self):\n",
    "        item = input(\"Enter item name to remove: \")\n",
    "        if item in self.cart:\n",
    "            index = self.cart.index(item)\n",
    "            self.cart.pop(index)\n",
    "            self.prices.pop(index)\n",
    "            print(f\"{item} has been removed from cart\")\n",
    "        else:\n",
    "            print(\"Item not found in cart\")\n",
    "    \n",
    "    def show_cart(self):\n",
    "        if len(self.cart) == 0:\n",
    "            print(\"Your cart is empty\")\n",
    "        else:\n",
    "            print(\"\\nYour Cart:\")\n",
    "            for i in range(len(self.cart)):\n",
    "                print(f\"{self.cart[i]}: ${self.prices[i]}\")\n",
    "    \n",
    "    def total_price(self):\n",
    "        total = sum(self.prices)\n",
    "        print(f\"\\nTotal Price: ${total}\")\n",
    "\n",
    "my_cart = ShoppingCart()\n",
    "\n",
    "print(\"=== Shopping Cart Menu ===\")\n",
    "print(\"1. Add item\")\n",
    "print(\"2. Remove item\")\n",
    "print(\"3. Show cart\")\n",
    "print(\"4. Show total price\")\n",
    "print(\"5. Exit\")\n",
    "\n",
    "while True:\n",
    "    choice = input(\"\\nEnter your choice (1-5): \")\n",
    "    \n",
    "    if choice == '1':\n",
    "        my_cart.add_item()\n",
    "    elif choice == '2':\n",
    "        my_cart.remove_item()\n",
    "    elif choice == '3':\n",
    "        my_cart.show_cart()\n",
    "    elif choice == '4':\n",
    "        my_cart.total_price()\n",
    "    elif choice == '5':\n",
    "        print(\"Thank you for shopping!\")\n",
    "        break\n",
    "    else:\n",
    "        print(\"Invalid choice. Please try again.\")"
   ]
  },
  {
   "cell_type": "code",
   "execution_count": 2,
   "metadata": {},
   "outputs": [
    {
     "name": "stdout",
     "output_type": "stream",
     "text": [
      "Name: Adams\n",
      "ID: E7876\n",
      "Salary: $50000\n",
      "Department: ACCOUNTING\n",
      "--------------------\n",
      "Name: Jones\n",
      "ID: E7499\n",
      "Salary: $45000\n",
      "Department: RESEARCH\n",
      "--------------------\n",
      "Name: Martin\n",
      "ID: E7900\n",
      "Salary: $50000\n",
      "Department: SALES\n",
      "--------------------\n",
      "Name: Smith\n",
      "ID: E7698\n",
      "Salary: $55000\n",
      "Department: OPERATIONS\n",
      "--------------------\n",
      "Adams has been moved to FINANCE department.\n",
      "Jones's salary for 55 hours is $49500.00\n",
      "Name: Adams\n",
      "ID: E7876\n",
      "Salary: $50000\n",
      "Department: FINANCE\n",
      "--------------------\n"
     ]
    }
   ],
   "source": [
    "# 5. Write a Python class Employee with attributes like emp_id, emp_name, emp_salary, and emp_department and methods like calculate_emp_salary, emp_assign_department, and print_employee_details.\n",
    "# Sample Employee Data:\n",
    "# \"ADAMS\", \"E7876\", 50000, \"ACCOUNTING\"\n",
    "# \"JONES\", \"E7499\", 45000, \"RESEARCH\"\n",
    "# \"MARTIN\", \"E7900\", 50000, \"SALES\"\n",
    "# \"SMITH\", \"E7698\", 55000, \"OPERATIONS\"\n",
    "# • Use 'assign_department' method to change the department of an employee.\n",
    "# • Use 'print_employee_details' method to print the details of an  employee.\n",
    "# • Use 'calculate_emp_salary' method takes two arguments: salary and hours_worked, which is the number of hours worked by the employee. If the number of hours worked is more than 50, the method computes overtime and adds it to the salary. Overtime is calculated as following formula:\n",
    "# • overtime = hours_worked - 50 Overtime amount = (overtime * (salary / 50))\n",
    "class Employee:\n",
    "    def __init__(self, emp_name, emp_id, emp_salary, emp_department):\n",
    "        self.emp_name = emp_name\n",
    "        self.emp_id = emp_id\n",
    "        self.emp_salary = emp_salary\n",
    "        self.emp_department = emp_department\n",
    "\n",
    "    def emp_assign_department(self, new_department):\n",
    "        self.emp_department = new_department\n",
    "        print(f\"{self.emp_name} has been moved to {self.emp_department} department.\")\n",
    "\n",
    "    def calculate_emp_salary(self, hours_worked):\n",
    "        if hours_worked > 50:\n",
    "            overtime = hours_worked - 50\n",
    "            overtime_pay = overtime * (self.emp_salary / 50)\n",
    "            total_salary = self.emp_salary + overtime_pay\n",
    "        else:\n",
    "            total_salary = self.emp_salary\n",
    "        return total_salary\n",
    "\n",
    "    def print_employee_details(self):\n",
    "        print(f\"Name: {self.emp_name}\")\n",
    "        print(f\"ID: {self.emp_id}\")\n",
    "        print(f\"Salary: ${self.emp_salary}\")\n",
    "        print(f\"Department: {self.emp_department}\")\n",
    "        print(\"--------------------\")\n",
    "\n",
    "emp1 = Employee(\"Adams\", \"E7876\", 50000, \"ACCOUNTING\")\n",
    "emp2 = Employee(\"Jones\", \"E7499\", 45000, \"RESEARCH\")\n",
    "emp3 = Employee(\"Martin\", \"E7900\", 50000, \"SALES\")\n",
    "emp4 = Employee(\"Smith\", \"E7698\", 55000, \"OPERATIONS\")\n",
    "\n",
    "emp1.print_employee_details()\n",
    "emp2.print_employee_details()\n",
    "emp3.print_employee_details()\n",
    "emp4.print_employee_details()\n",
    "\n",
    "emp1.emp_assign_department(\"FINANCE\")\n",
    "\n",
    "hours_worked = 55\n",
    "new_salary = emp2.calculate_emp_salary(hours_worked)\n",
    "print(f\"{emp2.emp_name}'s salary for {hours_worked} hours is ${new_salary:.2f}\")\n",
    "\n",
    "emp1.print_employee_details()"
   ]
  },
  {
   "cell_type": "code",
   "execution_count": 3,
   "metadata": {},
   "outputs": [
    {
     "name": "stdout",
     "output_type": "stream",
     "text": [
      "Current balance: $0.00\n",
      "Deposited $500.00. New balance is $500.00.\n",
      "Withdrew $200.00. New balance is $300.00.\n",
      "Current balance: $300.00\n",
      "Insufficient funds for this withdrawal.\n"
     ]
    }
   ],
   "source": [
    "# 6. Write a Python class BankAccount with attributes like account_number, balance, date_of_opening and customer_name, and methods like deposit, withdraw, and check_balance.\n",
    "class BankAccount:\n",
    "    def __init__(self, a, b, c):\n",
    "        self.account_number = a\n",
    "        self.customer_name = b\n",
    "        self.date_of_opening = c\n",
    "        self.balance = 0.0\n",
    "\n",
    "    def deposit(self, d):\n",
    "        if d > 0:\n",
    "            self.balance += d\n",
    "            print(f\"Deposited ${d:.2f}. New balance is ${self.balance:.2f}.\")\n",
    "        else:\n",
    "            print(\"Deposit amount must be positive.\")\n",
    "\n",
    "    def withdraw(self, d):\n",
    "        if d > 0:\n",
    "            if d <= self.balance:\n",
    "                self.balance -= d\n",
    "                print(f\"Withdrew ${d:.2f}. New balance is ${self.balance:.2f}.\")\n",
    "            else:\n",
    "                print(\"Insufficient funds for this withdrawal.\")\n",
    "        else:\n",
    "            print(\"Withdrawal amount must be positive.\")\n",
    "\n",
    "    def check_balance(self):\n",
    "        print(f\"Current balance: ${self.balance:.2f}\")\n",
    "\n",
    "account = BankAccount(\"123456789\", \"Shweta S\", \"2023-01-01\")\n",
    "account.check_balance()\n",
    "account.deposit(500)\n",
    "account.withdraw(200)\n",
    "account.check_balance()\n",
    "account.withdraw(400)"
   ]
  },
  {
   "cell_type": "code",
   "execution_count": 13,
   "metadata": {},
   "outputs": [
    {
     "name": "stdout",
     "output_type": "stream",
     "text": [
      "Circle - Colour: red, Radius: 5, Area: 78.54\n",
      "Rectangle - Colour: blue, Width: 4, Height: 6, Area: 24.00\n",
      "Triangle - Colour: green, Base: 4, Height: 3, Area: 6.00\n",
      "Square - Colour: yellow, Side Length: 4, Area: 16.00\n",
      "Parallelogram - Colour: purple, Base: 5, Height: 3, Area: 15.00\n"
     ]
    }
   ],
   "source": [
    "# # 7. Create a class hierarchy for different types of geometric shapes, including\n",
    "# # circles, rectangles, and triangles, using inheritance.\n",
    "# # Tasks:\n",
    "# # A. Define a base class called Shape with common attributes\n",
    "# like colour and area.\n",
    "# B. Implement subclasses for specific shape types such\n",
    "# as Circle, Rectangle, and Triangle. Each subclass should inherit\n",
    "# from the Shape class.\n",
    "# C. Incorporate additional attributes and methods specific to each\n",
    "# shape type. For example, a Circle class might have attributes\n",
    "# like radius and methods like calculate_area.\n",
    "# D. Use inheritance to create subclasses representing variations within\n",
    "# each shape type. For example, within the Rectangle class, create\n",
    "# subclasses for Square and Parallelogram.\n",
    "# E. Implement methods or attributes in the subclasses to demonstrate\n",
    "# how inheritance allows for the sharing of attributes and methods\n",
    "# from parent classes.\n",
    "# F. Create instances of the various shape classes and test their\n",
    "# functionality to ensure that attributes and methods work as\n",
    "# expected.\n",
    "import math\n",
    "\n",
    "class Shape:\n",
    "    def __init__(self, a):\n",
    "        self.color = a\n",
    "        self.area = 0\n",
    "\n",
    "    def calculate_area(self):\n",
    "        return self.area\n",
    "\n",
    "class Circle(Shape):\n",
    "    def __init__(self, b, a):\n",
    "        super().__init__(a)\n",
    "        self.radius = b\n",
    "        self.area = self.calculate_area()\n",
    "\n",
    "    def calculate_area(self):\n",
    "        self.area = math.pi * (self.radius ** 2)\n",
    "        return self.area\n",
    "\n",
    "class Rectangle(Shape):\n",
    "    def __init__(self, c, d, a):\n",
    "        super().__init__(a)\n",
    "        self.width = c\n",
    "        self.height = d\n",
    "        self.area = self.calculate_area()\n",
    "\n",
    "    def calculate_area(self):\n",
    "        self.area = self.width * self.height\n",
    "        return self.area\n",
    "\n",
    "class Triangle(Shape):\n",
    "    def __init__(self, c, d, a):\n",
    "        super().__init__(a)\n",
    "        self.base = c\n",
    "        self.height = d\n",
    "        self.area = self.calculate_area()\n",
    "\n",
    "    def calculate_area(self):\n",
    "        self.area = 0.5 * self.base * self.height\n",
    "        return self.area\n",
    "\n",
    "class Square(Rectangle):\n",
    "    def __init__(self, b, a):\n",
    "        super().__init__(b, b, a)\n",
    "\n",
    "class Parallelogram(Rectangle):\n",
    "    def __init__(self, c, d, a):\n",
    "        super().__init__(c, d, a)\n",
    "\n",
    "# Testing the functionality\n",
    "circle = Circle(5, \"red\")\n",
    "print(f\"Circle - Colour: {circle.color}, Radius: {circle.radius}, Area: {circle.calculate_area():.2f}\")\n",
    "\n",
    "rectangle = Rectangle(4, 6, \"blue\")\n",
    "print(f\"Rectangle - Colour: {rectangle.color}, Width: {rectangle.width}, Height: {rectangle.height}, Area: {rectangle.calculate_area():.2f}\")\n",
    "\n",
    "triangle = Triangle(4, 3, \"green\")\n",
    "print(f\"Triangle - Colour: {triangle.color}, Base: {triangle.base}, Height: {triangle.height}, Area: {triangle.calculate_area():.2f}\")\n",
    "\n",
    "square = Square(4, \"yellow\")\n",
    "print(f\"Square - Colour: {square.color}, Side Length: {square.width}, Area: {square.calculate_area():.2f}\")\n",
    "\n",
    "parallelogram = Parallelogram(5, 3, \"purple\")\n",
    "print(f\"Parallelogram - Colour: {parallelogram.color}, Base: {parallelogram.width}, Height: {parallelogram.height}, Area: {parallelogram.calculate_area():.2f}\")"
   ]
  },
  {
   "cell_type": "code",
   "execution_count": 18,
   "metadata": {},
   "outputs": [
    {
     "name": "stdout",
     "output_type": "stream",
     "text": [
      "The number of words in the file is: 6\n"
     ]
    }
   ],
   "source": [
    "# 8. WAP to find the number of words in the given text file\n",
    "# Hints:\n",
    "# Use the split() method to separate words.\n",
    "def count_words(filename):\n",
    "    try:\n",
    "        with open(filename, 'r') as file:\n",
    "            content = file.read()\n",
    "            words = content.split()  # Split the content into words\n",
    "            return len(words)  # Return the number of words\n",
    "    except FileNotFoundError:\n",
    "        return \"File not found enter .txt too.\"\n",
    "filename = input(\"Enter the name of the text file: \")\n",
    "word_count = count_words(filename)\n",
    "print(f\"The number of words in the file is: {word_count}\")\n",
    "#type abcd.txt in the input field"
   ]
  },
  {
   "cell_type": "code",
   "execution_count": 20,
   "metadata": {},
   "outputs": [
    {
     "name": "stdout",
     "output_type": "stream",
     "text": [
      "Content of the file:\n",
      "Happy Programming\n"
     ]
    }
   ],
   "source": [
    "# 9. Write a program to write “Happy Programming” in a text file and read it\n",
    "filename = 'happy_programming.txt'\n",
    "with open(filename, 'w') as file:\n",
    "    file.write(\"Happy Programming\")\n",
    "with open(filename, 'r') as file:\n",
    "    content = file.read()\n",
    "print(\"Content of the file:\")\n",
    "print(content)"
   ]
  },
  {
   "cell_type": "code",
   "execution_count": 24,
   "metadata": {},
   "outputs": [
    {
     "name": "stdout",
     "output_type": "stream",
     "text": [
      "1. read():\n",
      "Line 1\n",
      "Line 2\n",
      "Line 3\n",
      "Line 4\n",
      "\n",
      "2. read(n):\n",
      "Line 1\n",
      "Lin\n",
      "\n",
      "3. readline():\n",
      "Line 1\n",
      "\n",
      "\n",
      "4. readlines():\n",
      "['Line 1\\n', 'Line 2\\n', 'Line 3\\n', 'Line 4']\n"
     ]
    }
   ],
   "source": [
    "# 10.WAP to demonstrate the working of the following functions:\n",
    "# i) read()\n",
    "# ii) read(n)\n",
    "# iii)readline()\n",
    "# iv) readlines()\n",
    "# Create a sample file\n",
    "a = \"\"\"Line 1\n",
    "Line 2\n",
    "Line 3\n",
    "Line 4\"\"\"\n",
    "\n",
    "with open('file.txt', 'w') as f:\n",
    "    f.write(a)\n",
    "\n",
    "# i) read()\n",
    "print(\"1. read():\")\n",
    "with open('file.txt', 'r') as f:\n",
    "    b = f.read()\n",
    "    print(b)\n",
    "print()\n",
    "\n",
    "# ii) read(n)\n",
    "print(\"2. read(n):\")\n",
    "with open('file.txt', 'r') as f:\n",
    "    c = f.read(10)  # Read first 10 characters\n",
    "    print(c)\n",
    "print()\n",
    "\n",
    "# iii) readline()\n",
    "print(\"3. readline():\")\n",
    "with open('file.txt', 'r') as f:\n",
    "    d = f.readline()\n",
    "    print(d)\n",
    "print()\n",
    "\n",
    "# iv) readlines()\n",
    "print(\"4. readlines():\")\n",
    "with open('file.txt', 'r') as f:\n",
    "    e = f.readlines()\n",
    "    print(e)"
   ]
  },
  {
   "cell_type": "code",
   "execution_count": 25,
   "metadata": {},
   "outputs": [
    {
     "name": "stdout",
     "output_type": "stream",
     "text": [
      "1. write():\n",
      "Content of file1.txt:\n",
      "Hello, World!\n",
      "\n",
      "2. writelines():\n",
      "Content of file2.txt:\n",
      "Line 1\n",
      "Line 2\n",
      "Line 3\n",
      "\n"
     ]
    }
   ],
   "source": [
    "# 11.WAP that exhibits the working of the following functions:\n",
    "# i. write()\n",
    "# ii. writelines()\n",
    "# i. write()\n",
    "print(\"1. write():\")\n",
    "a = \"Hello, World!\"\n",
    "with open('file1.txt', 'w') as f:\n",
    "    f.write(a)\n",
    "\n",
    "# Read and print the content of file1.txt\n",
    "with open('file1.txt', 'r') as f:\n",
    "    b = f.read()\n",
    "    print(\"Content of file1.txt:\")\n",
    "    print(b)\n",
    "print()\n",
    "\n",
    "# ii. writelines()\n",
    "print(\"2. writelines():\")\n",
    "c = [\"Line 1\\n\", \"Line 2\\n\", \"Line 3\\n\"]\n",
    "with open('file2.txt', 'w') as f:\n",
    "    f.writelines(c)\n",
    "\n",
    "# Read and print the content of file2.txt\n",
    "with open('file2.txt', 'r') as f:\n",
    "    d = f.read()\n",
    "    print(\"Content of file2.txt:\")\n",
    "    print(d)"
   ]
  },
  {
   "cell_type": "code",
   "execution_count": 26,
   "metadata": {},
   "outputs": [
    {
     "name": "stdout",
     "output_type": "stream",
     "text": [
      "First 2 lines of the file:\n",
      "1: Line 1\n",
      "2: Line 2\n"
     ]
    }
   ],
   "source": [
    "# 12.Write a Python program to read first n lines of a file.\n",
    "# Create a sample file with some lines\n",
    "a = \"\"\"Line 1\n",
    "Line 2\n",
    "Line 3\n",
    "Line 4\n",
    "Line 5\n",
    "Line 6\n",
    "Line 7\n",
    "Line 8\n",
    "Line 9\n",
    "Line 10\"\"\"\n",
    "\n",
    "with open('file.txt', 'w') as f:\n",
    "    f.write(a)\n",
    "def read_n_lines(n):\n",
    "    with open('file.txt', 'r') as f:\n",
    "        b = []\n",
    "        for i in range(n):\n",
    "            c = f.readline()\n",
    "            if c:\n",
    "                b.append(c.strip())\n",
    "            else:\n",
    "                break\n",
    "    return b\n",
    "\n",
    "d = int(input(\"Enter the number of lines to read: \"))\n",
    "\n",
    "e = read_n_lines(d)\n",
    "print(f\"First {d} lines of the file:\")\n",
    "for i, line in enumerate(e, 1):\n",
    "    print(f\"{i}: {line}\")"
   ]
  },
  {
   "cell_type": "code",
   "execution_count": 27,
   "metadata": {},
   "outputs": [
    {
     "name": "stdout",
     "output_type": "stream",
     "text": [
      "Content of file after appending:\n",
      "Line 1\n",
      "Line 2\n",
      "Line 3\n",
      "Line 4\n",
      "Line 5\n"
     ]
    }
   ],
   "source": [
    "# 13.Write a Python program to append text to a file and display the text.\n",
    "a = \"\"\"Line 1\n",
    "Line 2\n",
    "Line 3\"\"\"\n",
    "\n",
    "with open('file.txt', 'w') as f:\n",
    "    f.write(a)\n",
    "\n",
    "def append_text(b):\n",
    "    with open('file.txt', 'a') as f:\n",
    "        f.write(b)\n",
    "\n",
    "c = \"\\nLine 4\\nLine 5\"\n",
    "\n",
    "append_text(c)\n",
    "\n",
    "def display_file():\n",
    "    with open('file.txt', 'r') as f:\n",
    "        d = f.read()\n",
    "    return d\n",
    "\n",
    "e = display_file()\n",
    "print(\"Content of file after appending:\")\n",
    "print(e)"
   ]
  },
  {
   "cell_type": "code",
   "execution_count": 28,
   "metadata": {},
   "outputs": [
    {
     "name": "stdout",
     "output_type": "stream",
     "text": [
      "Last 3 lines of the file:\n",
      "1: Line 8\n",
      "2: Line 9\n",
      "3: Line 10\n"
     ]
    }
   ],
   "source": [
    "# 14.Write a Python program to read last n lines of a file.\n",
    "a = \"\"\"Line 1\n",
    "Line 2\n",
    "Line 3\n",
    "Line 4\n",
    "Line 5\n",
    "Line 6\n",
    "Line 7\n",
    "Line 8\n",
    "Line 9\n",
    "Line 10\"\"\"\n",
    "\n",
    "with open('file.txt', 'w') as f:\n",
    "    f.write(a)\n",
    "\n",
    "def read_last_n_lines(b):\n",
    "    with open('file.txt', 'r') as f:\n",
    "        c = f.readlines()\n",
    "    d = c[-b:]\n",
    "    return d\n",
    "\n",
    "e = int(input(\"Enter the number of last lines to read: \"))\n",
    "\n",
    "# Read and print the lines\n",
    "f = read_last_n_lines(e)\n",
    "print(f\"Last {e} lines of the file:\")\n",
    "for g, h in enumerate(f, 1):\n",
    "    print(f\"{g}: {h.strip()}\")"
   ]
  },
  {
   "cell_type": "code",
   "execution_count": 29,
   "metadata": {},
   "outputs": [
    {
     "name": "stdout",
     "output_type": "stream",
     "text": [
      "Contents of the file stored in a list:\n",
      "1: Line 1\n",
      "2: Line 2\n",
      "3: Line 3\n",
      "4: Line 4\n",
      "5: Line 5\n",
      "\n",
      "Printing the entire list:\n",
      "['Line 1', 'Line 2', 'Line 3', 'Line 4', 'Line 5']\n"
     ]
    }
   ],
   "source": [
    "# 15.Write a Python program to read a file line by line and store it into a list.\n",
    "a = \"\"\"Line 1\n",
    "Line 2\n",
    "Line 3\n",
    "Line 4\n",
    "Line 5\"\"\"\n",
    "\n",
    "with open('file.txt', 'w') as f:\n",
    "    f.write(a)\n",
    "\n",
    "def read_file_to_list():\n",
    "    b = []\n",
    "    with open('file.txt', 'r') as f:\n",
    "        for c in f:\n",
    "            b.append(c.strip())\n",
    "    return b\n",
    "\n",
    "d = read_file_to_list()\n",
    "\n",
    "print(\"Contents of the file stored in a list:\")\n",
    "for e, f in enumerate(d, 1):\n",
    "    print(f\"{e}: {f}\")\n",
    "\n",
    "print(\"\\nPrinting the entire list:\")\n",
    "print(d)"
   ]
  },
  {
   "cell_type": "code",
   "execution_count": null,
   "metadata": {},
   "outputs": [
    {
     "name": "stdout",
     "output_type": "stream",
     "text": [
      "First Case:\n",
      "Result of 10 / 20 = 0.5\n",
      "This will always execute, regardless of errors\n",
      "\n",
      "Second Case:\n",
      "Error: Cannot divide by zero\n",
      "This will always execute, regardless of errors\n",
      "\n",
      "Third Case:\n",
      "Error: Please enter numbers only\n",
      "This will always execute, regardless of errors\n",
      "\n",
      "Forth Case:\n",
      "Result of 15 / 10 = 1.5\n",
      "This will always execute, regardless of errors\n"
     ]
    }
   ],
   "source": [
    "# 16.Write a program to exhibit these concepts:\n",
    "# i. try\n",
    "# ii. except\n",
    "# iii. finally\n",
    "def a(b, c):\n",
    "    try:\n",
    "        d = b / c\n",
    "        print(f\"Result of {b} / {c} = {d}\")\n",
    "    except ZeroDivisionError:\n",
    "        print(\"Error: Cannot divide by zero\")\n",
    "    except TypeError:\n",
    "        print(\"Error: Please enter numbers only\")\n",
    "    finally:\n",
    "        print(\"This will always execute, regardless of errors\")\n",
    "\n",
    "# Test cases\n",
    "print(\"First Case:\")\n",
    "a(10, 20)\n",
    "\n",
    "print(\"\\nSecond Case:\")\n",
    "a(10, 0)\n",
    "\n",
    "print(\"\\nThird Case:\")\n",
    "a(\"10\", 3)\n",
    "\n",
    "print(\"\\nForth Case:\")\n",
    "a(15, 10)"
   ]
  },
  {
   "cell_type": "code",
   "execution_count": 31,
   "metadata": {},
   "outputs": [
    {
     "name": "stdout",
     "output_type": "stream",
     "text": [
      "Case 1:\n",
      "Result of 10 / 20 = 0.5\n",
      "\n",
      "Case 2:\n",
      "Error: Cannot divide by zero. Please provide a non-zero denominator.\n",
      "\n",
      "Case 3:\n",
      "Error: Cannot divide by zero. Please provide a non-zero denominator.\n"
     ]
    }
   ],
   "source": [
    "# 17.Write a Python program to handle a ZeroDivisionError exception when dividing a number by zero.\n",
    "def divide_numbers(num, den):\n",
    "    try:\n",
    "        result = num / den\n",
    "        print(f\"Result of {num} / {den} = {result}\")\n",
    "    except ZeroDivisionError:\n",
    "        print(\"Error: Cannot divide by zero. Please provide a non-zero denominator.\")\n",
    "\n",
    "# Test cases\n",
    "print(\"Case 1:\")\n",
    "divide_numbers(10, 20)  # Normal division\n",
    "\n",
    "print(\"\\nCase 2:\")\n",
    "divide_numbers(10, 0)  # Division by zero\n",
    "\n",
    "print(\"\\nCase 3:\")\n",
    "divide_numbers(5, 0)   # Another division by zero"
   ]
  },
  {
   "cell_type": "code",
   "execution_count": null,
   "metadata": {},
   "outputs": [
    {
     "name": "stdout",
     "output_type": "stream",
     "text": [
      "You successfully entered the integer: 10\n"
     ]
    }
   ],
   "source": [
    "# 18.Write a Python program that prompts the user to input an integer and raises a ValueError exception if the input is not a valid integer.\n",
    "def get_integer():\n",
    "    while True:\n",
    "        try:\n",
    "            user_input = input(\"Please enter an integer: \")\n",
    "            value = int(user_input)\n",
    "            return value\n",
    "        except ValueError:\n",
    "            print(\"Error: That's not a valid integer. Please try again.\")\n",
    "\n",
    "try:\n",
    "    result = get_integer()\n",
    "    print(f\"You successfully entered the integer: {result}\")\n",
    "except KeyboardInterrupt:\n",
    "    print(\"\\nProgram terminated by user.\")\n",
    "    "
   ]
  },
  {
   "cell_type": "code",
   "execution_count": 34,
   "metadata": {},
   "outputs": [
    {
     "name": "stdout",
     "output_type": "stream",
     "text": [
      "Everything worked fine!\n",
      "Division result: 0.5\n",
      "List value at position 1: 2\n",
      "Program is finished!\n"
     ]
    }
   ],
   "source": [
    "# 19.WAP that exhibits multiple except blocks along with default block\n",
    "try:\n",
    "    a = int(input(\"Enter first number: \"))\n",
    "    b = int(input(\"Enter second number: \"))\n",
    "    c = a / b\n",
    "    my_list = [1, 2, 3, 4, 5]\n",
    "    d = my_list[a]\n",
    "    \n",
    "except ValueError:\n",
    "    print(\"Please enter only numbers!\")\n",
    "    \n",
    "except ZeroDivisionError:\n",
    "    print(\"Cannot divide by zero!\")\n",
    "    \n",
    "except IndexError:\n",
    "    print(\"That position is not in the list!\")\n",
    "    \n",
    "except Exception:\n",
    "    print(\"Something else went wrong!\")\n",
    "    \n",
    "else:\n",
    "    print(\"Everything worked fine!\")\n",
    "    print(f\"Division result: {c}\")\n",
    "    print(f\"List value at position {a}: {d}\")\n",
    "    \n",
    "finally:\n",
    "    print(\"Program is finished!\")\n",
    "\n"
   ]
  },
  {
   "cell_type": "code",
   "execution_count": 4,
   "metadata": {},
   "outputs": [
    {
     "name": "stdout",
     "output_type": "stream",
     "text": [
      "Result: 0.9523809523809523\n"
     ]
    }
   ],
   "source": [
    "# 20.WAP that exhibits except blocks that can catch multiple exceptions.\n",
    "def handle_exceptions():\n",
    "    try:\n",
    "        num1=int(input(\"Enter first number:\"))\n",
    "        num2=int(input(\"Enter second number:\"))\n",
    "        result=num1/num2\n",
    "        print(f\"Result: {result}\")\n",
    "    except(ValueError,TypeError) as e:\n",
    "        print(f\"Invalid input. Please enter valid numbers. Error: {e}\")\n",
    "    except ZeroDivisionError as e:\n",
    "        print(f\"Division by zero is not allowed. Error: {e}\")\n",
    "        \n",
    "    except Exception as e:\n",
    "        print(f\"An unexpected error occurred. Error: {e}\")\n",
    "handle_exceptions()"
   ]
  },
  {
   "cell_type": "code",
   "execution_count": null,
   "metadata": {},
   "outputs": [],
   "source": []
  },
  {
   "cell_type": "code",
   "execution_count": null,
   "metadata": {},
   "outputs": [],
   "source": []
  },
  {
   "cell_type": "code",
   "execution_count": null,
   "metadata": {},
   "outputs": [],
   "source": []
  },
  {
   "cell_type": "code",
   "execution_count": null,
   "metadata": {},
   "outputs": [],
   "source": []
  },
  {
   "cell_type": "code",
   "execution_count": null,
   "metadata": {},
   "outputs": [],
   "source": []
  },
  {
   "cell_type": "code",
   "execution_count": null,
   "metadata": {},
   "outputs": [],
   "source": []
  }
 ],
 "metadata": {
  "kernelspec": {
   "display_name": "Python 3",
   "language": "python",
   "name": "python3"
  },
  "language_info": {
   "codemirror_mode": {
    "name": "ipython",
    "version": 3
   },
   "file_extension": ".py",
   "mimetype": "text/x-python",
   "name": "python",
   "nbconvert_exporter": "python",
   "pygments_lexer": "ipython3",
   "version": "3.13.0"
  }
 },
 "nbformat": 4,
 "nbformat_minor": 2
}
