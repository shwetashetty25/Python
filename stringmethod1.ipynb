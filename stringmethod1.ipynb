{
 "cells": [
  {
   "cell_type": "code",
   "execution_count": 1,
   "metadata": {},
   "outputs": [
    {
     "name": "stdout",
     "output_type": "stream",
     "text": [
      "ABCDEFGHI\n",
      "abcdefghi\n"
     ]
    }
   ],
   "source": [
    "# string method:lower()\n",
    "str1=\"AbcdEfgHI\"\n",
    "print(str1.upper())\n",
    "print(str1.lower())"
   ]
  },
  {
   "cell_type": "code",
   "execution_count": 2,
   "metadata": {},
   "outputs": [
    {
     "name": "stdout",
     "output_type": "stream",
     "text": [
      "ABSHIUEIDH\n"
     ]
    }
   ],
   "source": [
    "# string method: upper()\n",
    "str1=\"abshiueidh\"\n",
    "print(str1.upper())"
   ]
  },
  {
   "cell_type": "code",
   "execution_count": 3,
   "metadata": {},
   "outputs": [
    {
     "name": "stdout",
     "output_type": "stream",
     "text": [
      "hwloo\n"
     ]
    }
   ],
   "source": [
    "#string method: r.strip()\n",
    "str2=\"hwloo!!\"\n",
    "print(str2.rstrip('!'))"
   ]
  },
  {
   "cell_type": "code",
   "execution_count": 4,
   "metadata": {},
   "outputs": [
    {
     "name": "stdout",
     "output_type": "stream",
     "text": [
      "Shetty!!! Shetty!!!\n"
     ]
    }
   ],
   "source": [
    "# string method: replace()\n",
    "a=\"Shweta!!! Shweta!!!\"\n",
    "print(a.replace('Shweta','Shetty'))\n"
   ]
  },
  {
   "cell_type": "code",
   "execution_count": 5,
   "metadata": {},
   "outputs": [
    {
     "name": "stdout",
     "output_type": "stream",
     "text": [
      "['Tinu', 'Mina', 'Riya', 'Piya']\n"
     ]
    }
   ],
   "source": [
    "#string method:split()\n",
    "a=\"Tinu Mina Riya Piya\"\n",
    "print(a.split(\" \"))"
   ]
  },
  {
   "cell_type": "code",
   "execution_count": 6,
   "metadata": {},
   "outputs": [
    {
     "name": "stdout",
     "output_type": "stream",
     "text": [
      "Namaste\n",
      "Thanks\n",
      "Bye\n"
     ]
    }
   ],
   "source": [
    "# string method: capitalize()\n",
    "a=(\"namaSte\")\n",
    "b=(\"thAnks\")\n",
    "c=(\"byE\")\n",
    "print(a.capitalize())\n",
    "print(b.capitalize())\n",
    "print(c.capitalize())"
   ]
  },
  {
   "cell_type": "code",
   "execution_count": 7,
   "metadata": {},
   "outputs": [
    {
     "name": "stdout",
     "output_type": "stream",
     "text": [
      "           Hey my name is Shweta            \n",
      "              Nice to meet you              \n"
     ]
    }
   ],
   "source": [
    "# string method:center()\n",
    "a=(\"Hey my name is Shweta \")\n",
    "print(a.center(44))\n",
    "b=(\"Nice to meet you\")\n",
    "print(b.center(44))"
   ]
  },
  {
   "cell_type": "code",
   "execution_count": 8,
   "metadata": {},
   "outputs": [
    {
     "name": "stdout",
     "output_type": "stream",
     "text": [
      "2\n"
     ]
    }
   ],
   "source": [
    "#string method: count()\n",
    "str1=\"brunomars\"\n",
    "print(str1.count('r'))"
   ]
  }
 ],
 "metadata": {
  "kernelspec": {
   "display_name": "Python 3",
   "language": "python",
   "name": "python3"
  },
  "language_info": {
   "codemirror_mode": {
    "name": "ipython",
    "version": 3
   },
   "file_extension": ".py",
   "mimetype": "text/x-python",
   "name": "python",
   "nbconvert_exporter": "python",
   "pygments_lexer": "ipython3",
   "version": "3.13.0"
  }
 },
 "nbformat": 4,
 "nbformat_minor": 2
}
