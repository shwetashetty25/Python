{
 "cells": [
  {
   "cell_type": "code",
   "execution_count": 1,
   "metadata": {},
   "outputs": [
    {
     "name": "stdout",
     "output_type": "stream",
     "text": [
      "Hey my name is Shweta and I'm from India\n"
     ]
    }
   ],
   "source": [
    "# format:\n",
    "letter=\"Hey my name is {0} and I'm from {1}\"\n",
    "name=\"Shweta\"\n",
    "country=\"India\"\n",
    "print(letter.format(name,country))"
   ]
  },
  {
   "cell_type": "code",
   "execution_count": 2,
   "metadata": {},
   "outputs": [
    {
     "name": "stdout",
     "output_type": "stream",
     "text": [
      "Hey my name is SHWETA SHETTY and I'm from India\n"
     ]
    }
   ],
   "source": [
    "# f'string:\n",
    "name=\"SHWETA SHETTY\"\n",
    "country=\"India\"\n",
    "print(f\"Hey my name is {name} and I'm from {country}\")"
   ]
  },
  {
   "cell_type": "code",
   "execution_count": 3,
   "metadata": {},
   "outputs": [
    {
     "name": "stdout",
     "output_type": "stream",
     "text": [
      "For 32.46 rupees only!!\n"
     ]
    }
   ],
   "source": [
    "# format method:\n",
    "txt=\"For {price:.2f} rupees only!!\"\n",
    "print(txt.format(price=32.455322))"
   ]
  },
  {
   "cell_type": "code",
   "execution_count": 4,
   "metadata": {},
   "outputs": [
    {
     "name": "stdout",
     "output_type": "stream",
     "text": [
      "For 34.45 rupees only!!\n"
     ]
    }
   ],
   "source": [
    "# f-string:\n",
    "price=34.45204232\n",
    "txt=f\"For {price:.2f} rupees only!!\"\n",
    "print(txt)"
   ]
  },
  {
   "cell_type": "code",
   "execution_count": 5,
   "metadata": {},
   "outputs": [
    {
     "name": "stdout",
     "output_type": "stream",
     "text": [
      "60\n",
      "<class 'str'>\n"
     ]
    }
   ],
   "source": [
    "# f-string:\n",
    "print(f\"{2*30}\")\n",
    "print(type(f\"{2*30}\"))"
   ]
  },
  {
   "cell_type": "code",
   "execution_count": 6,
   "metadata": {},
   "outputs": [
    {
     "name": "stdout",
     "output_type": "stream",
     "text": [
      "for only 49.21 rupees\n"
     ]
    }
   ],
   "source": [
    "price=49.2112\n",
    "txt=f\"for only {price:.2f} rupees\"\n",
    "print(txt)"
   ]
  },
  {
   "cell_type": "code",
   "execution_count": 7,
   "metadata": {},
   "outputs": [
    {
     "name": "stdout",
     "output_type": "stream",
     "text": [
      "4\n",
      "Takes in a number n , returns the value of square in n\n"
     ]
    }
   ],
   "source": [
    "# doc-strings:\n",
    "n=int(input(\"enter a number\"))\n",
    "def square(n):\n",
    "    '''Takes in a number n , returns the value of square in n'''\n",
    "    print(n**2)\n",
    "square(n)\n",
    "print(square.__doc__)\n"
   ]
  },
  {
   "cell_type": "code",
   "execution_count": 8,
   "metadata": {},
   "outputs": [
    {
     "name": "stdout",
     "output_type": "stream",
     "text": [
      "harry\n",
      "21\n",
      "Adds your name and age\n"
     ]
    }
   ],
   "source": [
    "name=input(\"enter your name\")\n",
    "age=int(input(\"enter your age\"))\n",
    "def access(name,age):\n",
    "    '''Adds your name and age'''\n",
    "    print(name)\n",
    "    print(age)\n",
    "access(name,age)\n",
    "print(access.__doc__)\n"
   ]
  }
 ],
 "metadata": {
  "kernelspec": {
   "display_name": "Python 3",
   "language": "python",
   "name": "python3"
  },
  "language_info": {
   "codemirror_mode": {
    "name": "ipython",
    "version": 3
   },
   "file_extension": ".py",
   "mimetype": "text/x-python",
   "name": "python",
   "nbconvert_exporter": "python",
   "pygments_lexer": "ipython3",
   "version": "3.13.0"
  }
 },
 "nbformat": 4,
 "nbformat_minor": 2
}
