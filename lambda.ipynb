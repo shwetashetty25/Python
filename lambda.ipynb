{
 "cells": [
  {
   "cell_type": "code",
   "execution_count": 1,
   "metadata": {},
   "outputs": [
    {
     "name": "stdout",
     "output_type": "stream",
     "text": [
      "Square of 5 is 25\n",
      "Square of 6 is 36\n"
     ]
    }
   ],
   "source": [
    "def square(a):\n",
    "    return a*a \n",
    "print(\"Square of 5 is\",square(5))\n",
    "\n",
    "s=lambda n: n*n\n",
    "print(\"Square of 6 is\", s(6))"
   ]
  },
  {
   "cell_type": "code",
   "execution_count": 2,
   "metadata": {},
   "outputs": [
    {
     "name": "stdout",
     "output_type": "stream",
     "text": [
      "The sum of 10,20 is : 30\n",
      "The sum of 100,200 is: 300\n"
     ]
    }
   ],
   "source": [
    "r=lambda a,b:a+b\n",
    "print(\"The sum of 10,20 is :\", r (10,20))\n",
    "print(\"The sum of 100,200 is:\", r (100,200))"
   ]
  },
  {
   "cell_type": "code",
   "execution_count": 3,
   "metadata": {},
   "outputs": [
    {
     "name": "stdout",
     "output_type": "stream",
     "text": [
      "The biggest of 10,20 is: 20\n",
      "The biggest of 100,200 is: 200\n"
     ]
    }
   ],
   "source": [
    "s=lambda a,b:a if a>b else b\n",
    "print(\"The biggest of 10,20 is:\", s(10,20))\n",
    "print(\"The biggest of 100,200 is:\",s(100,200))"
   ]
  }
 ],
 "metadata": {
  "kernelspec": {
   "display_name": "Python 3",
   "language": "python",
   "name": "python3"
  },
  "language_info": {
   "codemirror_mode": {
    "name": "ipython",
    "version": 3
   },
   "file_extension": ".py",
   "mimetype": "text/x-python",
   "name": "python",
   "nbconvert_exporter": "python",
   "pygments_lexer": "ipython3",
   "version": "3.13.0"
  }
 },
 "nbformat": 4,
 "nbformat_minor": 2
}
