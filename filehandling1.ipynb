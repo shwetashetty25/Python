{
 "cells": [
  {
   "cell_type": "code",
   "execution_count": 1,
   "metadata": {},
   "outputs": [],
   "source": [
    "f=open('sample.txt','a')\n",
    "f.write(\"Hello Shweta\")\n",
    "f.write(\"How are you\")\n",
    "f.write(\"\\n I'm fine thank you\")\n",
    "f.close()"
   ]
  },
  {
   "cell_type": "code",
   "execution_count": 2,
   "metadata": {},
   "outputs": [
    {
     "name": "stdout",
     "output_type": "stream",
     "text": [
      "Hello \n",
      "Good morning\n"
     ]
    }
   ],
   "source": [
    "#writelines() method multiline string\n",
    "f=open(\"Test_file.txt\", \"w\")\n",
    "s= '''Hello \n",
    "Good morning'''\n",
    "f.writelines(s)\n",
    "f.close()\n",
    "\n",
    "#Reading the written file\n",
    "f = open('Test_file.txt','r')\n",
    "print(f.read())\n",
    "f.close()"
   ]
  },
  {
   "cell_type": "code",
   "execution_count": null,
   "metadata": {},
   "outputs": [
    {
     "name": "stdout",
     "output_type": "stream",
     "text": [
      "Enter text, press * in the last line to translate\n"
     ]
    }
   ],
   "source": [
    "f=open(\"File1.txt\",\"w\")\n",
    "print(\"Enter text, press * in the last line to translate\")\n",
    "s=\"\"\n",
    "while s!='*':\n",
    "    s=input()\n",
    "    if s !='*':\n",
    "        f.write(s+\"\\n\")\n",
    "\n",
    "f.close()\n",
    "f=open(\"File1.txt\", \"r\")\n",
    "data= f.read()\n",
    "print(data)\n",
    "f.close()"
   ]
  },
  {
   "cell_type": "code",
   "execution_count": null,
   "metadata": {},
   "outputs": [],
   "source": [
    "f =open(\"abcd.txt\",\"w\")\n",
    "list=[\"apple\\n\",\"cherry\\n\", \"banana\\n\", \"grapes\\n\"]\n",
    "f.writelines(list)\n",
    "f.close()\n",
    "f=open(\"abcd.txt\", \"r\")\n",
    "print(f.read())\n",
    "f.close()\n"
   ]
  },
  {
   "cell_type": "code",
   "execution_count": null,
   "metadata": {},
   "outputs": [],
   "source": [
    "f=open(\"abcd.txt\",\"r\")\n",
    "data=f.read(8)\n",
    "print(type(data))\n",
    "print(data)\n",
    "f.close()"
   ]
  }
 ],
 "metadata": {
  "kernelspec": {
   "display_name": "Python 3",
   "language": "python",
   "name": "python3"
  },
  "language_info": {
   "codemirror_mode": {
    "name": "ipython",
    "version": 3
   },
   "file_extension": ".py",
   "mimetype": "text/x-python",
   "name": "python",
   "nbconvert_exporter": "python",
   "pygments_lexer": "ipython3",
   "version": "3.13.0"
  }
 },
 "nbformat": 4,
 "nbformat_minor": 2
}
