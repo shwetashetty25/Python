{
 "cells": [
  {
   "cell_type": "code",
   "execution_count": 1,
   "metadata": {},
   "outputs": [
    {
     "name": "stdout",
     "output_type": "stream",
     "text": [
      "Hello SONG JOHN LEE\n"
     ]
    }
   ],
   "source": [
    "# default argument:function\n",
    "def names(Aname=\"BEN\",Bname=\"JOHN\",Cname=\"LEE\"):\n",
    "    print(\"Hello\",Aname,Bname,Cname)\n",
    "names(\"SONG\")"
   ]
  },
  {
   "cell_type": "code",
   "execution_count": 2,
   "metadata": {},
   "outputs": [
    {
     "name": "stdout",
     "output_type": "stream",
     "text": [
      "The numbers are:,ONE,TWO,THREE\n"
     ]
    }
   ],
   "source": [
    "# Keyword argument:function\n",
    "def number(first,second,third):\n",
    "    print(\"The numbers are:\",first,second,third,sep=\",\")\n",
    "number(third=\"THREE\",first=\"ONE\",second=\"TWO\")"
   ]
  },
  {
   "cell_type": "code",
   "execution_count": 3,
   "metadata": {},
   "outputs": [
    {
     "name": "stdout",
     "output_type": "stream",
     "text": [
      "The average number is: 4.5\n"
     ]
    }
   ],
   "source": [
    "# required argument(positional argument):function\n",
    "def average(a,b,c=1):\n",
    "    print(\"The average number is:\",(a+b+c)/2)\n",
    "average(3,5)"
   ]
  },
  {
   "cell_type": "code",
   "execution_count": 4,
   "metadata": {},
   "outputs": [
    {
     "name": "stdout",
     "output_type": "stream",
     "text": [
      "0.5\n"
     ]
    }
   ],
   "source": [
    "# variable length arguments:functions\n",
    "def average(*numbers):\n",
    "    sum=0\n",
    "    for i in numbers:\n",
    "        sum=sum+i\n",
    "        return sum/len(numbers)\n",
    "c=average(2,2,2,2)\n",
    "print(c)"
   ]
  },
  {
   "cell_type": "code",
   "execution_count": 5,
   "metadata": {},
   "outputs": [
    {
     "name": "stdout",
     "output_type": "stream",
     "text": [
      "Hello, JAMES JOHN WATSON\n"
     ]
    }
   ],
   "source": [
    "# variable length arguments using arbitary keywords:\n",
    "def name(*name):\n",
    "    print(\"Hello,\",name[0],name[1],name[2])\n",
    "name(\"JAMES\",\"JOHN\",\"WATSON\")"
   ]
  }
 ],
 "metadata": {
  "kernelspec": {
   "display_name": "Python 3",
   "language": "python",
   "name": "python3"
  },
  "language_info": {
   "codemirror_mode": {
    "name": "ipython",
    "version": 3
   },
   "file_extension": ".py",
   "mimetype": "text/x-python",
   "name": "python",
   "nbconvert_exporter": "python",
   "pygments_lexer": "ipython3",
   "version": "3.13.0"
  }
 },
 "nbformat": 4,
 "nbformat_minor": 2
}
