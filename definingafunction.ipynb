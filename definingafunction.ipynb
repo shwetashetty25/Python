{
 "cells": [
  {
   "cell_type": "code",
   "execution_count": 1,
   "metadata": {},
   "outputs": [
    {
     "name": "stdout",
     "output_type": "stream",
     "text": [
      "2003 is not a leap year)\n"
     ]
    }
   ],
   "source": [
    "#WAP to check whether a year is a leap year or not. A year is a leap year if “any one of ” the ollowing conditions are satisfied: • The year is multiple of 400. • The year is a multiple of 4 and not a multiple of 100\n",
    "def is_leap_year(year):\n",
    "    if (year % 400 == 0) or (year % 4 == 0 and year % 100 != 0):\n",
    "        return True\n",
    "    else:\n",
    "        return False\n",
    "year = int(input(\"Enter a year:\"))\n",
    "if is_leap_year(year):\n",
    "    print(f\"{year} is a leap year\")\n",
    "else:\n",
    "    print(f\"{year} is not a leap year)\")"
   ]
  },
  {
   "cell_type": "code",
   "execution_count": 2,
   "metadata": {},
   "outputs": [
    {
     "name": "stdout",
     "output_type": "stream",
     "text": [
      "Hello world\n"
     ]
    }
   ],
   "source": [
    "def func1():\n",
    "    print(\"Hello world\")\n",
    "func1()"
   ]
  },
  {
   "cell_type": "code",
   "execution_count": 3,
   "metadata": {},
   "outputs": [
    {
     "name": "stdout",
     "output_type": "stream",
     "text": [
      "5 is Odd number\n",
      "4 is Even number\n"
     ]
    }
   ],
   "source": [
    "def even_odd(num):\n",
    "    if num%2==0:\n",
    "        print(num,\"is Even number\")\n",
    "    else:\n",
    "        print(num,\"is Odd number\")\n",
    "even_odd(5)\n",
    "even_odd(4)"
   ]
  },
  {
   "cell_type": "code",
   "execution_count": 4,
   "metadata": {},
   "outputs": [
    {
     "data": {
      "text/plain": [
       "11"
      ]
     },
     "execution_count": 4,
     "metadata": {},
     "output_type": "execute_result"
    }
   ],
   "source": [
    "def add_func(num1,num2):\n",
    "    return num1+num2\n",
    "add_func(5,6)"
   ]
  },
  {
   "cell_type": "code",
   "execution_count": 5,
   "metadata": {},
   "outputs": [
    {
     "name": "stdout",
     "output_type": "stream",
     "text": [
      "The factorial of  1 is : 1\n",
      "The factorial of  2 is : 2\n",
      "The factorial of  3 is : 6\n",
      "The factorial of  4 is : 24\n"
     ]
    }
   ],
   "source": [
    "def fact(num):\n",
    "    result=1\n",
    "    while num>=1:\n",
    "        result=result*num\n",
    "        num=num-1\n",
    "    return result   \n",
    "for i in range(1,5):\n",
    "    print(\"The factorial of \",i,\"is :\",fact(i))"
   ]
  },
  {
   "cell_type": "code",
   "execution_count": 6,
   "metadata": {},
   "outputs": [
    {
     "name": "stdout",
     "output_type": "stream",
     "text": [
      "The sum is: 150\n",
      "The subtraction is: 50\n"
     ]
    }
   ],
   "source": [
    "def sum_sub(a,b):\n",
    "    add=a+b\n",
    "    sub=a-b\n",
    "    return add,sub\n",
    "x,y=sum_sub(100,50)\n",
    "print(\"The sum is:\",x)\n",
    "print(\"The subtraction is:\",y)"
   ]
  },
  {
   "cell_type": "code",
   "execution_count": 7,
   "metadata": {},
   "outputs": [
    {
     "name": "stdout",
     "output_type": "stream",
     "text": [
      "The result of Addition,subtraction,multiplication,division are respectively\n",
      "130\n",
      "70\n",
      "3000\n",
      "3.3333333333333335\n"
     ]
    }
   ],
   "source": [
    "def calc(a,b):\n",
    "    add=a+b\n",
    "    sub=a-b\n",
    "    mul=a*b\n",
    "    div=a/b\n",
    "    return add,sub,mul,div\n",
    "t=calc(100,30)\n",
    "print(\"The result of Addition,subtraction,multiplication,division are respectively\")\n",
    "for i in t:\n",
    "    print(i)"
   ]
  },
  {
   "cell_type": "code",
   "execution_count": 8,
   "metadata": {},
   "outputs": [
    {
     "name": "stdout",
     "output_type": "stream",
     "text": [
      "-100\n",
      "100\n"
     ]
    }
   ],
   "source": [
    "# positional argument\n",
    "def sub(a,b):\n",
    "    print(a-b)\n",
    "sub(100,200)\n",
    "sub(200,100)"
   ]
  },
  {
   "cell_type": "code",
   "execution_count": 9,
   "metadata": {},
   "outputs": [
    {
     "name": "stdout",
     "output_type": "stream",
     "text": [
      "Subject is A and mark are 100\n"
     ]
    }
   ],
   "source": [
    "def marksst(subject,marks):\n",
    "    print(\"Subject is %s and mark are %d\"%(subject,marks))\n",
    "marksst(\"A\",100)"
   ]
  },
  {
   "cell_type": "code",
   "execution_count": 10,
   "metadata": {},
   "outputs": [
    {
     "name": "stdout",
     "output_type": "stream",
     "text": [
      "10 \n",
      "10 20 \n",
      "10 20 30 \n"
     ]
    }
   ],
   "source": [
    "def func1(arg1,*var_arg):\n",
    "    print(arg1, end=\" \")\n",
    "    for i in var_arg:\n",
    "        print(i, end=\" \")\n",
    "    print()\n",
    "\n",
    "func1(10)\n",
    "func1(10,20)\n",
    "func1(10,20,30)"
   ]
  },
  {
   "cell_type": "code",
   "execution_count": 11,
   "metadata": {},
   "outputs": [
    {
     "name": "stdout",
     "output_type": "stream",
     "text": [
      "hey how are you fine thank you\n"
     ]
    }
   ],
   "source": [
    "def greet(name,msg):\n",
    "    print(\"hey\",name,msg)\n",
    "greet(\"how are you\",\"fine thank you\") "
   ]
  },
  {
   "cell_type": "code",
   "execution_count": 12,
   "metadata": {},
   "outputs": [],
   "source": [
    "def func_kwarg(**data):\n",
    "    print(\"\\nData type of argument:\",type={data})\n",
    "    for key,value in data.items():\n",
    "        print(\"{} is {}\".format(key,value))\n",
    "        func_kwarg(Firstname = \"Sita\", Lastname= \"Sharma\", Age=\"22\", Phone= 1234567890)\n",
    "        func_kwarg(Firstname=\"John\" , Lastname= \"Norton\" ,Email=\"john@gmail.com\" , Country=\"India\" , Age=\"25\" , Phone=1234567890)"
   ]
  },
  {
   "cell_type": "code",
   "execution_count": 13,
   "metadata": {},
   "outputs": [],
   "source": [
    "def capitalize(text):\n",
    "    return text.upper()\n",
    "def greet(name):\n",
    "    return f\"hello\""
   ]
  },
  {
   "cell_type": "code",
   "execution_count": 14,
   "metadata": {},
   "outputs": [],
   "source": [
    "def recursive_factorial(n):\n",
    "    if n==1:\n",
    "        return n\n",
    "    else:\n",
    "        return n* recursive_factorial(n-1)\n",
    "    num=int(input(\"Enter a positive number\"))\n",
    "    if num<0:\n",
    "        print(\"Invalid input! Please enter a positive number\")\n",
    "    elif num==0:\n",
    "        print(\"\")"
   ]
  }
 ],
 "metadata": {
  "kernelspec": {
   "display_name": "Python 3",
   "language": "python",
   "name": "python3"
  },
  "language_info": {
   "codemirror_mode": {
    "name": "ipython",
    "version": 3
   },
   "file_extension": ".py",
   "mimetype": "text/x-python",
   "name": "python",
   "nbconvert_exporter": "python",
   "pygments_lexer": "ipython3",
   "version": "3.13.0"
  }
 },
 "nbformat": 4,
 "nbformat_minor": 2
}
