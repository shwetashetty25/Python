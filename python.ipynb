{
 "cells": [
  {
   "cell_type": "code",
   "execution_count": 2,
   "metadata": {},
   "outputs": [
    {
     "name": "stdout",
     "output_type": "stream",
     "text": [
      "30\n"
     ]
    }
   ],
   "source": [
    "a=10\n",
    "b=20\n",
    "print(a+b)"
   ]
  },
  {
   "cell_type": "code",
   "execution_count": null,
   "metadata": {},
   "outputs": [],
   "source": [
    "#1.WAP to check whether a number is even or odd.\n",
    "a=float(input(\"Enter a no.:\"))  \n",
    "if a%2==0:\n",
    "    print(\"a is even\")\n",
    "else:\n",
    "    print(\"a is odd\")"
   ]
  },
  {
   "cell_type": "code",
   "execution_count": 5,
   "metadata": {},
   "outputs": [
    {
     "name": "stdout",
     "output_type": "stream",
     "text": [
      "Eligible for voting\n"
     ]
    }
   ],
   "source": [
    "#2.WAP to check whether person is eligible for voting.\n",
    "a=int(input(\"Enter a number\"))\n",
    "if a>18:\n",
    "    print(\"Eligible for voting\")\n",
    "else:\n",
    "    print(\"Not eligible for voting\")\n",
    "    "
   ]
  },
  {
   "cell_type": "code",
   "execution_count": 2,
   "metadata": {},
   "outputs": [
    {
     "name": "stdout",
     "output_type": "stream",
     "text": [
      "Thursday\n"
     ]
    }
   ],
   "source": [
    "#3.WAP to enter a number between 1 to 7 as days of a week and print the day accordingly.(Monday, Tuesday ...) using if elif case.\n",
    "weekday=int(input(\"Enter weekday day no.(1-7)\"))\n",
    "if weekday==1:\n",
    "    print(\"monday\")\n",
    "elif weekday==2:\n",
    "    print(\"Tuesday\")\n",
    "elif weekday==3:\n",
    "    print(\"Wednesday\")\n",
    "elif weekday==4:\n",
    "    print(\"Thursday\")\n",
    "elif weekday==5:\n",
    "    print(\"Friday\")\n",
    "elif weekday==6:\n",
    "    print(\"Saturday\")\n",
    "elif weekday==7:\n",
    "    print(\"Sunday\")\n",
    "elif(weekday<1):\n",
    "    print(\"Put a number between 1 and 7\")\n",
    "else:\n",
    "    (weekday>7)\n",
    "    print(\"Put a number between 1 and 7\")"
   ]
  },
  {
   "cell_type": "code",
   "execution_count": 1,
   "metadata": {},
   "outputs": [
    {
     "name": "stdout",
     "output_type": "stream",
     "text": [
      "Tuesday\n"
     ]
    }
   ],
   "source": [
    "#4.WAP to enter a number between 1 to 7 as days of a week and print the day accordingly. (Monday, Tuesday ...) using match case.\n",
    "day_number = int(input(\"Enter a number between 1 and 7:\"))\n",
    "match day_number:\n",
    "    case 1:\n",
    "        print(\"Monday\")\n",
    "    case 2:\n",
    "        print(\"Tuesday\")\n",
    "    case 3:\n",
    "        print(\"Wednesday\")\n",
    "    case 4:\n",
    "        print(\"Thursday\")\n",
    "    case 5:\n",
    "        print(\"Friday\")\n",
    "    case 6:\n",
    "        print(\"Saturday\")\n",
    "    case 7:\n",
    "        print(\"Sunday\")\n",
    "    case _:\n",
    "        print(\"Invalid input! Please enter a number between 1 and 7.\")\n"
   ]
  },
  {
   "cell_type": "code",
   "execution_count": 5,
   "metadata": {},
   "outputs": [
    {
     "name": "stdout",
     "output_type": "stream",
     "text": [
      "2024 is a leap year\n"
     ]
    }
   ],
   "source": [
    "#5.fWAP to check whether a year is a leap year or not. A year is a leap year if “any one of ” the ollowing conditions are satisfied: • The year is multiple of 400. • The year is a multiple of 4 and not a multiple of 100\n",
    "def is_leap_year(year):\n",
    "    if (year % 400 == 0) or (year % 4 == 0 and year % 100 != 0):\n",
    "        return True\n",
    "    else:\n",
    "        return False\n",
    "year = int(input(\"Enter a year:\"))\n",
    "if is_leap_year(year):\n",
    "    print(f\"{year} is a leap year\")\n",
    "else:\n",
    "    print(f\"{year} is not a leap year)\")"
   ]
  },
  {
   "cell_type": "code",
   "execution_count": 8,
   "metadata": {},
   "outputs": [
    {
     "name": "stdout",
     "output_type": "stream",
     "text": [
      "Grade: D\n"
     ]
    }
   ],
   "source": [
    "#6. WAP to calculate to take in the marks of 5 subjects, compute average and display the grade as per following rules: • average >= 90 : “A\"• average >= 80 : “B\"• average >= 70 : “C\"• average= 60:“D”\n",
    "marks = [float(input(f\"Enter marks for subject {i + 1}: \")) for i in range(5)]\n",
    "average = sum(marks) / len(marks)\n",
    "if average >= 90:\n",
    "    grade = \"A\"\n",
    "elif average >= 80:\n",
    "    grade = \"B\"\n",
    "elif average >= 70:\n",
    "    grade = \"C\"\n",
    "elif average >= 60:\n",
    "    grade = \"D\"\n",
    "else:\n",
    "    grade = \"F\"\n",
    "    print(f\"Average marks: {average:.2f}\")\n",
    "print(f\"Grade: {grade}\")"
   ]
  },
  {
   "cell_type": "code",
   "execution_count": 9,
   "metadata": {},
   "outputs": [
    {
     "name": "stdout",
     "output_type": "stream",
     "text": [
      "e is a vowel.\n"
     ]
    }
   ],
   "source": [
    "#7.WAP to input a character. Check whether the character is vowel or consonant.\n",
    "char = input(\"Enter a character: \").lower()\n",
    "if len(char) == 1 and char.isalpha():\n",
    "    if char in 'aeiou':\n",
    "        print(f\"{char} is a vowel.\")\n",
    "    else:\n",
    "        print(f\"{char} is a consonant.\")\n",
    "else:\n",
    "    print(\"Invalid input! Please enter a single alphabetic character.\")\n"
   ]
  },
  {
   "cell_type": "code",
   "execution_count": 10,
   "metadata": {},
   "outputs": [
    {
     "name": "stdout",
     "output_type": "stream",
     "text": [
      "30 found in the list.\n"
     ]
    }
   ],
   "source": [
    "#8.WAP to search an element in a list [use for: else clause]\n",
    "my_list = [10, 20, 30, 40, 50]\n",
    "search_element = int(input(\"Enter the element to search: \"))\n",
    "for i in my_list:\n",
    "    if i == search_element:\n",
    "        print(f\"{search_element} found in the list.\")\n",
    "        break\n",
    "else:\n",
    "    print(f\"{search_element} not found in the list.\")"
   ]
  },
  {
   "cell_type": "code",
   "execution_count": 11,
   "metadata": {},
   "outputs": [
    {
     "name": "stdout",
     "output_type": "stream",
     "text": [
      "Eight\n"
     ]
    }
   ],
   "source": [
    "#9.Write a program to take a single digit number from the key board and print its spelling in English word using if elif.\n",
    "digit = input(\"Enter a single-digit number (0-9): \")\n",
    "if digit == \"0\":\n",
    "    print(\"Zero\")\n",
    "elif digit == \"1\":\n",
    "    print(\"One\")\n",
    "elif digit == \"2\":\n",
    "    print(\"Two\")\n",
    "elif digit == \"3\":\n",
    "    print(\"Three\")\n",
    "elif digit == \"4\":\n",
    "    print(\"Four\")\n",
    "elif digit == \"5\":\n",
    "    print(\"Five\")\n",
    "elif digit == \"6\":\n",
    "    print(\"Six\")\n",
    "elif digit == \"7\":\n",
    "    print(\"Seven\")\n",
    "elif digit == \"8\":\n",
    "    print(\"Eight\")\n",
    "elif digit == \"9\":\n",
    "    print(\"Nine\")\n",
    "else:\n",
    "    print(\"Invalid input! Please enter a single-digit number.\")"
   ]
  },
  {
   "cell_type": "code",
   "execution_count": 12,
   "metadata": {},
   "outputs": [
    {
     "name": "stdout",
     "output_type": "stream",
     "text": [
      "The numbers in ascending order are: [4.0, 5.0, 6.0]\n"
     ]
    }
   ],
   "source": [
    "#10.WAP to input three numbers and arrange them in ascending numbers.\n",
    "num1 = float(input(\"Enter the first number: \"))\n",
    "num2 = float(input(\"Enter the second number: \"))\n",
    "num3 = float(input(\"Enter the third number: \"))\n",
    "numbers = [num1, num2, num3]\n",
    "numbers.sort()\n",
    "print(\"The numbers in ascending order are:\", numbers)"
   ]
  },
  {
   "cell_type": "code",
   "execution_count": 13,
   "metadata": {},
   "outputs": [
    {
     "name": "stdout",
     "output_type": "stream",
     "text": [
      "Six\n"
     ]
    }
   ],
   "source": [
    "#11. Write a program to take a single digit number from the key board and print its spelling in English word using match case\n",
    "digit = int(input(\"Enter a single-digit number: \"))\n",
    "match digit:\n",
    "    case 0:\n",
    "        print(\"Zero\")\n",
    "    case 1:\n",
    "        print(\"One\")\n",
    "    case 2:\n",
    "        print(\"Two\")\n",
    "    case 3:\n",
    "        print(\"Three\")\n",
    "    case 4:\n",
    "        print(\"Four\")\n",
    "    case 5:\n",
    "        print(\"Five\")\n",
    "    case 6:\n",
    "        print(\"Six\")\n",
    "    case 7:\n",
    "        print(\"Seven\")\n",
    "    case 8:\n",
    "        print(\"Eight\")\n",
    "    case 9:\n",
    "        print(\"Nine\")\n",
    "    case _:\n",
    "        print(\"Please enter a valid single-digit number.\")\n"
   ]
  },
  {
   "cell_type": "code",
   "execution_count": 14,
   "metadata": {},
   "outputs": [
    {
     "name": "stdout",
     "output_type": "stream",
     "text": [
      "The result of 4.0 + 9.0 is: 13.0\n"
     ]
    }
   ],
   "source": [
    "#12.WAP to read two numbers and arithmetic operator [+,-,*,/,%] perform the operation and display the computed result. [Hint: use elif statement]\n",
    "num1 = float(input(\"Enter the first number: \"))\n",
    "num2 = float(input(\"Enter the second number: \"))\n",
    "operator = input(\"Enter an arithmetic operator (+, -, *, /, %): \")\n",
    "if operator == '+':\n",
    "    result = num1 + num2\n",
    "    print(f\"The result of {num1} + {num2} is: {result}\")\n",
    "elif operator == '-':\n",
    "    result = num1 - num2\n",
    "    print(f\"The result of {num1} - {num2} is: {result}\")\n",
    "elif operator == '*':\n",
    "    result = num1 * num2\n",
    "    print(f\"The result of {num1} * {num2} is: {result}\")\n",
    "elif operator == '/':\n",
    "    if num2 != 0:\n",
    "        result = num1 / num2\n",
    "        print(f\"The result of {num1} / {num2} is: {result}\")\n",
    "    else:\n",
    "        print(\"Error: Division by zero is not allowed.\")\n",
    "elif operator == '%':\n",
    "    if num2 != 0:\n",
    "        result = num1 % num2\n",
    "        print(f\"The result of {num1} % {num2} is: {result}\")\n",
    "    else:\n",
    "        print(\"Error: Division by zero is not allowed.\")\n",
    "else:\n",
    "    print(\"Invalid operator. Please use one of +, -, *, /, %.\")"
   ]
  },
  {
   "cell_type": "code",
   "execution_count": 15,
   "metadata": {},
   "outputs": [
    {
     "name": "stdout",
     "output_type": "stream",
     "text": [
      "jennie is a lowercase letter.\n"
     ]
    }
   ],
   "source": [
    "#13. WAP to check whether a inputted character is uppercase or lowercase or digit or any other character.\n",
    "char = input(\"Enter a character:\")\n",
    "if char.isupper():\n",
    "    print(f\"{char} is an uppercase letter.\")\n",
    "elif char.islower():\n",
    "    print(f\"{char} is a lowercase letter.\")\n",
    "elif char.isdigit():\n",
    "    print(f\"{char} is a digit.\")\n",
    "else:\n",
    "    print(f\"{char} is another type of character.\")\n",
    "\n"
   ]
  },
  {
   "cell_type": "code",
   "execution_count": 2,
   "metadata": {},
   "outputs": [
    {
     "name": "stdout",
     "output_type": "stream",
     "text": [
      "['tic-tac', 'toe']\n"
     ]
    }
   ],
   "source": [
    "string=\"tic-tac-toe\"\n",
    "print(string.rsplit('-',1))\n"
   ]
  },
  {
   "cell_type": "code",
   "execution_count": 3,
   "metadata": {},
   "outputs": [
    {
     "name": "stdout",
     "output_type": "stream",
     "text": [
      "('light ', 'attracts', ' bugs')\n"
     ]
    }
   ],
   "source": [
    "string=\"light attracts bugs\"\n",
    "print(string.partition('attracts'))"
   ]
  },
  {
   "cell_type": "code",
   "execution_count": 4,
   "metadata": {},
   "outputs": [
    {
     "name": "stdout",
     "output_type": "stream",
     "text": [
      "AABBCCDD\n"
     ]
    }
   ],
   "source": [
    "list1=['AA', 'BB', 'CC','DD']\n",
    "print(\"\".join(list1))"
   ]
  },
  {
   "cell_type": "code",
   "execution_count": 8,
   "metadata": {},
   "outputs": [
    {
     "name": "stdout",
     "output_type": "stream",
     "text": [
      "h-e-l-l-o\n"
     ]
    }
   ],
   "source": [
    "str=\"hello\"\n",
    "print('-'.join(str))"
   ]
  },
  {
   "cell_type": "code",
   "execution_count": 15,
   "metadata": {},
   "outputs": [
    {
     "name": "stdout",
     "output_type": "stream",
     "text": [
      "Hello world\n"
     ]
    }
   ],
   "source": [
    "def func1():\n",
    "    print(\"Hello world\")\n",
    "func1()"
   ]
  },
  {
   "cell_type": "code",
   "execution_count": 20,
   "metadata": {},
   "outputs": [
    {
     "name": "stdout",
     "output_type": "stream",
     "text": [
      "5 is Odd number\n",
      "4 is Even number\n"
     ]
    }
   ],
   "source": [
    "def even_odd(num):\n",
    "    if num%2==0:\n",
    "        print(num,\"is Even number\")\n",
    "    else:\n",
    "        print(num,\"is Odd number\")\n",
    "even_odd(5)\n",
    "even_odd(4)\n",
    "        "
   ]
  },
  {
   "cell_type": "code",
   "execution_count": 21,
   "metadata": {},
   "outputs": [
    {
     "data": {
      "text/plain": [
       "11"
      ]
     },
     "execution_count": 21,
     "metadata": {},
     "output_type": "execute_result"
    }
   ],
   "source": [
    "def add_func(num1,num2):\n",
    "    return num1+num2\n",
    "add_func(5,6)"
   ]
  },
  {
   "cell_type": "code",
   "execution_count": 22,
   "metadata": {},
   "outputs": [
    {
     "name": "stdout",
     "output_type": "stream",
     "text": [
      "The factorial of  1 is : 1\n",
      "The factorial of  2 is : 2\n",
      "The factorial of  3 is : 6\n",
      "The factorial of  4 is : 24\n"
     ]
    }
   ],
   "source": [
    "def fact(num):\n",
    "    result=1\n",
    "    while num>=1:\n",
    "        result=result*num\n",
    "        num=num-1\n",
    "    return result   \n",
    "for i in range(1,5):\n",
    "    print(\"The factorial of \",i,\"is :\",fact(i))"
   ]
  },
  {
   "cell_type": "code",
   "execution_count": 23,
   "metadata": {},
   "outputs": [
    {
     "name": "stdout",
     "output_type": "stream",
     "text": [
      "The sum is: 150\n",
      "The subtraction is: 50\n"
     ]
    }
   ],
   "source": [
    "def sum_sub(a,b):\n",
    "    add=a+b\n",
    "    sub=a-b\n",
    "    return add,sub\n",
    "x,y=sum_sub(100,50)\n",
    "print(\"The sum is:\",x)\n",
    "print(\"The subtraction is:\",y)\n",
    "\n"
   ]
  },
  {
   "cell_type": "code",
   "execution_count": 1,
   "metadata": {},
   "outputs": [
    {
     "name": "stdout",
     "output_type": "stream",
     "text": [
      "The result of Addition,subtraction,multiplication,division are respectively\n",
      "130\n",
      "70\n",
      "3000\n",
      "3.3333333333333335\n"
     ]
    }
   ],
   "source": [
    "def calc(a,b):\n",
    "    add=a+b\n",
    "    sub=a-b\n",
    "    mul=a*b\n",
    "    div=a/b\n",
    "    return add,sub,mul,div\n",
    "t=calc(100,30)\n",
    "print(\"The result of Addition,subtraction,multiplication,division are respectively\")\n",
    "for i in t:\n",
    "    print(i)"
   ]
  },
  {
   "cell_type": "code",
   "execution_count": 4,
   "metadata": {},
   "outputs": [
    {
     "name": "stdout",
     "output_type": "stream",
     "text": [
      "hello sakshi love youu\n"
     ]
    }
   ],
   "source": [
    "def greet(name,msg):\n",
    "    print(\"hello\",name,msg)\n",
    "greet(\"sakshi\",\"love youu\")"
   ]
  },
  {
   "cell_type": "code",
   "execution_count": 6,
   "metadata": {},
   "outputs": [
    {
     "name": "stdout",
     "output_type": "stream",
     "text": [
      "-100\n",
      "100\n"
     ]
    }
   ],
   "source": [
    "# positional argument\n",
    "def sub(a,b):\n",
    "    print(a-b)\n",
    "sub(100,200)\n",
    "sub(200,100)"
   ]
  },
  {
   "cell_type": "code",
   "execution_count": 22,
   "metadata": {},
   "outputs": [
    {
     "name": "stdout",
     "output_type": "stream",
     "text": [
      "Subject is A and mark are 100\n"
     ]
    }
   ],
   "source": [
    "def marksst(subject,marks):\n",
    "    print(\"Subject is %s and mark are %d\"%(subject,marks))\n",
    "marksst(\"A\",100)"
   ]
  },
  {
   "cell_type": "code",
   "execution_count": 10,
   "metadata": {},
   "outputs": [
    {
     "name": "stdout",
     "output_type": "stream",
     "text": [
      "10 \n",
      "10 20 \n",
      "10 20 30 \n"
     ]
    }
   ],
   "source": [
    "def func1(arg1,*var_arg):\n",
    "    print(arg1, end=\" \")\n",
    "    for i in var_arg:\n",
    "        print(i, end=\" \")\n",
    "    print()\n",
    "\n",
    "func1(10)\n",
    "func1(10,20)\n",
    "func1(10,20,30)"
   ]
  },
  {
   "cell_type": "code",
   "execution_count": 24,
   "metadata": {},
   "outputs": [
    {
     "name": "stdout",
     "output_type": "stream",
     "text": [
      "hey how are you fine thank you\n"
     ]
    }
   ],
   "source": [
    "def greet(name,msg):\n",
    "    print(\"hey\",name,msg)\n",
    "greet(\"how are you\",\"fine thank you\")    "
   ]
  },
  {
   "cell_type": "code",
   "execution_count": 27,
   "metadata": {},
   "outputs": [],
   "source": [
    "def func_kwarg(**data):\n",
    "    print(\"\\nData type of argument:\",type={data})\n",
    "    for key,value in data.items():\n",
    "        print(\"{} is {}\".format(key,value))\n",
    "        func_warg(Firstname = \"Sita\", Lastname= \"Sharma\", Age=\"22\", Phone= 1234567890)\n",
    "        func_warg(Firstname=\"John\" , Lastname= \"Norton\" ,Email=\"john@gmail.com\" , Country=\"India\" , Age=\"25\" , Phone=1234567890)"
   ]
  },
  {
   "cell_type": "code",
   "execution_count": null,
   "metadata": {},
   "outputs": [],
   "source": [
    "def capitalize(text):\n",
    "    return text.upper()\n",
    "def greet(name):\n",
    "    return f\"hello\""
   ]
  },
  {
   "cell_type": "code",
   "execution_count": null,
   "metadata": {},
   "outputs": [],
   "source": [
    "def recursive_factorial(n):\n",
    "    if n==1:\n",
    "        return n\n",
    "    else:\n",
    "        return n* recursive_factorial(n-1)\n",
    "    num=int(input(\"Enter a positive number\"))\n",
    "    if num<0:\n",
    "        print(\"Invalid input! Please enter a positive number\")\n",
    "    elif num==0:\n",
    "        print(\"\")"
   ]
  },
  {
   "cell_type": "code",
   "execution_count": 2,
   "metadata": {},
   "outputs": [
    {
     "name": "stdout",
     "output_type": "stream",
     "text": [
      "a is even\n"
     ]
    }
   ],
   "source": [
    "#even and odd\n",
    "a=int(input(\"Enter a number\"))\n",
    "if a%2==0:\n",
    "    print(\"a is even\")\n",
    "else:\n",
    "    print(\"a is odd\")"
   ]
  },
  {
   "cell_type": "code",
   "execution_count": 4,
   "metadata": {},
   "outputs": [
    {
     "name": "stdout",
     "output_type": "stream",
     "text": [
      "Not eligible for voting\n"
     ]
    }
   ],
   "source": [
    "a=int(input(\"Enter a number\"))\n",
    "if a>18:\n",
    "    print(\"Eligible for voting\")\n",
    "else:\n",
    "    print(\"Not eligible for voting\")"
   ]
  },
  {
   "cell_type": "code",
   "execution_count": 6,
   "metadata": {},
   "outputs": [
    {
     "name": "stdout",
     "output_type": "stream",
     "text": [
      "Saturday\n"
     ]
    }
   ],
   "source": [
    "a=int(input(\"Enter a number\"))\n",
    "if a==1:\n",
    "    print(\"Monday\")\n",
    "elif a==2:\n",
    "    print(\"Tuesday\")\n",
    "elif a==3:\n",
    "    print(\"Wednesday\")\n",
    "elif a==4:\n",
    "    print(\"Thursday\")\n",
    "elif a==5:\n",
    "    print(\"Friday\")\n",
    "elif a==6:\n",
    "    print(\"Saturday\")\n",
    "elif a==7:\n",
    "    print(\"Sunday\")\n",
    "else:\n",
    "    print(\"Enter a number between (1-7)\")"
   ]
  },
  {
   "cell_type": "code",
   "execution_count": 8,
   "metadata": {},
   "outputs": [
    {
     "name": "stdout",
     "output_type": "stream",
     "text": [
      "Friday\n"
     ]
    }
   ],
   "source": [
    "a=int(input(\"Enter a number\"))\n",
    "match a:\n",
    "    case 1:\n",
    "        print(\"Monday\")\n",
    "    case 2:\n",
    "        print(\"Tuesday\")\n",
    "    case 3:\n",
    "        print(\"Wednesday\")\n",
    "    case 4:   \n",
    "        print(\"Thursday\") \n",
    "    case 5:\n",
    "        print(\"Friday\")\n",
    "    case 6:\n",
    "        print(\"Saturday\") \n",
    "    case 7:\n",
    "        print(\"Sunday\") \n",
    "    case _:\n",
    "        print(\"Enter a number between (1-7)\")  "
   ]
  },
  {
   "cell_type": "code",
   "execution_count": 11,
   "metadata": {},
   "outputs": [
    {
     "name": "stdout",
     "output_type": "stream",
     "text": [
      "not a leap year\n"
     ]
    }
   ],
   "source": [
    "a=int(input(\"Enter a number\"))\n",
    "if a%400==0:\n",
    "    print(\"given year is leap year\")\n",
    "else:\n",
    "    print(\"not a leap year\")"
   ]
  },
  {
   "cell_type": "code",
   "execution_count": 2,
   "metadata": {},
   "outputs": [
    {
     "name": "stdout",
     "output_type": "stream",
     "text": [
      "8  2  4  7  7  "
     ]
    }
   ],
   "source": [
    "from random import*\n",
    "for i in range(5):\n",
    "     print(randrange(10), end='  ')"
   ]
  },
  {
   "cell_type": "code",
   "execution_count": 3,
   "metadata": {},
   "outputs": [
    {
     "name": "stdout",
     "output_type": "stream",
     "text": [
      "Original list: ['A', 'B', 'C', 'D', 'E']\n",
      "\n",
      "After shuffle: ['B', 'A', 'C', 'D', 'E']\n"
     ]
    }
   ],
   "source": [
    "#shuffle\n",
    "import random\n",
    "sample_list=['A','B','C','D','E']\n",
    "print(\"Original list:\", sample_list)\n",
    "\n",
    "random.shuffle(sample_list)\n",
    "print(\"\\nAfter shuffle:\",sample_list)"
   ]
  },
  {
   "cell_type": "code",
   "execution_count": 5,
   "metadata": {},
   "outputs": [
    {
     "name": "stdout",
     "output_type": "stream",
     "text": [
      "2\n",
      "66.6\n",
      "0\n",
      "15.0\n",
      "28.0\n",
      "10.0\n"
     ]
    }
   ],
   "source": [
    "import math\n",
    "print(math.ceil(1.4))\n",
    "print(math.fabs(66.6))\n",
    "print(math.floor(0.6))\n",
    "print(math.fsum([1,2,3,4,5,]))\n",
    "print(math.fsum(range(0,8)))\n",
    "print(math.fsum({1:\"one\",2:\"two\",3:\"three\",4:4}))\n"
   ]
  },
  {
   "cell_type": "code",
   "execution_count": 12,
   "metadata": {},
   "outputs": [
    {
     "name": "stdout",
     "output_type": "stream",
     "text": [
      "The greatest number is: 25\n"
     ]
    }
   ],
   "source": [
    "#WA function to find greatest of three numbers and call that function.\n",
    "def find_greatest(a,b,c):\n",
    "    return max(a, b, c)\n",
    "num1 = 10\n",
    "num2 = 25\n",
    "num3 = 15\n",
    "greatest= find_greatest(num1, num2, num3)\n",
    "print(\"The greatest number is:\",greatest)\n",
    "    "
   ]
  },
  {
   "cell_type": "code",
   "execution_count": 14,
   "metadata": {},
   "outputs": [
    {
     "name": "stdout",
     "output_type": "stream",
     "text": [
      "The greatest number is: 60\n"
     ]
    }
   ],
   "source": [
    "def find_greatest(a, b, c):\n",
    "  if a >= b and a >= c:\n",
    "    return a\n",
    "  elif b >= a and b >= c:\n",
    "    return b\n",
    "  else:\n",
    "    return c\n",
    "\n",
    "a = int(input(\"Enter the first number: \"))\n",
    "b = int(input(\"Enter the second number: \"))\n",
    "c = int(input(\"Enter the third number: \"))\n",
    "\n",
    "d = find_greatest(a, b, c)\n",
    "\n",
    "print(\"The greatest number is:\", d)"
   ]
  },
  {
   "cell_type": "code",
   "execution_count": 15,
   "metadata": {},
   "outputs": [
    {
     "name": "stdout",
     "output_type": "stream",
     "text": [
      "3.141592653589793\n"
     ]
    }
   ],
   "source": [
    "import math\n",
    "print(math.pi)"
   ]
  },
  {
   "cell_type": "code",
   "execution_count": 16,
   "metadata": {},
   "outputs": [
    {
     "name": "stdout",
     "output_type": "stream",
     "text": [
      "inf\n"
     ]
    }
   ],
   "source": [
    "import math\n",
    "print(math.inf)"
   ]
  },
  {
   "cell_type": "code",
   "execution_count": 25,
   "metadata": {},
   "outputs": [
    {
     "name": "stdout",
     "output_type": "stream",
     "text": [
      "[0, 3, 6, 9]\n",
      "<class 'list'>\n"
     ]
    }
   ],
   "source": [
    "l1=list(range(0,12,3))\n",
    "print(l1)\n",
    "print(type(l1))\n"
   ]
  },
  {
   "cell_type": "code",
   "execution_count": null,
   "metadata": {},
   "outputs": [],
   "source": [
    "#syntax for list comprehension is\n",
    "# newlist = [expression for item in iterable if condition = true]\n",
    "# squares = [value**2 for value in range(1,11)]\n"
   ]
  },
  {
   "cell_type": "code",
   "execution_count": 31,
   "metadata": {},
   "outputs": [
    {
     "name": "stdout",
     "output_type": "stream",
     "text": [
      "GRADE E\n"
     ]
    }
   ],
   "source": [
    "eng=int(input(\"Enter a number\"))\n",
    "maths=int(input(\"Enter a number\"))\n",
    "bio=int(input(\"Enter a number\"))\n",
    "chem=int(input(\"Enter a number\"))\n",
    "phy=int(input(\"Enter a number\"))\n",
    "avg=(eng+maths+bio+chem+phy)/5\n",
    "if avg>=90:\n",
    "    print(\"GRADE A\")\n",
    "elif avg>=80:\n",
    "    print(\"GRADE B\")\n",
    "elif avg>=70:\n",
    "    print(\"GRADE C\")\n",
    "elif avg>=60:\n",
    "    print(\"GRADE D\")\n",
    "else:\n",
    "    print(\"GRADE E\")"
   ]
  },
  {
   "cell_type": "code",
   "execution_count": 2,
   "metadata": {},
   "outputs": [
    {
     "name": "stdout",
     "output_type": "stream",
     "text": [
      "['M', 'N', 'A']\n"
     ]
    }
   ],
   "source": [
    "words=[\"Mumbai\",\"Nagpur\",\"Akola\"]\n",
    "l=[w[0]for w in words]\n",
    "print(l)"
   ]
  },
  {
   "cell_type": "code",
   "execution_count": 7,
   "metadata": {},
   "outputs": [
    {
     "name": "stdout",
     "output_type": "stream",
     "text": [
      "<class 'tuple'>\n"
     ]
    }
   ],
   "source": [
    "t=(10,)\n",
    "print(type(t))"
   ]
  },
  {
   "cell_type": "code",
   "execution_count": 8,
   "metadata": {},
   "outputs": [
    {
     "name": "stdout",
     "output_type": "stream",
     "text": [
      "(10, 12, 14, 16, 18) <class 'tuple'>\n"
     ]
    }
   ],
   "source": [
    "t8=tuple(range(10,20,2))\n",
    "print(t8,type(t8))"
   ]
  },
  {
   "cell_type": "code",
   "execution_count": 14,
   "metadata": {},
   "outputs": [
    {
     "name": "stdout",
     "output_type": "stream",
     "text": [
      "10 20 40\n"
     ]
    }
   ],
   "source": [
    "E=(10,20,30)\n",
    "a,b,c=E\n",
    "c=40\n",
    "print(a,b,c)"
   ]
  },
  {
   "cell_type": "code",
   "execution_count": null,
   "metadata": {},
   "outputs": [],
   "source": [
    "old_price={'milk':1.02,'coffee':2.5,'bread':2.5}\n",
    "dollar_to_pound="
   ]
  },
  {
   "cell_type": "code",
   "execution_count": 1,
   "metadata": {},
   "outputs": [],
   "source": [
    "class first:\n",
    "    pass\n",
    "f=first()"
   ]
  },
  {
   "cell_type": "code",
   "execution_count": 3,
   "metadata": {},
   "outputs": [
    {
     "name": "stdout",
     "output_type": "stream",
     "text": [
      "bark\n"
     ]
    }
   ],
   "source": [
    "class Dog:\n",
    "    sound=\"bark\"\n",
    "d=Dog()\n",
    "print(d.sound)"
   ]
  },
  {
   "cell_type": "code",
   "execution_count": 9,
   "metadata": {},
   "outputs": [
    {
     "name": "stdout",
     "output_type": "stream",
     "text": [
      "bark\n",
      "eating\n",
      "None\n"
     ]
    }
   ],
   "source": [
    "class Dog:\n",
    "    sound=\"bark\"\n",
    "    def eat(self):\n",
    "        print(\"eating\")\n",
    "d=Dog()\n",
    "print(d.sound)\n",
    "print(d.eat())"
   ]
  },
  {
   "cell_type": "code",
   "execution_count": 17,
   "metadata": {},
   "outputs": [
    {
     "name": "stdout",
     "output_type": "stream",
     "text": [
      "Intialising\n",
      "Intialising\n",
      "Sample class\n"
     ]
    }
   ],
   "source": [
    "class sample:\n",
    "    def __init__ (self):\n",
    "        print(\"Intialising\")\n",
    "    def pr(self):\n",
    "        print(\"Sample class\")\n",
    "s1=sample()\n",
    "s2=sample()\n",
    "s1.pr()"
   ]
  },
  {
   "cell_type": "code",
   "execution_count": 18,
   "metadata": {},
   "outputs": [
    {
     "name": "stdout",
     "output_type": "stream",
     "text": [
      "John\n",
      "36\n",
      "Jack\n",
      "56\n"
     ]
    }
   ],
   "source": [
    "class person:\n",
    "    def __init__ (self,name,age):\n",
    "        self.name=name\n",
    "        self.age=age\n",
    "p1=person(\"John\",36)\n",
    "p2=person(\"Jack\",56)\n",
    "print(p1.name)\n",
    "print(p1.age)\n",
    "print(p2.name)\n",
    "print(p2.age)\n"
   ]
  },
  {
   "cell_type": "code",
   "execution_count": 23,
   "metadata": {},
   "outputs": [
    {
     "name": "stdout",
     "output_type": "stream",
     "text": [
      "The name of person is John and age is 36\n"
     ]
    }
   ],
   "source": [
    "class person:\n",
    "    def __init__ (self,name,age):\n",
    "        self.name=name\n",
    "        self.age=age\n",
    "    \n",
    "    def myfunc(self):\n",
    "        print(\"The name of person is %s and age is %s\" %(self.name,self.age))\n",
    "\n",
    "p1=person(\"John\",36)\n",
    "p1.myfunc()"
   ]
  },
  {
   "cell_type": "code",
   "execution_count": null,
   "metadata": {},
   "outputs": [],
   "source": [
    "class Myclass:\n",
    "    def meth(self):\n",
    "        print(\"Instance method\")\n",
    "    @classmethod\n",
    "    \n",
    "    def class_meth(cls):"
   ]
  },
  {
   "cell_type": "code",
   "execution_count": 26,
   "metadata": {},
   "outputs": [
    {
     "name": "stdout",
     "output_type": "stream",
     "text": [
      "t1: {'a': 888, 'b': 999}\n",
      "t2: {'a': 10, 'b': 20}\n"
     ]
    }
   ],
   "source": [
    "#inside constructor by using self variable\n",
    "class test:\n",
    "    def __init__ (self):\n",
    "        self.a=10\n",
    "        self.b=20\n",
    "        \n",
    "t1=test()\n",
    "t2=test()\n",
    "t1.a=888\n",
    "t1.b=999\n",
    "print('t1:',t1.__dict__)\n",
    "print('t2:',t2.__dict__)"
   ]
  },
  {
   "cell_type": "code",
   "execution_count": 28,
   "metadata": {},
   "outputs": [
    {
     "name": "stdout",
     "output_type": "stream",
     "text": [
      "{'b': 20, 'c': 30, 'd': 40}\n",
      "{'a': 10, 'b': 20, 'c': 30, 'd': 40}\n"
     ]
    }
   ],
   "source": [
    "class test:\n",
    "    def __init__ (self):\n",
    "        self.a=10\n",
    "        self.b=20\n",
    "        self.c=30\n",
    "        self.d=40\n",
    "t1=test()\n",
    "t2=test()\n",
    "del t1.a\n",
    "print(t1.__dict__)\n",
    "print(t2.__dict__)\n"
   ]
  },
  {
   "cell_type": "code",
   "execution_count": 29,
   "metadata": {},
   "outputs": [
    {
     "name": "stdout",
     "output_type": "stream",
     "text": [
      "{'a': 10, 'b': 20, 'c': 30, 'd': 40}\n",
      "{'a': 10, 'b': 20, 'c': 30}\n",
      "{'a': 10, 'b': 20}\n"
     ]
    }
   ],
   "source": [
    "class test:\n",
    "    def __init__ (self):\n",
    "        self.a=10\n",
    "        self.b=20\n",
    "        self.c=30\n",
    "        self.d=40\n",
    "    def m1(self):\n",
    "        del self.d\n",
    "t=test()\n",
    "print(t.__dict__)\n",
    "t.m1()\n",
    "print(t.__dict__)\n",
    "del t.c\n",
    "print(t.__dict__)\n",
    "\n"
   ]
  },
  {
   "cell_type": "code",
   "execution_count": 30,
   "metadata": {},
   "outputs": [
    {
     "name": "stdout",
     "output_type": "stream",
     "text": [
      "10\n",
      "20\n",
      "10 20\n"
     ]
    }
   ],
   "source": [
    "class test:\n",
    "    def __init__ (self):\n",
    "        self.a=10\n",
    "        self.b=20\n",
    "    def display(self):\n",
    "        print(self.a)\n",
    "        print(self.b)\n",
    "t=test()\n",
    "t.display()\n",
    "print(t.a,t.b)"
   ]
  },
  {
   "cell_type": "code",
   "execution_count": 31,
   "metadata": {},
   "outputs": [
    {
     "name": "stdout",
     "output_type": "stream",
     "text": [
      "{'a': 10, 'b': 20, 'c': 30, 'd': 40}\n"
     ]
    }
   ],
   "source": [
    "class test:\n",
    "    def __init__ (self):\n",
    "        self.a=10\n",
    "        self.b=20\n",
    "    def func1(self):\n",
    "        self.c=30\n",
    "t=test()\n",
    "t.func1()\n",
    "t.d=40\n",
    "print(t.__dict__)\n"
   ]
  },
  {
   "cell_type": "code",
   "execution_count": 32,
   "metadata": {},
   "outputs": [
    {
     "name": "stdout",
     "output_type": "stream",
     "text": [
      "{'a': 10, 'b': 20, 'c': 30}\n"
     ]
    }
   ],
   "source": [
    "class test:\n",
    "    def __init__ (self):\n",
    "        self.a=10\n",
    "        self.b=20\n",
    "    def func1(self):\n",
    "        self.c=30\n",
    "t=test()\n",
    "t.func1()\n",
    "print(t.__dict__)\n"
   ]
  },
  {
   "cell_type": "code",
   "execution_count": 33,
   "metadata": {},
   "outputs": [
    {
     "name": "stdout",
     "output_type": "stream",
     "text": [
      "{'eno': 100, 'ename': 'Alice Brown', 'esal': 10000}\n"
     ]
    }
   ],
   "source": [
    "class employee:\n",
    "    def __init__(self):\n",
    "        self.eno=100\n",
    "        self.ename='Alice Brown'\n",
    "        self.esal=10000\n",
    "\n",
    "e=employee()\n",
    "print(e.__dict__)"
   ]
  },
  {
   "cell_type": "code",
   "execution_count": 35,
   "metadata": {},
   "outputs": [
    {
     "name": "stdout",
     "output_type": "stream",
     "text": [
      "x.a=  I am a class attribute!\n",
      "y.a=  I am a class attribute!\n",
      "A.a=  I am a class attribute!\n"
     ]
    }
   ],
   "source": [
    "class A:\n",
    "    a=\"I am a class attribute!\"\n",
    "x=A()\n",
    "y=A()\n",
    "print(\"x.a= \", x.a)\n",
    "print(\"y.a= \", y.a)\n",
    "print(\"A.a= \", A.a)"
   ]
  },
  {
   "cell_type": "code",
   "execution_count": 37,
   "metadata": {},
   "outputs": [
    {
     "name": "stdout",
     "output_type": "stream",
     "text": [
      "{}\n",
      "{}\n",
      "{'__module__': '__main__', '__firstlineno__': 1, 'a': 'I am a class attribute!', '__static_attributes__': (), '__dict__': <attribute '__dict__' of 'A' objects>, '__weakref__': <attribute '__weakref__' of 'A' objects>, '__doc__': None}\n",
      "{'__module__': '__main__', '__firstlineno__': 1, 'a': 'I am a class attribute!', '__static_attributes__': (), '__dict__': <attribute '__dict__' of 'A' objects>, '__weakref__': <attribute '__weakref__' of 'A' objects>, '__doc__': None}\n"
     ]
    }
   ],
   "source": [
    "class A:\n",
    "    a=\"I am a class attribute!\"\n",
    "x=A()\n",
    "y=A()\n",
    "print(x.__dict__)\n",
    "print(y.__dict__)\n",
    "print(A.__dict__)\n",
    "print(x.__class__.__dict__)"
   ]
  },
  {
   "cell_type": "code",
   "execution_count": null,
   "metadata": {},
   "outputs": [],
   "source": [
    "class Myclass:\n",
    "    def maths(self):\n",
    "        print(\"Instance method\")\n",
    "@classmethod\n",
    "def "
   ]
  },
  {
   "cell_type": "code",
   "execution_count": 4,
   "metadata": {},
   "outputs": [
    {
     "name": "stdout",
     "output_type": "stream",
     "text": [
      "1000\n",
      "2000\n"
     ]
    }
   ],
   "source": [
    "class Test:\n",
    "    def m1(self):\n",
    "        a=1000\n",
    "        print(a)\n",
    "    def m2(self):\n",
    "        b=2000\n",
    "        print(b)\n",
    "t=Test()\n",
    "t.m1()\n",
    "t.m2()"
   ]
  },
  {
   "cell_type": "code",
   "execution_count": null,
   "metadata": {},
   "outputs": [],
   "source": [
    " #destructor\n",
    "class Test:\n",
    "    def __init__ (self):\n",
    "        print(\"Object Initialisation\")\n",
    "    def __del__ (self):\n",
    "        print(\"Performing clean up activities\")  \n",
    "t1=test()\n",
    "del t1\n",
    "print(\"Creation of second object\")           "
   ]
  },
  {
   "cell_type": "code",
   "execution_count": 6,
   "metadata": {},
   "outputs": [
    {
     "name": "stdout",
     "output_type": "stream",
     "text": [
      "Tom\n"
     ]
    }
   ],
   "source": [
    "class sample:\n",
    "    def setName(self,nm):\n",
    "        self.name=nm\n",
    "\n",
    "    def getName(self):\n",
    "        return self.name\n",
    "    \n",
    "s=sample()\n",
    "s.setName(\"Tom\")\n",
    "print(s.getName())"
   ]
  },
  {
   "cell_type": "code",
   "execution_count": 7,
   "metadata": {},
   "outputs": [
    {
     "name": "stdout",
     "output_type": "stream",
     "text": [
      "Dog walks with 4 legs...\n",
      "cat walks with 4 legs...\n"
     ]
    }
   ],
   "source": [
    "class animal:\n",
    "    legs=4\n",
    "    @classmethod \n",
    "    def walk(cls,name):\n",
    "        print('{} walks with {} legs...'.format(name,cls.legs))\n",
    "animal.walk('Dog')\n",
    "animal.walk('cat')"
   ]
  },
  {
   "cell_type": "code",
   "execution_count": 9,
   "metadata": {},
   "outputs": [
    {
     "name": "stdout",
     "output_type": "stream",
     "text": [
      "Instance Method\n",
      "100\n",
      "100\n",
      "class method\n",
      "10\n",
      "Accessing class variable in static method 100\n",
      "Static method\n"
     ]
    }
   ],
   "source": [
    "class Myclass:\n",
    "    b=100 \n",
    "    def meth(self):\n",
    "        self.a=10\n",
    "        print(\"Instance Method\")\n",
    "    @classmethod\n",
    "    def class_meth(cls):\n",
    "        print(cls.b)\n",
    "        print(Myclass.b)\n",
    "        print(\"class method\")\n",
    "    @staticmethod\n",
    "    def static_meth(o1):\n",
    "        print(o1.a)\n",
    "        print(\"Accessing class variable in static method\",Myclass.b)\n",
    "        print(\"Static method\")\n",
    "o1=Myclass()\n",
    "o1.meth()\n",
    "Myclass.class_meth()\n",
    "Myclass.static_meth(o1)\n"
   ]
  },
  {
   "cell_type": "code",
   "execution_count": null,
   "metadata": {},
   "outputs": [],
   "source": [
    "class Test:\n",
    "    count=0\n",
    "    def __init__ (self):\n",
    "        Test.count= Test.count+1\n",
    "    @classmethod\n",
    "    def noOfObjects(cls):\n",
    "        print('The number of objects created for test class:',cls.count)\n",
    "t1=Test()\n",
    "t2=Test()\n",
    "Test.noOfObject()\n",
    "t3=Test()\n",
    "t4=Test()\n",
    "t5=Test()\n",
    "Test.noOfObjects()"
   ]
  },
  {
   "cell_type": "code",
   "execution_count": 11,
   "metadata": {},
   "outputs": [
    {
     "name": "stdout",
     "output_type": "stream",
     "text": [
      "Object Intialisation\n",
      "Performing clean up activities\n",
      "creation of second object\n",
      "Object Intialisation\n",
      "Performing clean up activities\n",
      "End of application\n"
     ]
    }
   ],
   "source": [
    "class Test:\n",
    "    def __init__(self):\n",
    "        print(\"Object Intialisation\")\n",
    "    def __del__(self):\n",
    "        print(\"Performing clean up activities\")\n",
    "t1=Test()\n",
    "del t1\n",
    "print(\"creation of second object\")\n",
    "t2=Test()\n",
    "t2=5\n",
    "print(\"End of application\")"
   ]
  },
  {
   "cell_type": "code",
   "execution_count": 9,
   "metadata": {},
   "outputs": [],
   "source": [
    "f=open('sample.txt','a')\n",
    "f.write(\"Hello Shweta\")\n",
    "f.write(\"How are you\")\n",
    "f.write(\"\\n I'm fine thank you\")\n",
    "f.close()"
   ]
  },
  {
   "cell_type": "code",
   "execution_count": 10,
   "metadata": {},
   "outputs": [
    {
     "name": "stdout",
     "output_type": "stream",
     "text": [
      "Hello \n",
      "Good morning\n"
     ]
    }
   ],
   "source": [
    "#writelines() method multiline string\n",
    "f=open(\"Test_file.txt\", \"w\")\n",
    "s= '''Hello \n",
    "Good morning'''\n",
    "f.writelines(s)\n",
    "f.close()\n",
    "\n",
    "#Reading the written file\n",
    "f = open('Test_file.txt','r')\n",
    "print(f.read())\n",
    "f.close()\n"
   ]
  },
  {
   "cell_type": "code",
   "execution_count": 13,
   "metadata": {},
   "outputs": [
    {
     "name": "stdout",
     "output_type": "stream",
     "text": [
      "Enter text, press * in the last line to translate\n",
      "y\n",
      "y\n",
      "u\n",
      "\n"
     ]
    }
   ],
   "source": [
    "f=open(\"File1.txt\",\"w\")\n",
    "print(\"Enter text, press * in the last line to translate\")\n",
    "s=\"\"\n",
    "while s!='*':\n",
    "    s=input()\n",
    "    if s !='*':\n",
    "        f.write(s+\"\\n\")\n",
    "\n",
    "f.close()\n",
    "f=open(\"File1.txt\", \"r\")\n",
    "data= f.read()\n",
    "print(data)\n",
    "f.close()"
   ]
  },
  {
   "cell_type": "code",
   "execution_count": 14,
   "metadata": {},
   "outputs": [
    {
     "name": "stdout",
     "output_type": "stream",
     "text": [
      "apple\n",
      "cherry\n",
      "banana\n",
      "grapes\n",
      "\n"
     ]
    }
   ],
   "source": [
    "f =open(\"abcd.txt\",\"w\")\n",
    "list=[\"apple\\n\",\"cherry\\n\", \"banana\\n\", \"grapes\\n\"]\n",
    "f.writelines(list)\n",
    "f.close()\n",
    "f=open(\"abcd.txt\", \"r\")\n",
    "print(f.read())\n",
    "f.close()\n"
   ]
  },
  {
   "cell_type": "code",
   "execution_count": 16,
   "metadata": {},
   "outputs": [
    {
     "name": "stdout",
     "output_type": "stream",
     "text": [
      "<class 'str'>\n",
      "apple\n",
      "ch\n"
     ]
    }
   ],
   "source": [
    "f=open(\"abcd.txt\",\"r\")\n",
    "data=f.read(8)\n",
    "print(type(data))\n",
    "print(data)\n",
    "f.close()"
   ]
  },
  {
   "cell_type": "code",
   "execution_count": 17,
   "metadata": {},
   "outputs": [
    {
     "name": "stdout",
     "output_type": "stream",
     "text": [
      "Apple\n",
      "Cherry\n",
      "Banana\n"
     ]
    }
   ],
   "source": [
    "#readline() TO read data\n",
    "f=open(\"abcd1.txt\",\"w\")\n",
    "list=[\"Apple\\n\",\"Cherry\\n\",\"Banana\\n\",\":Grapes\\n\"]\n",
    "f.writelines(list)\n",
    "\n",
    "f=open(\"abcd1.txt\",\"r\")\n",
    "line1=f.readline()\n",
    "print(line1,end='')\n",
    "line2=f.readline()\n",
    "print(line2,end='')\n",
    "line3=f.readline()\n",
    "print(line3,end='')\n",
    "f.close()"
   ]
  },
  {
   "cell_type": "code",
   "execution_count": 18,
   "metadata": {},
   "outputs": [
    {
     "name": "stdout",
     "output_type": "stream",
     "text": [
      "Welcome to the world of programming\n",
      "Happy programming\n"
     ]
    }
   ],
   "source": [
    "with open(\"with_file.txt\", \"w\") as f:\n",
    "    f.write(\"Welcome to the world of programming\\n\")\n",
    "    f.write(\"Happy programming\")\n",
    "with open(\"with_file.txt\",\"r\") as f:\n",
    "    print(f.read())"
   ]
  },
  {
   "cell_type": "code",
   "execution_count": 19,
   "metadata": {},
   "outputs": [
    {
     "name": "stdout",
     "output_type": "stream",
     "text": [
      "0\n",
      "We\n",
      "2\n",
      "lco\n",
      "5\n"
     ]
    }
   ],
   "source": [
    "f=open(\"with_file.txt\",\"r\")\n",
    "print(f.tell())\n",
    "print(f.read(2))\n",
    "print(f.tell())\n",
    "print(f.read(3))\n",
    "print(f.tell())"
   ]
  },
  {
   "cell_type": "code",
   "execution_count": 20,
   "metadata": {},
   "outputs": [
    {
     "name": "stdout",
     "output_type": "stream",
     "text": [
      "Have a Nice day\n",
      "The current cursor position: 15\n",
      "The current position:  7\n",
      "Data after modification:\n",
      "Have a Good day\n"
     ]
    }
   ],
   "source": [
    "data=\"Have a Nice day\"\n",
    "f=open(\"abcd.txt\",\"w\")\n",
    "f.write(data)\n",
    "f.close()\n",
    "with open(\"abcd.txt\", \"r+\") as f:\n",
    "    text=f.read()\n",
    "    print(text)\n",
    "    print(\"The current cursor position:\", f.tell())\n",
    "    f.seek(7)\n",
    "    print(\"The current position: \",f.tell())\n",
    "    f.write(\"Good\")\n",
    "    f.seek(0)\n",
    "    text=f.read()\n",
    "    print(\"Data after modification:\")\n",
    "    print(text)"
   ]
  },
  {
   "cell_type": "code",
   "execution_count": 1,
   "metadata": {},
   "outputs": [
    {
     "name": "stdout",
     "output_type": "stream",
     "text": [
      "This is a sample file\n",
      "for r+ mode\n",
      "Overactingsample file\n",
      "for r+ mode\n"
     ]
    }
   ],
   "source": [
    "with open(\"Rplus_mode321.txt\", 'r+') as f:\n",
    "    f.write(\"This is a sample file\\n\")\n",
    "    f.write(\"for r+ mode\")\n",
    "    f.seek(0)\n",
    "    print(f.read())\n",
    "    f.seek(0)\n",
    "    f.write(\"Overacting\")\n",
    "    f.seek(0)\n",
    "    print(f.read())"
   ]
  },
  {
   "cell_type": "code",
   "execution_count": 4,
   "metadata": {},
   "outputs": [
    {
     "name": "stdout",
     "output_type": "stream",
     "text": [
      "y should not be zero: division by zero\n"
     ]
    }
   ],
   "source": [
    "try:\n",
    "    x,y=input(\"Enter two num\").split()\n",
    "    x=int(x)\n",
    "    y=int(y)\n",
    "    print(x/y)\n",
    "except ZeroDivisionError as msg:\n",
    "    print(\"y should not be zero:\", msg)\n",
    "except ValueError as msg:\n",
    "    print(\"Type appropriate:\",msg)\n",
    "   "
   ]
  },
  {
   "cell_type": "code",
   "execution_count": 2,
   "metadata": {},
   "outputs": [
    {
     "name": "stdout",
     "output_type": "stream",
     "text": [
      "y shouldnot be zero : division by zero\n"
     ]
    }
   ],
   "source": [
    "try:\n",
    "    x,y=10,0\n",
    "    print(x/y)\n",
    "except ZeroDivisionError as msg:\n",
    "    print(\"y shouldnot be zero :\", msg)\n",
    "    "
   ]
  },
  {
   "cell_type": "code",
   "execution_count": 5,
   "metadata": {},
   "outputs": [
    {
     "name": "stdout",
     "output_type": "stream",
     "text": [
      "Arithmetic: division by zero\n"
     ]
    }
   ],
   "source": [
    "try:\n",
    "    x,y=input(\"Enter two no.\").split()\n",
    "    x=int(x)\n",
    "    y=int(y)\n",
    "    print(x/y)\n",
    "except ArithmeticError as msg:\n",
    "    print(\"Arithmetic:\", msg)\n",
    "except ZeroDivisionError as msg:\n",
    "    print(\"y should not be zero:\", msg)\n"
   ]
  },
  {
   "cell_type": "code",
   "execution_count": 6,
   "metadata": {},
   "outputs": [
    {
     "name": "stdout",
     "output_type": "stream",
     "text": [
      "try\n",
      "except\n",
      "finally\n"
     ]
    }
   ],
   "source": [
    "# with exception\n",
    "try:\n",
    "    print(\"try\")\n",
    "    print(10/0)\n",
    "except:\n",
    "    print(\"except\")\n",
    "else:\n",
    "    print(\"else\")\n",
    "finally:\n",
    "    print(\"finally\")"
   ]
  },
  {
   "cell_type": "code",
   "execution_count": 7,
   "metadata": {},
   "outputs": [
    {
     "name": "stdout",
     "output_type": "stream",
     "text": [
      "try\n",
      "else\n",
      "finally\n"
     ]
    }
   ],
   "source": [
    "try:\n",
    "    print(\"try\")\n",
    "except:\n",
    "    print(\"except\")\n",
    "else:\n",
    "    print(\"else\")\n",
    "finally:\n",
    "    print(\"finally\")"
   ]
  },
  {
   "cell_type": "code",
   "execution_count": 8,
   "metadata": {},
   "outputs": [
    {
     "name": "stdout",
     "output_type": "stream",
     "text": [
      "division by zero\n"
     ]
    }
   ],
   "source": [
    "try:\n",
    "    x,y=input(\"Enter two num\").split()\n",
    "    x=int(x)\n",
    "    y=int(y)\n",
    "    print(x/y)\n",
    "except(ZeroDivisionError, ValueError)as msg:\n",
    "    print(msg)"
   ]
  },
  {
   "cell_type": "code",
   "execution_count": 9,
   "metadata": {},
   "outputs": [
    {
     "name": "stdout",
     "output_type": "stream",
     "text": [
      "0.8\n",
      "Other errors\n"
     ]
    }
   ],
   "source": [
    "try:\n",
    "    x,y=input(\"Enter two num\").split()\n",
    "    x=int(x)\n",
    "    y=int(y)\n",
    "    print(x/y)\n",
    "    z=z%4\n",
    "    a=\"two\"+1\n",
    "    a+=1\n",
    "except ZeroDivisionError as msg:\n",
    "    print(\"y should not be zero:\", msg)\n",
    "except ValueError as msg:\n",
    "    print(\"Type appropriate:\",msg)\n",
    "except:\n",
    "    print(\"Other errors\")\n",
    "    "
   ]
  },
  {
   "cell_type": "code",
   "execution_count": 12,
   "metadata": {},
   "outputs": [
    {
     "name": "stdout",
     "output_type": "stream",
     "text": [
      "Square of 5 is 25\n",
      "Square of 6 is 36\n"
     ]
    }
   ],
   "source": [
    "def square(a):\n",
    "    return a*a \n",
    "print(\"Square of 5 is\",square(5))\n",
    "\n",
    "s=lambda n: n*n\n",
    "print(\"Square of 6 is\", s(6))"
   ]
  },
  {
   "cell_type": "code",
   "execution_count": 14,
   "metadata": {},
   "outputs": [
    {
     "name": "stdout",
     "output_type": "stream",
     "text": [
      "The sum of 10,20 is : 30\n",
      "The sum of 100,200 is: 300\n"
     ]
    }
   ],
   "source": [
    "r=lambda a,b:a+b\n",
    "print(\"The sum of 10,20 is :\", r (10,20))\n",
    "print(\"The sum of 100,200 is:\", r (100,200))"
   ]
  },
  {
   "cell_type": "code",
   "execution_count": 15,
   "metadata": {},
   "outputs": [
    {
     "name": "stdout",
     "output_type": "stream",
     "text": [
      "The biggest of 10,20 is: 20\n",
      "The biggest of 100,200 is: 200\n"
     ]
    }
   ],
   "source": [
    "s=lambda a,b:a if a>b else b\n",
    "print(\"The biggest of 10,20 is:\", s(10,20))\n",
    "print(\"The biggest of 100,200 is:\",s(100,200))"
   ]
  },
  {
   "cell_type": "code",
   "execution_count": null,
   "metadata": {},
   "outputs": [],
   "source": [
    "evenOdd=lambda x:'odd' if x%2 else 'even'"
   ]
  },
  {
   "cell_type": "code",
   "execution_count": null,
   "metadata": {},
   "outputs": [],
   "source": []
  }
 ],
 "metadata": {
  "kernelspec": {
   "display_name": "Python 3",
   "language": "python",
   "name": "python3"
  },
  "language_info": {
   "codemirror_mode": {
    "name": "ipython",
    "version": 3
   },
   "file_extension": ".py",
   "mimetype": "text/x-python",
   "name": "python",
   "nbconvert_exporter": "python",
   "pygments_lexer": "ipython3",
   "version": "3.13.0"
  }
 },
 "nbformat": 4,
 "nbformat_minor": 2
}
