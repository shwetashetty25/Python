{
 "cells": [
  {
   "cell_type": "code",
   "execution_count": 1,
   "metadata": {},
   "outputs": [
    {
     "name": "stdout",
     "output_type": "stream",
     "text": [
      "5 x 1 = 5\n",
      "5 x 2 = 10\n",
      "5 x 3 = 15\n",
      "5 x 4 = 20\n",
      "5 x 5 = 25\n",
      "5 x 6 = 30\n",
      "5 x 7 = 35\n",
      "5 x 8 = 40\n",
      "5 x 9 = 45\n",
      "5 x 10 = 50\n"
     ]
    }
   ],
   "source": [
    "# using break statement:\n",
    "for i in range(12):\n",
    "    if (i==10):\n",
    "        break\n",
    "    print(\"5 x\",i+1 ,\"=\",5* (i+1))"
   ]
  },
  {
   "cell_type": "code",
   "execution_count": 2,
   "metadata": {},
   "outputs": [
    {
     "name": "stdout",
     "output_type": "stream",
     "text": [
      "1 Mississipi\n",
      "2 Mississipi\n",
      "3 Mississipi\n",
      "4 Mississipi\n",
      "5 Mississipi\n",
      "6 Mississipi\n",
      "7 Mississipi\n",
      "8 Mississipi\n",
      "9 Mississipi\n",
      "10 Mississipi\n",
      "11 Mississipi\n",
      "12 Mississipi\n",
      "13 Mississipi\n",
      "14 Mississipi\n",
      "15 Mississipi\n",
      "16 Mississipi\n",
      "17 Mississipi\n",
      "18 Mississipi\n",
      "19 Mississipi\n",
      "20 Mississipi\n",
      "21 Mississipi\n",
      "22 Mississipi\n",
      "23 Mississipi\n",
      "24 Mississipi\n",
      "25 Thank you\n"
     ]
    }
   ],
   "source": [
    "for i in range(1,50,1):\n",
    "    print(i, end=\" \")\n",
    "    if(i==25):\n",
    "        break\n",
    "    else:\n",
    "        print(\"Mississipi\")\n",
    "print(\"Thank you\")"
   ]
  },
  {
   "cell_type": "code",
   "execution_count": 3,
   "metadata": {},
   "outputs": [
    {
     "name": "stdout",
     "output_type": "stream",
     "text": [
      "2\n",
      "4\n",
      "6\n",
      "8\n",
      "0\n"
     ]
    }
   ],
   "source": [
    "# continue statements:\n",
    "for i in [2,3,4,6,8,0]:\n",
    "    if (i%2!=0):\n",
    "        continue\n",
    "    print(i)\n"
   ]
  },
  {
   "cell_type": "code",
   "execution_count": 4,
   "metadata": {},
   "outputs": [
    {
     "name": "stdout",
     "output_type": "stream",
     "text": [
      "0\n",
      "1\n",
      "2\n",
      "3\n",
      "4\n",
      "5\n",
      "6\n",
      "7\n",
      "8\n",
      "9\n",
      "10\n",
      "11\n",
      "12\n",
      "13\n",
      "14\n",
      "15\n",
      "16\n",
      "17\n",
      "18\n",
      "19\n",
      "20\n",
      "21\n",
      "22\n",
      "23\n",
      "24\n",
      "25\n",
      "26\n",
      "27\n",
      "28\n",
      "29\n",
      "30\n",
      "31\n",
      "32\n",
      "33\n",
      "34\n",
      "35\n",
      "36\n",
      "37\n",
      "38\n",
      "39\n",
      "40\n",
      "41\n",
      "42\n",
      "43\n",
      "44\n",
      "45\n",
      "46\n",
      "47\n",
      "48\n",
      "49\n"
     ]
    }
   ],
   "source": [
    "i=0\n",
    "while True:\n",
    "    print(i)\n",
    "    i=i+1\n",
    "    if(i%50==0):\n",
    "        break"
   ]
  }
 ],
 "metadata": {
  "kernelspec": {
   "display_name": "Python 3",
   "language": "python",
   "name": "python3"
  },
  "language_info": {
   "codemirror_mode": {
    "name": "ipython",
    "version": 3
   },
   "file_extension": ".py",
   "mimetype": "text/x-python",
   "name": "python",
   "nbconvert_exporter": "python",
   "pygments_lexer": "ipython3",
   "version": "3.13.0"
  }
 },
 "nbformat": 4,
 "nbformat_minor": 2
}
