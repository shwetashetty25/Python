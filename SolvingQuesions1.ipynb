{
 "cells": [
  {
   "cell_type": "code",
   "execution_count": 1,
   "metadata": {},
   "outputs": [
    {
     "name": "stdout",
     "output_type": "stream",
     "text": [
      "3.0 Is Odd Number\n"
     ]
    }
   ],
   "source": [
    "#1.WAP a program to check weather a number is even or odd.\n",
    "a=float(input(\"Enter the number\"))\n",
    "  \n",
    "if a%2 == 0:\n",
    "    print(a,\"Is Even Number\")\n",
    "else:\n",
    "    print(a, \"Is Odd Number\")\n"
   ]
  },
  {
   "cell_type": "code",
   "execution_count": 2,
   "metadata": {},
   "outputs": [
    {
     "name": "stdout",
     "output_type": "stream",
     "text": [
      "You are Eligible to Vote\n"
     ]
    }
   ],
   "source": [
    "#2.WAP to check whether person is eligible for voting\n",
    "a=float(input(\"Enter the Age\"))\n",
    "if a>=18:\n",
    "    print(\"You are Eligible to Vote\")\n",
    "if a<18:\n",
    "    print(\"You are Not Eligible to Vote\")"
   ]
  },
  {
   "cell_type": "code",
   "execution_count": 3,
   "metadata": {},
   "outputs": [
    {
     "name": "stdout",
     "output_type": "stream",
     "text": [
      "Wednesday\n"
     ]
    }
   ],
   "source": [
    "#3.WAP to enter a number between 1 to 7 as days of week and print the day accordingly.(Monday, Tuesday ...) using if elif case\n",
    "a=float(input(\"Enter the Number\"))\n",
    "if a==1:\n",
    "    print(\"Monday\")\n",
    "elif a==2:\n",
    "    print(\"Tuesday\")\n",
    "elif a==3:\n",
    "    print(\"Wednesday\")\n",
    "elif a==4:\n",
    "    print(\"Thursday\")\n",
    "elif a==5:\n",
    "    print(\"Friday\")\n",
    "elif a==6:\n",
    "    print(\"Saturday\")\n",
    "elif a==7:\n",
    "    print(\"Sunday\")\n",
    "else:\n",
    "    print(\"Enter Between 1 to 7\")"
   ]
  },
  {
   "cell_type": "code",
   "execution_count": 4,
   "metadata": {},
   "outputs": [
    {
     "name": "stdout",
     "output_type": "stream",
     "text": [
      "Thursday\n"
     ]
    }
   ],
   "source": [
    "#4.WAP to enter a numbet between 1 to 7 as days of week and print the day accordingly. (Monday, Tuesday ...) using match case\n",
    "a=float(input(\"Enter the Number\"))\n",
    "match a:\n",
    "    case 1:\n",
    "        print(\"Monday\")\n",
    "    \n",
    "    case 2:\n",
    "        print(\"Tuesday\")\n",
    "    \n",
    "    case 3:\n",
    "        print(\"Wednesday\")\n",
    "    \n",
    "    case 4:\n",
    "        print(\"Thursday\")\n",
    "    \n",
    "    case 5:\n",
    "        print(\"Friday\")\n",
    "    \n",
    "    case 6:\n",
    "        print(\"Saturday\")\n",
    "\n",
    "    case 7:\n",
    "        print(\"Sunday\")\n",
    "\n",
    "    case _:\n",
    "        print(\"Number not between 1 to 7\")"
   ]
  },
  {
   "cell_type": "code",
   "execution_count": 5,
   "metadata": {},
   "outputs": [
    {
     "name": "stdout",
     "output_type": "stream",
     "text": [
      "2006.0 It is not a leap year\n"
     ]
    }
   ],
   "source": [
    "#5.WAP to check whether a year is leap year or not. A year is a leap year if \"any one of\" the following conditions are satisfied\n",
    "#a.The year is multiple of 400\n",
    "#b.The year is multiple of 4 and not a multiple of 100\n",
    "a=float(input(\"Enter the number\"))\n",
    "if a%400 == 0:\n",
    "    print(a,\"Is Multiple of 400 and it is also a leap year\")\n",
    "\n",
    "elif a%4 == 0 and a%100 == 0:\n",
    "    print(a,\"Year is multiple of 4 and not a multiple of 100 and it is also a leap year\")\n",
    "else:\n",
    "    print(a,\"It is not a leap year\")"
   ]
  },
  {
   "cell_type": "code",
   "execution_count": 6,
   "metadata": {},
   "outputs": [
    {
     "name": "stdout",
     "output_type": "stream",
     "text": [
      "Grade B\n"
     ]
    }
   ],
   "source": [
    "#6.WAP to calculate to take in the marks of 5 subjects, compute average and display the grade as per following rules\n",
    "#average >=90:\"A\"\n",
    "#average >=80:\"B\"\n",
    "#average >=70:\"C\"\n",
    "#average >=60:\"D\"\n",
    "\n",
    "eng=float(input(\"Enter the Marks for English\"))\n",
    "math=float(input(\"Enter the Marks for Math\"))\n",
    "bio=float(input(\"Enter the Marks for Biology\"))\n",
    "phy=float(input(\"Enter the Marks for Physics\"))\n",
    "hin=float(input(\"Enter the Marks for Hindi\"))\n",
    "\n",
    "avg=(eng+math+bio+phy+hin)/5\n",
    "if avg>=90:\n",
    "    print(\"Grade A\")\n",
    "elif avg>=80:\n",
    "    print(\"Grade B\")\n",
    "elif avg>=70:\n",
    "    print(\"Grade C\")\n",
    "elif avg>=60:\n",
    "    print(\"Grade D\")\n",
    "else:\n",
    "    print(\"Grade F\")"
   ]
  },
  {
   "cell_type": "code",
   "execution_count": 1,
   "metadata": {},
   "outputs": [
    {
     "name": "stdout",
     "output_type": "stream",
     "text": [
      "M is a consonant\n"
     ]
    }
   ],
   "source": [
    "#7.WAP to input a character. Check whether the character is vowel or consonant\n",
    "ch2=input(\"enter a character\")\n",
    "match ch2:\n",
    "    case 'a'|'e'|'i'|'o'|'u':\n",
    "        print(f\"{ch2} is a vowel\")\n",
    "\n",
    "    case _:\n",
    "        print(f\"{ch2} is a consonant\")"
   ]
  },
  {
   "cell_type": "code",
   "execution_count": 3,
   "metadata": {},
   "outputs": [
    {
     "name": "stdout",
     "output_type": "stream",
     "text": [
      "10 found in the list.\n"
     ]
    }
   ],
   "source": [
    "#8.WAP to search an element in a list [use for: else clause]\n",
    "a = [10, 20, 30, 40, 50]\n",
    "b = int(input(\"Enter the element to search: \"))\n",
    "for i in a:\n",
    "    if i == b:\n",
    "        print(f\"{b} found in the list.\")\n",
    "        break\n",
    "else:\n",
    "    print(f\"{b} not found in the list.\")"
   ]
  },
  {
   "cell_type": "code",
   "execution_count": 8,
   "metadata": {},
   "outputs": [
    {
     "name": "stdout",
     "output_type": "stream",
     "text": [
      "Four\n"
     ]
    }
   ],
   "source": [
    "#Write a program to take a single digit number from the key board and print its spelling in English word using if elif.\n",
    "a=int(input(\"Enter a Digit : \"))\n",
    "if a==0:\n",
    "    print(\"Zero\")\n",
    "elif a==1:\n",
    "    print(\"One\")\n",
    "elif a==2:\n",
    "    print(\"Two\")\n",
    "elif a==3:\n",
    "    print(\"Three\")\n",
    "elif a==4:\n",
    "    print(\"Four\")\n",
    "elif a==5:\n",
    "    print(\"Five\")\n",
    "elif a==6:\n",
    "    print(\"Six\")\n",
    "elif a==7:\n",
    "    print(\"Seven\")\n",
    "elif a==8:\n",
    "    print(\"Eight\")\n",
    "elif a==9:\n",
    "    print(\"Nine\")\n",
    "else:\n",
    "    print(\"Number is not a single digit\")"
   ]
  },
  {
   "cell_type": "code",
   "execution_count": 6,
   "metadata": {},
   "outputs": [
    {
     "name": "stdout",
     "output_type": "stream",
     "text": [
      "Numbers in ascending order: [1, 192, 19892]\n"
     ]
    }
   ],
   "source": [
    "#10.WAP to input three numbers and arrange them in ascending numbers.\n",
    "a = int(input(\"Enter first number: \"))\n",
    "b = int(input(\"Enter second number: \"))\n",
    "c = int(input(\"Enter third number: \"))\n",
    "d = [a, b, c]\n",
    "d.sort()\n",
    "print(\"Numbers in ascending order:\", d)"
   ]
  },
  {
   "cell_type": "code",
   "execution_count": 9,
   "metadata": {},
   "outputs": [
    {
     "name": "stdout",
     "output_type": "stream",
     "text": [
      "Four\n"
     ]
    }
   ],
   "source": [
    "#11.Write a program to take a single digit number from the key board and print its spelling in English word using match case\n",
    "a=int(input(\"Enter a Digit : \"))\n",
    "match a:\n",
    "    case 0:\n",
    "        print(\"Zero\")\n",
    "    case 1:\n",
    "        print(\"One\")\n",
    "    case 2:\n",
    "        print(\"Two\")\n",
    "    case 3:\n",
    "        print(\"Three\")\n",
    "    case 4:\n",
    "        print(\"Four\")\n",
    "    case 5:\n",
    "        print(\"Five\")\n",
    "    case 6:\n",
    "        print(\"Six\")\n",
    "    case 7:\n",
    "        print(\"Seven\")\n",
    "    case 8:\n",
    "        print(\"Eight\")\n",
    "    case 9:\n",
    "        print(\"Nine\")\n",
    "    case _:\n",
    "        print(\"Number is not a single digit\")"
   ]
  },
  {
   "cell_type": "code",
   "execution_count": 10,
   "metadata": {},
   "outputs": [
    {
     "name": "stdout",
     "output_type": "stream",
     "text": [
      "Addition :  100\n"
     ]
    }
   ],
   "source": [
    "#12.WAP to read two numbers and arithmetic operator [+,-,*,/,%] perform the operation and display the computed result. [Hint: use elif statement]\n",
    "a=int(input(\"Enter 1st Number : \"))\n",
    "b=int(input(\"Enter 2nd Number : \"))\n",
    "c=input(\"Enter Arithmetic Operation (*,/,%,+,-) : \")\n",
    "if c=='+':\n",
    "    print(\"Addition : \",a+b)\n",
    "elif c=='-':\n",
    "    print(\"Subtraction : \",a-b)\n",
    "elif c=='*':\n",
    "    print(\"Multiplication : \",a*b)\n",
    "elif c=='/':\n",
    "    print(\"Division : \",a/b)\n",
    "elif c=='%':\n",
    "    print(\"Modulus : \",a%b)\n",
    "else:\n",
    "    print(\"Invalid Arithmetic Operation\")"
   ]
  },
  {
   "cell_type": "code",
   "execution_count": 1,
   "metadata": {},
   "outputs": [
    {
     "name": "stdout",
     "output_type": "stream",
     "text": [
      " is another type of character.\n"
     ]
    }
   ],
   "source": [
    "#13.WAP to check whether a inputted character is uppercase or lowercase or digit or any other character.\n",
    "char = input(\"Enter a character:\")\n",
    "if char.isupper():\n",
    "    print(f\"{char} is an uppercase letter.\")\n",
    "elif char.islower():\n",
    "    print(f\"{char} is a lowercase letter.\")\n",
    "elif char.isdigit():\n",
    "    print(f\"{char} is a digit.\")\n",
    "else:\n",
    "    print(f\"{char} is another type of character.\")\n"
   ]
  },
  {
   "cell_type": "code",
   "execution_count": 3,
   "metadata": {},
   "outputs": [
    {
     "name": "stdout",
     "output_type": "stream",
     "text": [
      "Secret Number is less than 85\n",
      "Secret Number is less than 85\n",
      "Secret Number is less than 84\n",
      "Secret Number is less than 83\n",
      "Secret Number is less than 82\n",
      "Secret Number is less than 81\n",
      "Secret Number is less than 80\n",
      "Secret Number is less than 71\n",
      "Secret Number is less than 40\n",
      " Secret Number is greater than 1\n",
      " Secret Number is greater than 20\n",
      "Secret Number is less than 30\n",
      "Secret Number is less than 25\n",
      " Secret Number is greater than 21\n",
      " Secret Number is greater than 22\n",
      " Secret Number is greater than 23\n",
      " Secret Number is greater than 23\n",
      " Secret Number is greater than 2\n",
      "You guessed it! The secret number is 24\n"
     ]
    }
   ],
   "source": [
    "#14.Develop a number guessing game using loops and conditional statements. Ask user to guess a secret number. If user has not guessed correct number, provide him/her hint.\n",
    "from random import randint\n",
    "LOW, HIGH = 1, 100\n",
    "secret_number = randint (LOW, HIGH)\n",
    "while True:\n",
    "    guess = input(f\"Guess a number between {LOW} and {HIGH} \")\n",
    "    number = int(guess)\n",
    "    if number > secret_number:\n",
    "        print (f\"Secret Number is less than {number}\")\n",
    "    elif number < secret_number:\n",
    "        print(f\" Secret Number is greater than {number}\")\n",
    "    else:\n",
    "        break\n",
    "print(f\"You guessed it! The secret number is {number}\")"
   ]
  },
  {
   "cell_type": "code",
   "execution_count": 8,
   "metadata": {},
   "outputs": [
    {
     "name": "stdout",
     "output_type": "stream",
     "text": [
      "Enter correct username and password combo to continue\n",
      "Access denied. Try Again\n",
      "Access denied. Try Again\n",
      "Access denied. Try Again\n",
      "Access denied. Try Again\n",
      "Access granted\n"
     ]
    }
   ],
   "source": [
    "#15.WAP to prompt user to enter name and password until it enters \"stud\" in name and \"pass\" in password. Allow only five attempts\n",
    "print(\"Enter correct username and password combo to continue\")\n",
    "count = 0\n",
    "while count < 5:\n",
    "    name,pwd=input(\"Enter Name and password\").split()\n",
    "    if name == \"stud\" and pwd == \"pass\":\n",
    "        print(\"Access granted\")\n",
    "        break\n",
    "    else:\n",
    "        if count == 4:\n",
    "            print(\"Sorry, Attempts completed\")\n",
    "        else:\n",
    "            print(\"Access denied. Try Again\")\n",
    "        count+=1"
   ]
  },
  {
   "cell_type": "code",
   "execution_count": 9,
   "metadata": {},
   "outputs": [
    {
     "name": "stdout",
     "output_type": "stream",
     "text": [
      "15\n",
      "14\n",
      "13\n",
      "12\n",
      "11\n",
      "10\n",
      "9\n",
      "8\n",
      "7\n",
      "6\n",
      "5\n",
      "4\n",
      "3\n",
      "2\n",
      "1\n"
     ]
    }
   ],
   "source": [
    "#16.WAP to display numbers from 15 to 1 in descending order.\n",
    "for i in range(15, 0, -1):\n",
    "    print(i)"
   ]
  },
  {
   "cell_type": "code",
   "execution_count": 10,
   "metadata": {},
   "outputs": [
    {
     "name": "stdout",
     "output_type": "stream",
     "text": [
      "Sum of numbers from 11 to 200 is: 20237\n"
     ]
    }
   ],
   "source": [
    "#17.WAP to display sum of numbers from 11 to 200 using for loop.\n",
    "for i in range(11, 201):\n",
    "    a += i\n",
    "print(\"Sum of numbers from 11 to 200 is:\", a)"
   ]
  },
  {
   "cell_type": "code",
   "execution_count": 17,
   "metadata": {},
   "outputs": [
    {
     "name": "stdout",
     "output_type": "stream",
     "text": [
      "The average of numbers from 5 to 15 and 21 to 60 is: 33.92156862745098\n"
     ]
    }
   ],
   "source": [
    "#18.WAP to display average of numbers from 5 to 15 and 21 to 60.\n",
    "a = 0\n",
    "b = 0\n",
    "c = 0\n",
    "d = 0\n",
    "for i in range(5, 16):\n",
    "    a += i\n",
    "    b += 1\n",
    "for j in range(21, 61):\n",
    "    c += j\n",
    "    d += 1\n",
    "e = a + c\n",
    "f = b + d\n",
    "avg = e / f\n",
    "print(\"The average of numbers from 5 to 15 and 21 to 60 is:\", avg)"
   ]
  },
  {
   "cell_type": "code",
   "execution_count": 18,
   "metadata": {},
   "outputs": [
    {
     "name": "stdout",
     "output_type": "stream",
     "text": [
      "5\n",
      "7\n",
      "9\n",
      "11\n",
      "13\n",
      "15\n",
      "17\n",
      "19\n",
      "21\n",
      "23\n",
      "25\n",
      "27\n",
      "29\n"
     ]
    }
   ],
   "source": [
    "#19.WAP to display odd numbers from 5 to 30.\n",
    "for i in range(5, 31):\n",
    "    if i % 2 != 0:\n",
    "        print(i)"
   ]
  },
  {
   "cell_type": "code",
   "execution_count": 33,
   "metadata": {},
   "outputs": [
    {
     "name": "stdout",
     "output_type": "stream",
     "text": [
      "Factorial of 5 is 120\n"
     ]
    }
   ],
   "source": [
    "#20.WAP to find factorial of a number inputted by the user.\n",
    "a = int(input(\"Enter a number to calculate its factorial: \"))\n",
    "\n",
    "# with for loop\n",
    "b = 1\n",
    "for x in range(1, a + 1):\n",
    "    b *= x\n",
    "print(f\"Factorial of {a} is {b}\")"
   ]
  },
  {
   "cell_type": "code",
   "execution_count": null,
   "metadata": {},
   "outputs": [],
   "source": [
    "#21.WAP to find sum of digits of a int number.\n",
    "a = input(\"Enter an integer number: \")\n",
    "b = 0\n",
    "for i in a:\n",
    "    b += int(i)\n",
    "print(f\"The sum of the digits is: {b}\")"
   ]
  },
  {
   "cell_type": "code",
   "execution_count": 38,
   "metadata": {},
   "outputs": [
    {
     "name": "stdout",
     "output_type": "stream",
     "text": [
      "The sum of even numbers between 30 and 50 is: 440\n"
     ]
    }
   ],
   "source": [
    "#22.WAP to display sum of even numbers between 30 and 50.\n",
    "a = 0\n",
    "for i in range(30, 51):\n",
    "    if i % 2 == 0:\n",
    "        a += i\n",
    "print(f\"The sum of even numbers between 30 and 50 is: {a}\")"
   ]
  },
  {
   "cell_type": "code",
   "execution_count": 2,
   "metadata": {},
   "outputs": [
    {
     "name": "stdout",
     "output_type": "stream",
     "text": [
      "5 x 1 = 5\n",
      "5 x 2 = 10\n",
      "5 x 3 = 15\n",
      "5 x 4 = 20\n",
      "5 x 5 = 25\n",
      "5 x 6 = 30\n",
      "5 x 7 = 35\n",
      "5 x 8 = 40\n",
      "5 x 9 = 45\n",
      "5 x 10 = 50\n"
     ]
    }
   ],
   "source": [
    "#23.WAP to print multiplication table.\n",
    "a = int(input(\"Enter the number for the table: \"))\n",
    "sum=0\n",
    "for i in range(1, 11):\n",
    "    sum=a*i\n",
    "    print(f\"{a} x {i} = {sum}\")"
   ]
  },
  {
   "cell_type": "code",
   "execution_count": 20,
   "metadata": {},
   "outputs": [
    {
     "name": "stdout",
     "output_type": "stream",
     "text": [
      "1 \n",
      "2 2 \n",
      "3 3 3 \n",
      "4 4 4 4 \n"
     ]
    }
   ],
   "source": [
    "#24.WAP to print the following patterns:\n",
    "rows = int(input(\"Enter the number for the table: \"))\n",
    "\n",
    "for i in range(1,rows + 1):\n",
    "    for j in range(1, i + 1):\n",
    "        print(i, end=\" \")\n",
    "    print()"
   ]
  },
  {
   "cell_type": "code",
   "execution_count": 13,
   "metadata": {},
   "outputs": [
    {
     "name": "stdout",
     "output_type": "stream",
     "text": [
      "*\n",
      "**\n",
      "***\n",
      "****\n",
      "***\n",
      "**\n",
      "*\n"
     ]
    }
   ],
   "source": [
    "#25.WAP to print pattern:\n",
    "rows = int(input(\"Enter the number for the table: \"))\n",
    "\n",
    "for i in range(1,rows + 1):\n",
    "    print('*' * i)\n",
    "for i in range(rows - 1, 0, -1):\n",
    "    print('*' * i)"
   ]
  },
  {
   "cell_type": "code",
   "execution_count": 41,
   "metadata": {},
   "outputs": [
    {
     "name": "stdout",
     "output_type": "stream",
     "text": [
      "A \n",
      "B B \n",
      "C C C \n"
     ]
    }
   ],
   "source": [
    "#26.WAP to print pattern:\n",
    "rows = int(input(\"Enter the number of rows: \"))\n",
    "\n",
    "for i in range(1, rows + 1):\n",
    "    for j in range(i):\n",
    "        print(chr(64 + i), end=' ')\n",
    "    print()"
   ]
  },
  {
   "cell_type": "code",
   "execution_count": 73,
   "metadata": {},
   "outputs": [
    {
     "name": "stdout",
     "output_type": "stream",
     "text": [
      "10 Not Armstrong\n"
     ]
    }
   ],
   "source": [
    "#27.Write a program to find whether given number is an Armstrong Number\n",
    "n = int(input(\"Enter a number to check it is an Armstrong number or not\"))\n",
    "a = n // 100\n",
    "b = (n % 100) // 10\n",
    "c = n % 10\n",
    "if a**3 + b**3 + c**3 == n:\n",
    "  print(f\"{n} is Armstrong Number\")\n",
    "else:\n",
    "  print(f\"{n} is Not Armstrong Number\")\n"
   ]
  },
  {
   "cell_type": "code",
   "execution_count": 2,
   "metadata": {},
   "outputs": [
    {
     "name": "stdout",
     "output_type": "stream",
     "text": [
      "0 1 1 2 "
     ]
    }
   ],
   "source": [
    "#28.WAP to generate the Fibonacci series up to n terms.\n",
    "n = int(input(\"Enter the number of terms: \"))\n",
    "a = 0\n",
    "b = 1\n",
    "print(a, end=\" \")\n",
    "print(b, end=\" \")\n",
    "for i in range(2, n):\n",
    "  c = a + b\n",
    "  print(c, end=\" \")\n",
    "  a = b\n",
    "  b = c "
   ]
  },
  {
   "cell_type": "code",
   "execution_count": 90,
   "metadata": {},
   "outputs": [
    {
     "name": "stdout",
     "output_type": "stream",
     "text": [
      "6 is not a prime number.\n"
     ]
    }
   ],
   "source": [
    "#29.Write a program that check whether a number is prime number or not.\n",
    "a = int(input(\"Enter a number: \"))\n",
    "\n",
    "if a > 1:\n",
    "    for i in range(2, int(a ** 0.5) + 1):\n",
    "        if a % i == 0:\n",
    "            print(f\"{a} is not a prime number.\")\n",
    "            break\n",
    "    else:\n",
    "        print(f\"{a} is a prime number.\")\n",
    "else:\n",
    "    print(f\"{a} is not a prime number.\")"
   ]
  },
  {
   "cell_type": "code",
   "execution_count": 112,
   "metadata": {},
   "outputs": [
    {
     "name": "stdout",
     "output_type": "stream",
     "text": [
      "Sum: 15\n",
      "Average: 3.0\n"
     ]
    }
   ],
   "source": [
    "#30.WAP to calculate sum and average of a given array: arr=(‘i’,[1,2,3,4,5])\n",
    "import array as arr\n",
    "arr = [1, 2, 3, 4, 5]\n",
    "total_sum = 0\n",
    "for num in arr:\n",
    "    total_sum += num\n",
    "average = total_sum / len(arr)\n",
    "\n",
    "print(f\"Sum: {total_sum}\")\n",
    "print(f\"Average: {average}\")"
   ]
  },
  {
   "cell_type": "code",
   "execution_count": 113,
   "metadata": {},
   "outputs": [
    {
     "name": "stdout",
     "output_type": "stream",
     "text": [
      "Reversed array using reversed(): [5, 4, 3, 2, 1]\n"
     ]
    }
   ],
   "source": [
    "#31.Write a Python program to reverse the order of the items in the array.\n",
    "arr = [1, 2, 3, 4, 5]\n",
    "reversed_arr = list(reversed(arr))\n",
    "print(\"Reversed array using reversed():\", reversed_arr)"
   ]
  },
  {
   "cell_type": "code",
   "execution_count": 114,
   "metadata": {},
   "outputs": [
    {
     "name": "stdout",
     "output_type": "stream",
     "text": [
      "Array after removing duplicates: [1, 2, 3, 4, 5]\n"
     ]
    }
   ],
   "source": [
    "#32.Write a Python program to remove duplicate elements in a given array of integers\n",
    "arr = [1, 2, 3, 2, 4, 5, 5, 1]\n",
    "unique_arr = []\n",
    "\n",
    "for item in arr:\n",
    "    if item not in unique_arr:\n",
    "        unique_arr.append(item)\n",
    "\n",
    "print(\"Array after removing duplicates:\", unique_arr)"
   ]
  },
  {
   "cell_type": "code",
   "execution_count": 115,
   "metadata": {},
   "outputs": [
    {
     "name": "stdout",
     "output_type": "stream",
     "text": [
      "Reversed string: olleh\n"
     ]
    }
   ],
   "source": [
    "#33.Write a program that takes a string as input and prints it in reverse order.\n",
    "a = input(\"Enter a string: \")\n",
    "b = a[::-1]\n",
    "print(\"Reversed string:\", b)"
   ]
  },
  {
   "cell_type": "code",
   "execution_count": 123,
   "metadata": {},
   "outputs": [
    {
     "name": "stdout",
     "output_type": "stream",
     "text": [
      "Number of vowels in the given string: in 7\n"
     ]
    }
   ],
   "source": [
    "#34.Write a program that counts the number of vowels in a given string.\n",
    "a = input(\"Enter a string: \")\n",
    "b = \"aeiouAEIOU\"\n",
    "c = 0\n",
    "for i in a:\n",
    "    if i in b:\n",
    "        c += 1\n",
    "print(f\"Number of vowels in the given string: in\", c)"
   ]
  },
  {
   "cell_type": "code",
   "execution_count": 127,
   "metadata": {},
   "outputs": [
    {
     "name": "stdout",
     "output_type": "stream",
     "text": [
      "The string is a palindrome.\n"
     ]
    }
   ],
   "source": [
    "#35.Write a program that checks if a given string is a palindrome (reads the same forwards and backwards).\n",
    "a = input(\"Enter a string: \")\n",
    "b = a[::-1]\n",
    "\n",
    "if a == b:\n",
    "    print(\"The string is a palindrome.\")\n",
    "else:\n",
    "    print(\"The string is not a palindrome.\")"
   ]
  },
  {
   "cell_type": "code",
   "execution_count": 136,
   "metadata": {},
   "outputs": [
    {
     "name": "stdout",
     "output_type": "stream",
     "text": [
      "String after removing duplicates: helos\n"
     ]
    }
   ],
   "source": [
    "#36.Write a program that removes duplicate characters from a string.\n",
    "a = input(\"Enter a string: \")\n",
    "b = \"\"  \n",
    "\n",
    "for c in a:\n",
    "    if c not in b:\n",
    "        b += c  \n",
    "\n",
    "print(\"String after removing duplicates:\", b)"
   ]
  },
  {
   "cell_type": "code",
   "execution_count": 142,
   "metadata": {},
   "outputs": [
    {
     "name": "stdout",
     "output_type": "stream",
     "text": [
      "this\n",
      "is\n",
      "test\n"
     ]
    }
   ],
   "source": [
    "#37.WAP to print even length words in string\n",
    "a = input(\"Enter a string: \")\n",
    "\n",
    "b = a.split()\n",
    "\n",
    "for c in b:\n",
    "    d = len(c)\n",
    "    if d % 2 == 0:\n",
    "        print(c)\n",
    "\n",
    "#input given is \"Hello world this is a test\"\n"
   ]
  },
  {
   "cell_type": "code",
   "execution_count": 143,
   "metadata": {},
   "outputs": [
    {
     "name": "stdout",
     "output_type": "stream",
     "text": [
      "Pythonisveryeasy\n"
     ]
    }
   ],
   "source": [
    "#38.WAP to remove spaces from given string:\n",
    "#“Python is very easy”\n",
    "a = \"Python is very easy\"\n",
    "b = a.split()\n",
    "c = ''.join(b)\n",
    "print(c)"
   ]
  },
  {
   "cell_type": "code",
   "execution_count": 145,
   "metadata": {},
   "outputs": [
    {
     "name": "stdout",
     "output_type": "stream",
     "text": [
      "ABCDE\n"
     ]
    }
   ],
   "source": [
    "#39.WAP to convert given list of ASCII value to string. [65, 66, 67, 68, 69]\n",
    "a = [65, 66, 67, 68, 69]\n",
    "b = \"\"\n",
    "\n",
    "for c in a:\n",
    "    d = chr(c)\n",
    "    b += d\n",
    "\n",
    "print(b)"
   ]
  },
  {
   "cell_type": "code",
   "execution_count": 150,
   "metadata": {},
   "outputs": [
    {
     "name": "stdout",
     "output_type": "stream",
     "text": [
      "H-e-l-l-o\n"
     ]
    }
   ],
   "source": [
    "#40. WAP to print the individual characters of the string inputted by user in the following way\n",
    "#Example: H—e—l—l—o\n",
    "\n",
    "a = input(\"Enter a string: \")\n",
    "b = \"\"\n",
    "\n",
    "for c in a:\n",
    "    b += c + \"-\"\n",
    "\n",
    "b = b[:-1]\n",
    "print(b)"
   ]
  }
 ],
 "metadata": {
  "kernelspec": {
   "display_name": "Python 3",
   "language": "python",
   "name": "python3"
  },
  "language_info": {
   "codemirror_mode": {
    "name": "ipython",
    "version": 3
   },
   "file_extension": ".py",
   "mimetype": "text/x-python",
   "name": "python",
   "nbconvert_exporter": "python",
   "pygments_lexer": "ipython3",
   "version": "3.13.0"
  }
 },
 "nbformat": 4,
 "nbformat_minor": 2
}
