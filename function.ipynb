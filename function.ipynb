{
 "cells": [
  {
   "cell_type": "code",
   "execution_count": 1,
   "metadata": {},
   "outputs": [
    {
     "name": "stdout",
     "output_type": "stream",
     "text": [
      "2.0\n"
     ]
    }
   ],
   "source": [
    "# function:\n",
    "def calculateGmean(a,b):\n",
    "    mean=(a*b)/(a+b)\n",
    "    print(mean)\n",
    "a=3\n",
    "b=6\n",
    "calculateGmean(a,b)"
   ]
  },
  {
   "cell_type": "code",
   "execution_count": 2,
   "metadata": {},
   "outputs": [
    {
     "name": "stdout",
     "output_type": "stream",
     "text": [
      "7\n",
      "Second number is greater\n",
      "First number is lesser\n"
     ]
    }
   ],
   "source": [
    "# function\n",
    "a=int(input(\"Enter first number\"))\n",
    "b=int(input(\"Enter second number\"))\n",
    "def calculateAdd(a,b):\n",
    "    add=(a+b)\n",
    "    print(add)\n",
    "def isGreater(a,b):\n",
    "    if(a>b):\n",
    "        print(\"First number is greater\")\n",
    "    else:\n",
    "        print(\"Second number is greater\")\n",
    "def isLesser(a,b):\n",
    "    if(a<b):\n",
    "        print(\"First number is lesser\")\n",
    "    else:\n",
    "        print(\"Second number is lesser\")\n",
    "calculateAdd(a,b)\n",
    "isGreater(a,b)\n",
    "isLesser(a,b)"
   ]
  },
  {
   "cell_type": "code",
   "execution_count": 3,
   "metadata": {},
   "outputs": [
    {
     "name": "stdout",
     "output_type": "stream",
     "text": [
      "The average number is: 5.0\n"
     ]
    }
   ],
   "source": [
    "# function\n",
    "def average(a,b):\n",
    "    print(\"The average number is:\",(a+b)/2 )\n",
    "average(4,6)"
   ]
  }
 ],
 "metadata": {
  "kernelspec": {
   "display_name": "Python 3",
   "language": "python",
   "name": "python3"
  },
  "language_info": {
   "codemirror_mode": {
    "name": "ipython",
    "version": 3
   },
   "file_extension": ".py",
   "mimetype": "text/x-python",
   "name": "python",
   "nbconvert_exporter": "python",
   "pygments_lexer": "ipython3",
   "version": "3.13.0"
  }
 },
 "nbformat": 4,
 "nbformat_minor": 2
}
