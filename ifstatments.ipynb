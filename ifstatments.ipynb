{
 "cells": [
  {
   "cell_type": "code",
   "execution_count": 2,
   "metadata": {},
   "outputs": [
    {
     "name": "stdout",
     "output_type": "stream",
     "text": [
      "Eligible for voting\n"
     ]
    }
   ],
   "source": [
    "#.WAP to check whether person is eligible for voting.\n",
    "a=int(input(\"Enter a number\"))\n",
    "if a>18:\n",
    "    print(\"Eligible for voting\")\n",
    "else:\n",
    "    print(\"Not eligible for voting\")"
   ]
  },
  {
   "cell_type": "code",
   "execution_count": 3,
   "metadata": {},
   "outputs": [
    {
     "name": "stdout",
     "output_type": "stream",
     "text": [
      "a is even\n"
     ]
    }
   ],
   "source": [
    "#.WAP to check whether a number is even or odd.\n",
    "a=float(input(\"Enter a no.:\"))  \n",
    "if a%2==0:\n",
    "    print(\"a is even\")\n",
    "else:\n",
    "    print(\"a is odd\")"
   ]
  },
  {
   "cell_type": "code",
   "execution_count": null,
   "metadata": {},
   "outputs": [],
   "source": [
    "#.WAP to enter a number between 1 to 7 as days of a week and print the day accordingly.(Monday, Tuesday ...) using if elif case.\n",
    "weekday=int(input(\"Enter weekday day no.(1-7)\"))\n",
    "if weekday==1:\n",
    "    print(\"monday\")\n",
    "elif weekday==2:\n",
    "    print(\"Tuesday\")\n",
    "elif weekday==3:\n",
    "    print(\"Wednesday\")\n",
    "elif weekday==4:\n",
    "    print(\"Thursday\")\n",
    "elif weekday==5:\n",
    "    print(\"Friday\")\n",
    "elif weekday==6:\n",
    "    print(\"Saturday\")\n",
    "elif weekday==7:\n",
    "    print(\"Sunday\")\n",
    "elif(weekday<1):\n",
    "    print(\"Put a number between 1 and 7\")\n",
    "else:\n",
    "    (weekday>7)\n",
    "    print(\"Put a number between 1 and 7\")"
   ]
  },
  {
   "cell_type": "code",
   "execution_count": null,
   "metadata": {},
   "outputs": [],
   "source": [
    "# WAP to calculate to take in the marks of 5 subjects, compute average and display the grade as per following rules: • average >= 90 : “A\"• average >= 80 : “B\"• average >= 70 : “C\"• average= 60:“D”\n",
    "marks = [float(input(f\"Enter marks for subject {i + 1}: \")) for i in range(5)]\n",
    "average = sum(marks) / len(marks)\n",
    "if average >= 90:\n",
    "    grade = \"A\"\n",
    "elif average >= 80:\n",
    "    grade = \"B\"\n",
    "elif average >= 70:\n",
    "    grade = \"C\"\n",
    "elif average >= 60:\n",
    "    grade = \"D\"\n",
    "else:\n",
    "    grade = \"F\"\n",
    "    print(f\"Average marks: {average:.2f}\")\n",
    "print(f\"Grade: {grade}\")"
   ]
  },
  {
   "cell_type": "code",
   "execution_count": null,
   "metadata": {},
   "outputs": [],
   "source": [
    "# WAP to input a character. Check whether the character is vowel or consonant.\n",
    "char = input(\"Enter a character: \").lower()\n",
    "if len(char) == 1 and char.isalpha():\n",
    "    if char in 'aeiou':\n",
    "        print(f\"{char} is a vowel.\")\n",
    "    else:\n",
    "        print(f\"{char} is a consonant.\")\n",
    "else:\n",
    "    print(\"Invalid input! Please enter a single alphabetic character.\")\n"
   ]
  },
  {
   "cell_type": "code",
   "execution_count": null,
   "metadata": {},
   "outputs": [],
   "source": [
    "#Write a program to take a single digit number from the key board and print its spelling in English word using if elif.\n",
    "digit = input(\"Enter a single-digit number (0-9): \")\n",
    "if digit == \"0\":\n",
    "    print(\"Zero\")\n",
    "elif digit == \"1\":\n",
    "    print(\"One\")\n",
    "elif digit == \"2\":\n",
    "    print(\"Two\")\n",
    "elif digit == \"3\":\n",
    "    print(\"Three\")\n",
    "elif digit == \"4\":\n",
    "    print(\"Four\")\n",
    "elif digit == \"5\":\n",
    "    print(\"Five\")\n",
    "elif digit == \"6\":\n",
    "    print(\"Six\")\n",
    "elif digit == \"7\":\n",
    "    print(\"Seven\")\n",
    "elif digit == \"8\":\n",
    "    print(\"Eight\")\n",
    "elif digit == \"9\":\n",
    "    print(\"Nine\")\n",
    "else:\n",
    "    print(\"Invalid input! Please enter a single-digit number.\")"
   ]
  },
  {
   "cell_type": "code",
   "execution_count": 4,
   "metadata": {},
   "outputs": [
    {
     "name": "stdout",
     "output_type": "stream",
     "text": [
      "The result of 4.0 + 3.0 is: 7.0\n"
     ]
    }
   ],
   "source": [
    "#WAP to read two numbers and arithmetic operator [+,-,*,/,%] perform the operation and display the computed result. [Hint: use elif statement]\n",
    "num1 = float(input(\"Enter the first number: \"))\n",
    "num2 = float(input(\"Enter the second number: \"))\n",
    "operator = input(\"Enter an arithmetic operator (+, -, *, /, %): \")\n",
    "if operator == '+':\n",
    "    result = num1 + num2\n",
    "    print(f\"The result of {num1} + {num2} is: {result}\")\n",
    "elif operator == '-':\n",
    "    result = num1 - num2\n",
    "    print(f\"The result of {num1} - {num2} is: {result}\")\n",
    "elif operator == '*':\n",
    "    result = num1 * num2\n",
    "    print(f\"The result of {num1} * {num2} is: {result}\")\n",
    "elif operator == '/':\n",
    "    if num2 != 0:\n",
    "        result = num1 / num2\n",
    "        print(f\"The result of {num1} / {num2} is: {result}\")\n",
    "    else:\n",
    "        print(\"Error: Division by zero is not allowed.\")\n",
    "elif operator == '%':\n",
    "    if num2 != 0:\n",
    "        result = num1 % num2\n",
    "        print(f\"The result of {num1} % {num2} is: {result}\")\n",
    "    else:\n",
    "        print(\"Error: Division by zero is not allowed.\")\n",
    "else:\n",
    "    print(\"Invalid operator. Please use one of +, -, *, /, %.\")"
   ]
  },
  {
   "cell_type": "code",
   "execution_count": 5,
   "metadata": {},
   "outputs": [
    {
     "name": "stdout",
     "output_type": "stream",
     "text": [
      "shweta is a lowercase letter.\n"
     ]
    }
   ],
   "source": [
    "#WAP to check whether a inputted character is uppercase or lowercase or digit or any other character.\n",
    "char = input(\"Enter a character:\")\n",
    "if char.isupper():\n",
    "    print(f\"{char} is an uppercase letter.\")\n",
    "elif char.islower():\n",
    "    print(f\"{char} is a lowercase letter.\")\n",
    "elif char.isdigit():\n",
    "    print(f\"{char} is a digit.\")\n",
    "else:\n",
    "    print(f\"{char} is another type of character.\")\n"
   ]
  }
 ],
 "metadata": {
  "kernelspec": {
   "display_name": "Python 3",
   "language": "python",
   "name": "python3"
  },
  "language_info": {
   "codemirror_mode": {
    "name": "ipython",
    "version": 3
   },
   "file_extension": ".py",
   "mimetype": "text/x-python",
   "name": "python",
   "nbconvert_exporter": "python",
   "pygments_lexer": "ipython3",
   "version": "3.13.0"
  }
 },
 "nbformat": 4,
 "nbformat_minor": 2
}
